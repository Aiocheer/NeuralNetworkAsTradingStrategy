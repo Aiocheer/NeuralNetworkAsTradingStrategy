{
 "cells": [
  {
   "cell_type": "code",
   "execution_count": 71,
   "metadata": {},
   "outputs": [],
   "source": [
    "import warnings\n",
    "warnings.filterwarnings('ignore')\n",
    "import pandas as pd\n",
    "import numpy as np\n",
    "from matplotlib import pyplot as plt\n",
    "from math import sqrt\n",
    "from pytz import timezone\n",
    "\n",
    "from sklearn.metrics import mean_squared_error\n",
    "from sklearn.preprocessing import MinMaxScaler, Normalizer, RobustScaler\n",
    "from sklearn.model_selection import train_test_split\n",
    "from keras.models import Sequential\n",
    "from keras.layers import Dense\n",
    "from keras.layers import LSTM\n",
    "from keras.layers import Activation\n",
    "from keras.utils.np_utils import to_categorical\n",
    "from keras import optimizers\n",
    "import talib"
   ]
  },
  {
   "cell_type": "code",
   "execution_count": 2,
   "metadata": {
    "collapsed": true
   },
   "outputs": [],
   "source": [
    "# Fix the random seed to reproducibility\n",
    "# np.random.seed(7)"
   ]
  },
  {
   "cell_type": "code",
   "execution_count": 3,
   "metadata": {
    "collapsed": true
   },
   "outputs": [],
   "source": [
    "def get_CU():\n",
    "    import dovahkiin as dk\n",
    "    dp = dk.DataParser()\n",
    "    X = dp.get_data(\"cu\")\n",
    "    return X"
   ]
  },
  {
   "cell_type": "code",
   "execution_count": 4,
   "metadata": {
    "collapsed": true
   },
   "outputs": [],
   "source": [
    "def get_SP500():\n",
    "    import pandas_datareader as pdr    \n",
    "    SP500 = pdr.get_data_yahoo('^GSPC')\n",
    "    return SP500"
   ]
  },
  {
   "cell_type": "code",
   "execution_count": 5,
   "metadata": {
    "collapsed": true
   },
   "outputs": [],
   "source": [
    "def get_X_data():\n",
    "    import dovahkiin as dk\n",
    "    dp = dk.DataParser()\n",
    "    X = dp.get_data(\"cu\")\n",
    "    return X"
   ]
  },
  {
   "cell_type": "code",
   "execution_count": 6,
   "metadata": {
    "collapsed": true
   },
   "outputs": [],
   "source": [
    "X = get_X_data()"
   ]
  },
  {
   "cell_type": "markdown",
   "metadata": {},
   "source": [
    "## Add Features"
   ]
  },
  {
   "cell_type": "code",
   "execution_count": 7,
   "metadata": {
    "collapsed": true
   },
   "outputs": [],
   "source": [
    "high = X.high.values\n",
    "low = X.low.values\n",
    "close = X.close.values\n",
    "volume = X.volume.astype(np.float64).values"
   ]
  },
  {
   "cell_type": "code",
   "execution_count": 8,
   "metadata": {},
   "outputs": [],
   "source": [
    "# Min Max Scaler\n",
    "X[\"%K\"], X[\"%D\"] = talib.STOCHF(X.high.values, X.low.values, X.close.values)\n",
    "_, X[\"Slow %D\"] = talib.STOCH(X.high.values, X.low.values, X.close.values)\n",
    "X[\"RSI\"] = talib.RSI(close)\n",
    "X[\"WilliamsR\"] = talib.WILLR(X.high.values, X.low.values, X.close.values)\n",
    "X[\"-DI\"] = talib.MINUS_DI(high, low, close)\n",
    "X[\"+DI\"] = talib.PLUS_DI(high, low, close)\n",
    "X[\"CMO\"] = talib.CMO(close)\n",
    "X[\"AroonOSC\"] = talib.AROONOSC(high, low)\n",
    "X[\"ADX\"] = talib.ADX(high, low, close)\n",
    "X[\"AroonDown\"], X[\"AroonUp\"] = talib.AROON(high, low)\n",
    "X[\"ADXR\"] = talib.ADXR(high, low, close)\n",
    "\n",
    "_top, _mid, _bot = talib.BBANDS(close)\n",
    "diff = _top - _bot\n",
    "diff[(_top - _bot) < 1] = 1\n",
    "X[\"%B\"] = (X.close - _bot)/diff\n",
    "X[\"UltimateOscillator\"] = talib.ULTOSC(high, low, close)\n",
    "X[\"MFI\"] = talib.MFI(high, low, close, volume)\n",
    "\n",
    "# Scale the same as raw prices\n",
    "\"\"\"\n",
    "X[\"DEMA\"] = talib.DEMA(close)\n",
    "X[\"EMA\"] = talib.EMA(close)\n",
    "X[\"kAMA\"] = talib.KAMA(close)\n",
    "X[\"TEMA\"] = talib.TEMA(close)\n",
    "X[\"TRIMA\"] = talib.TRIMA(close)\n",
    "X[\"WMA\"] = talib.WMA(close)\n",
    "X[\"MA\"] = talib.MA(close)\n",
    "X[\"MAMA\"], _ = talib.MAMA(close)\n",
    "X[\"BBTop\"], X[\"BBMid\"], X[\"BBBot\"] = talib.BBANDS(close)\n",
    "X[\"HHV\"] = talib.MAX(close)\n",
    "X[\"LLV\"] = talib.MIN(close)\n",
    "X[\"ParabolicSAR\"] = talib.SAR(high, low)\n",
    "\n",
    "# No Scaling Needed\n",
    "X[\"BOP\"] = talib.BOP(X.open.values, high, low, close)\n",
    "X[\"PVI\"] = (close - X.open.values) / (high - low)\n",
    "\n",
    "# Scale as percentage\n",
    "X[\"ROC\"] = talib.ROC(X.close.values)\n",
    "\n",
    "# No Sure what to do\n",
    "X[\"Momentum\"] = talib.MOM(X.close.values)\n",
    "X[\"CCI\"] = talib.CCI(high, low, close)\n",
    "X[\"APO\"] = talib.APO(close)\n",
    "X[\"-DM\"] = talib.MINUS_DM(high, low)\n",
    "X[\"+DM\"] = talib.PLUS_DM(high, low)\n",
    "X[\"ATR\"] = talib.ATR(high, low, close)\n",
    "X[\"BBWidth\"] = X[\"BBTop\"] - X[\"BBBot\"]\n",
    "X[\"MACD\"], X[\"MACDSig\"], X[\"MACDHist\"] = talib.MACD(close)\n",
    "X[\"PPO\"] = talib.PPO(close)\n",
    "X[\"ADOscillator\"] = talib.ADOSC(high, low, close, volume)\n",
    "X[\"TRIX\"] = talib.TRIX(close)\n",
    "\"\"\";\n"
   ]
  },
  {
   "cell_type": "markdown",
   "metadata": {},
   "source": [
    "## Divide Data into Train and Test"
   ]
  },
  {
   "cell_type": "code",
   "execution_count": 9,
   "metadata": {},
   "outputs": [
    {
     "name": "stdout",
     "output_type": "stream",
     "text": [
      "Test: 33.35%\n",
      "Train: 66.65%\n"
     ]
    }
   ],
   "source": [
    "X_train = X[\"2012\":\"2015\"]\n",
    "X_test = X[\"2016\":]\n",
    "print(\"Test: {:.2f}%\".format(100 * len(X_test)/len(X[\"2012\":])))\n",
    "print(\"Train: {:.2f}%\".format(100 * len(X_train)/len(X[\"2012\":])))"
   ]
  },
  {
   "cell_type": "code",
   "execution_count": null,
   "metadata": {
    "collapsed": true
   },
   "outputs": [],
   "source": []
  },
  {
   "cell_type": "code",
   "execution_count": null,
   "metadata": {
    "collapsed": true
   },
   "outputs": [],
   "source": []
  },
  {
   "cell_type": "code",
   "execution_count": 10,
   "metadata": {},
   "outputs": [
    {
     "data": {
      "text/plain": [
       "166845"
      ]
     },
     "execution_count": 10,
     "metadata": {},
     "output_type": "execute_result"
    }
   ],
   "source": [
    "len(X_test)"
   ]
  },
  {
   "cell_type": "code",
   "execution_count": 11,
   "metadata": {},
   "outputs": [
    {
     "data": {
      "text/plain": [
       "333465"
      ]
     },
     "execution_count": 11,
     "metadata": {},
     "output_type": "execute_result"
    }
   ],
   "source": [
    "len(X_train)"
   ]
  },
  {
   "cell_type": "code",
   "execution_count": 12,
   "metadata": {},
   "outputs": [
    {
     "data": {
      "text/plain": [
       "(958635, 22)"
      ]
     },
     "execution_count": 12,
     "metadata": {},
     "output_type": "execute_result"
    }
   ],
   "source": [
    "X.shape"
   ]
  },
  {
   "cell_type": "code",
   "execution_count": null,
   "metadata": {
    "collapsed": true
   },
   "outputs": [],
   "source": []
  },
  {
   "cell_type": "markdown",
   "metadata": {},
   "source": [
    "## Normalization of Data"
   ]
  },
  {
   "cell_type": "code",
   "execution_count": 13,
   "metadata": {},
   "outputs": [],
   "source": [
    "assert(not (X[\"2012\":] == np.inf).any().any())"
   ]
  },
  {
   "cell_type": "code",
   "execution_count": 14,
   "metadata": {},
   "outputs": [],
   "source": [
    "scalers = {\n",
    "    \"%K\": MinMaxScaler(),\n",
    "    \"%D\": MinMaxScaler(),\n",
    "    \"Slow %D\": MinMaxScaler(),\n",
    "    \"RSI\": MinMaxScaler(),\n",
    "    \"WilliamsR\": MinMaxScaler(),\n",
    "    \"-DI\": MinMaxScaler(),\n",
    "    \"+DI\": MinMaxScaler(),\n",
    "    \"CMO\": MinMaxScaler(),\n",
    "    \"AroonOSC\": MinMaxScaler(),\n",
    "    \"ADX\": MinMaxScaler(),\n",
    "    \"AroonDown\": MinMaxScaler(),\n",
    "    \"AroonUp\": MinMaxScaler(),\n",
    "    \"ADXR\": MinMaxScaler(),\n",
    "    \"UltimateOscillator\": MinMaxScaler(),\n",
    "    \"MFI\": MinMaxScaler(),\n",
    "    \"%B\": MinMaxScaler()\n",
    "}"
   ]
  },
  {
   "cell_type": "code",
   "execution_count": 15,
   "metadata": {},
   "outputs": [],
   "source": [
    "del X_train['open']\n",
    "del X_train['high'] \n",
    "del X_train['low']\n",
    "del X_train['close']\n",
    "del X_train['volume']\n",
    "del X_train['openint']\n",
    "\n",
    "del X_test['open']\n",
    "del X_test['high'] \n",
    "del X_test['low']\n",
    "del X_test['close']\n",
    "del X_test['volume']\n",
    "del X_test['openint']"
   ]
  },
  {
   "cell_type": "code",
   "execution_count": null,
   "metadata": {},
   "outputs": [],
   "source": []
  },
  {
   "cell_type": "code",
   "execution_count": 16,
   "metadata": {},
   "outputs": [],
   "source": [
    "scaler = MinMaxScaler()"
   ]
  },
  {
   "cell_type": "code",
   "execution_count": 17,
   "metadata": {},
   "outputs": [],
   "source": [
    "X_train = pd.DataFrame(scaler.fit_transform(X_train), columns=X_train.columns, index=X_train.index)"
   ]
  },
  {
   "cell_type": "code",
   "execution_count": 18,
   "metadata": {},
   "outputs": [],
   "source": [
    "X_test = pd.DataFrame(scaler.transform(X_test), columns=X_test.columns, index=X_test.index)"
   ]
  },
  {
   "cell_type": "markdown",
   "metadata": {},
   "source": [
    "## AutoEncoder"
   ]
  },
  {
   "cell_type": "code",
   "execution_count": null,
   "metadata": {
    "collapsed": true
   },
   "outputs": [],
   "source": []
  },
  {
   "cell_type": "code",
   "execution_count": 84,
   "metadata": {
    "collapsed": true
   },
   "outputs": [],
   "source": [
    "from keras.layers import Input, Dense\n",
    "from keras.models import Model"
   ]
  },
  {
   "cell_type": "code",
   "execution_count": 96,
   "metadata": {
    "collapsed": true
   },
   "outputs": [],
   "source": [
    "def train_simple_autoencoder(encoder):\n",
    "    encoding_dim = 8 # 54 dim -> 16 dim\n",
    "    input_layer = Input(shape=(X_train.shape[1],))\n",
    "    \n",
    "    # \"encoded\" is the encoded representation of the input\n",
    "    encoded = Dense(encoding_dim, activation='relu')(input_layer)\n",
    "    # \"decoded\" is the lossy reconstruction of the input\n",
    "    decoded = Dense(X_train.shape[1])(encoded)\n",
    "    # this model maps an input to its reconstruction\n",
    "    autoencoder = Model(input_layer, decoded)\n",
    "    \n",
    "    encoded_input = Input(shape=(encoding_dim,))\n",
    "    encoder = Model(input_layer, encoded)\n",
    "    \n",
    "    decoder_layer = autoencoder.layers[-1]\n",
    "    decoder = Model(encoded_input, decoder_layer(encoded_input))\n",
    "    \n",
    "    autoencoder.compile(optimizer=\"adadelta\", loss='mse')\n",
    "    history = autoencoder.fit(X_train.values, X_train.values, epochs=100, batch_size=32, validation_split=0.2, shuffle=False)\n",
    "    \n",
    "    return (history, autoencoder, encoder, decoder)"
   ]
  },
  {
   "cell_type": "code",
   "execution_count": 157,
   "metadata": {},
   "outputs": [],
   "source": [
    "def train_deep_autoencoder(dim=8):\n",
    "    encoding_dim = 8 # 54 dim -> 16 dim\n",
    "    input_layer = Input(shape=(X_train.shape[1],))\n",
    "    \n",
    "    encoded = Dense(int(X_train.shape[1]), activation='relu')(input_layer)\n",
    "    encoded = Dense(encoding_dim, activation='relu')(encoded)\n",
    "    \n",
    "    decoded = Dense(encoding_dim*2, activation='sigmoid')(encoded)    \n",
    "    decoded = Dense(X_train.shape[1])(decoded)\n",
    "    \n",
    "    # this model maps an input to its reconstruction\n",
    "    autoencoder = Model(input_layer, decoded)\n",
    "    \n",
    "    encoded_input = Input(shape=(encoding_dim,))\n",
    "    encoder = Model(input_layer, encoded)\n",
    "    \n",
    "    decoder_layer2 = autoencoder.layers[-2]\n",
    "    decoder_layer1 = autoencoder.layers[-1]\n",
    "    decoder = Model(encoded_input, decoder_layer1(decoder_layer2(encoded_input)))\n",
    "    \n",
    "    autoencoder.compile(optimizer=\"adadelta\", loss='mse')\n",
    "    history = autoencoder.fit(X_train.values, X_train.values, epochs=100, batch_size=32, validation_split=0.2, shuffle=False)\n",
    "    \n",
    "    return (history, autoencoder, encoder, decoder)"
   ]
  },
  {
   "cell_type": "code",
   "execution_count": 158,
   "metadata": {},
   "outputs": [
    {
     "name": "stdout",
     "output_type": "stream",
     "text": [
      "Train on 266772 samples, validate on 66693 samples\n",
      "Epoch 1/100\n",
      "266772/266772 [==============================] - 16s - loss: 0.0179 - val_loss: 0.0044\n",
      "Epoch 2/100\n",
      "266772/266772 [==============================] - 16s - loss: 0.0036 - val_loss: 0.0027\n",
      "Epoch 3/100\n",
      "266772/266772 [==============================] - 16s - loss: 0.0028 - val_loss: 0.0023\n",
      "Epoch 4/100\n",
      "266772/266772 [==============================] - 16s - loss: 0.0023 - val_loss: 0.0018\n",
      "Epoch 5/100\n",
      "266772/266772 [==============================] - 16s - loss: 0.0015 - val_loss: 0.0011\n",
      "Epoch 6/100\n",
      "266772/266772 [==============================] - 16s - loss: 0.0011 - val_loss: 0.0010\n",
      "Epoch 7/100\n",
      "266772/266772 [==============================] - 16s - loss: 0.0011 - val_loss: 9.8988e-04\n",
      "Epoch 8/100\n",
      "266772/266772 [==============================] - 16s - loss: 0.0011 - val_loss: 9.8188e-04\n",
      "Epoch 9/100\n",
      "266772/266772 [==============================] - 16s - loss: 0.0010 - val_loss: 9.7693e-04\n",
      "Epoch 10/100\n",
      "266772/266772 [==============================] - 16s - loss: 0.0010 - val_loss: 9.7352e-04\n",
      "Epoch 11/100\n",
      "266772/266772 [==============================] - 16s - loss: 0.0010 - val_loss: 9.7102e-04\n",
      "Epoch 12/100\n",
      "266772/266772 [==============================] - 16s - loss: 0.0010 - val_loss: 9.6911e-04\n",
      "Epoch 13/100\n",
      "266772/266772 [==============================] - 16s - loss: 0.0010 - val_loss: 9.6760e-04\n",
      "Epoch 14/100\n",
      "266772/266772 [==============================] - 16s - loss: 0.0010 - val_loss: 9.6635e-04\n",
      "Epoch 15/100\n",
      "266772/266772 [==============================] - 16s - loss: 0.0010 - val_loss: 9.6527e-04\n",
      "Epoch 16/100\n",
      "266772/266772 [==============================] - 16s - loss: 0.0010 - val_loss: 9.6431e-04\n",
      "Epoch 17/100\n",
      "266772/266772 [==============================] - 16s - loss: 0.0010 - val_loss: 9.6344e-04\n",
      "Epoch 18/100\n",
      "266772/266772 [==============================] - 16s - loss: 0.0010 - val_loss: 9.6261e-04\n",
      "Epoch 19/100\n",
      "266772/266772 [==============================] - 16s - loss: 0.0010 - val_loss: 9.6182e-04\n",
      "Epoch 20/100\n",
      "266772/266772 [==============================] - 15s - loss: 0.0010 - val_loss: 9.6102e-04\n",
      "Epoch 21/100\n",
      "266772/266772 [==============================] - 15s - loss: 0.0010 - val_loss: 9.6037e-04\n",
      "Epoch 22/100\n",
      "266772/266772 [==============================] - 15s - loss: 0.0010 - val_loss: 9.5969e-04\n",
      "Epoch 23/100\n",
      "266772/266772 [==============================] - 15s - loss: 0.0010 - val_loss: 9.5897e-04\n",
      "Epoch 24/100\n",
      "266772/266772 [==============================] - 15s - loss: 0.0010 - val_loss: 9.5823e-04\n",
      "Epoch 25/100\n",
      "266772/266772 [==============================] - 15s - loss: 0.0010 - val_loss: 9.5743e-04\n",
      "Epoch 26/100\n",
      "266772/266772 [==============================] - 16s - loss: 0.0010 - val_loss: 9.5656e-04\n",
      "Epoch 27/100\n",
      "266772/266772 [==============================] - 16s - loss: 0.0010 - val_loss: 9.5560e-04\n",
      "Epoch 28/100\n",
      "266772/266772 [==============================] - 16s - loss: 0.0010 - val_loss: 9.5454e-04\n",
      "Epoch 29/100\n",
      "266772/266772 [==============================] - 16s - loss: 0.0010 - val_loss: 9.5338e-04\n",
      "Epoch 30/100\n",
      "266772/266772 [==============================] - 15s - loss: 0.0010 - val_loss: 9.5207e-04\n",
      "Epoch 31/100\n",
      "266772/266772 [==============================] - 16s - loss: 0.0010 - val_loss: 9.5062e-04\n",
      "Epoch 32/100\n",
      "266772/266772 [==============================] - 16s - loss: 0.0010 - val_loss: 9.4899e-04\n",
      "Epoch 33/100\n",
      "266772/266772 [==============================] - 16s - loss: 0.0010 - val_loss: 9.4720e-04\n",
      "Epoch 34/100\n",
      "266772/266772 [==============================] - 16s - loss: 0.0010 - val_loss: 9.4523e-04\n",
      "Epoch 35/100\n",
      "266772/266772 [==============================] - 16s - loss: 9.9865e-04 - val_loss: 9.4309e-04\n",
      "Epoch 36/100\n",
      "266772/266772 [==============================] - 16s - loss: 9.9650e-04 - val_loss: 9.4081e-04\n",
      "Epoch 37/100\n",
      "266772/266772 [==============================] - 16s - loss: 9.9430e-04 - val_loss: 9.3839e-04\n",
      "Epoch 38/100\n",
      "266772/266772 [==============================] - 16s - loss: 9.9207e-04 - val_loss: 9.3588e-04\n",
      "Epoch 39/100\n",
      "266772/266772 [==============================] - 16s - loss: 9.8982e-04 - val_loss: 9.3330e-04\n",
      "Epoch 40/100\n",
      "266772/266772 [==============================] - 16s - loss: 9.8758e-04 - val_loss: 9.3071e-04\n",
      "Epoch 41/100\n",
      "266772/266772 [==============================] - 16s - loss: 9.8538e-04 - val_loss: 9.2814e-04\n",
      "Epoch 42/100\n",
      "266772/266772 [==============================] - 16s - loss: 9.8323e-04 - val_loss: 9.2562e-04\n",
      "Epoch 43/100\n",
      "266772/266772 [==============================] - 16s - loss: 9.8114e-04 - val_loss: 9.2318e-04\n",
      "Epoch 44/100\n",
      "266772/266772 [==============================] - 16s - loss: 9.7912e-04 - val_loss: 9.2085e-04\n",
      "Epoch 45/100\n",
      "266772/266772 [==============================] - 16s - loss: 9.7719e-04 - val_loss: 9.1863e-04\n",
      "Epoch 46/100\n",
      "266772/266772 [==============================] - 16s - loss: 9.7534e-04 - val_loss: 9.1654e-04\n",
      "Epoch 47/100\n",
      "266772/266772 [==============================] - 16s - loss: 9.7357e-04 - val_loss: 9.1458e-04\n",
      "Epoch 48/100\n",
      "266772/266772 [==============================] - 16s - loss: 9.7190e-04 - val_loss: 9.1276e-04\n",
      "Epoch 49/100\n",
      "266772/266772 [==============================] - 16s - loss: 9.7031e-04 - val_loss: 9.1105e-04\n",
      "Epoch 50/100\n",
      "266772/266772 [==============================] - 16s - loss: 9.6880e-04 - val_loss: 9.0946e-04\n",
      "Epoch 51/100\n",
      "266772/266772 [==============================] - 16s - loss: 9.6738e-04 - val_loss: 9.0798e-04\n",
      "Epoch 52/100\n",
      "266772/266772 [==============================] - 16s - loss: 9.6602e-04 - val_loss: 9.0659e-04\n",
      "Epoch 53/100\n",
      "266772/266772 [==============================] - 15s - loss: 9.6474e-04 - val_loss: 9.0529e-04\n",
      "Epoch 54/100\n",
      "266772/266772 [==============================] - 15s - loss: 9.6352e-04 - val_loss: 9.0407e-04\n",
      "Epoch 55/100\n",
      "266772/266772 [==============================] - 15s - loss: 9.6235e-04 - val_loss: 9.0291e-04\n",
      "Epoch 56/100\n",
      "266772/266772 [==============================] - 15s - loss: 9.6125e-04 - val_loss: 9.0181e-04\n",
      "Epoch 57/100\n",
      "266772/266772 [==============================] - 15s - loss: 9.6018e-04 - val_loss: 9.0078e-04\n",
      "Epoch 58/100\n",
      "266772/266772 [==============================] - 15s - loss: 9.5916e-04 - val_loss: 8.9979e-04\n",
      "Epoch 59/100\n",
      "266772/266772 [==============================] - 16s - loss: 9.5818e-04 - val_loss: 8.9884e-04\n",
      "Epoch 60/100\n",
      "266772/266772 [==============================] - 15s - loss: 9.5724e-04 - val_loss: 8.9792e-04\n",
      "Epoch 61/100\n",
      "266772/266772 [==============================] - 16s - loss: 9.5631e-04 - val_loss: 8.9704e-04\n",
      "Epoch 62/100\n",
      "266772/266772 [==============================] - 16s - loss: 9.5542e-04 - val_loss: 8.9620e-04\n",
      "Epoch 63/100\n",
      "266772/266772 [==============================] - 16s - loss: 9.5455e-04 - val_loss: 8.9537e-04\n",
      "Epoch 64/100\n",
      "266772/266772 [==============================] - 16s - loss: 9.5369e-04 - val_loss: 8.9455e-04\n",
      "Epoch 65/100\n",
      "266772/266772 [==============================] - 16s - loss: 9.5284e-04 - val_loss: 8.9374e-04\n",
      "Epoch 66/100\n",
      "266772/266772 [==============================] - 16s - loss: 9.5201e-04 - val_loss: 8.9293e-04\n",
      "Epoch 67/100\n",
      "266772/266772 [==============================] - 16s - loss: 9.5118e-04 - val_loss: 8.9212e-04\n",
      "Epoch 68/100\n",
      "266772/266772 [==============================] - 16s - loss: 9.5035e-04 - val_loss: 8.9131e-04\n",
      "Epoch 69/100\n",
      "266772/266772 [==============================] - 16s - loss: 9.4952e-04 - val_loss: 8.9048e-04\n",
      "Epoch 70/100\n",
      "266772/266772 [==============================] - 16s - loss: 9.4869e-04 - val_loss: 8.8966e-04\n",
      "Epoch 71/100\n",
      "266772/266772 [==============================] - 16s - loss: 9.4786e-04 - val_loss: 8.8882e-04\n",
      "Epoch 72/100\n",
      "266772/266772 [==============================] - 15s - loss: 9.4703e-04 - val_loss: 8.8797e-04\n",
      "Epoch 73/100\n",
      "266772/266772 [==============================] - 15s - loss: 9.4620e-04 - val_loss: 8.8711e-04\n",
      "Epoch 74/100\n",
      "266772/266772 [==============================] - 15s - loss: 9.4537e-04 - val_loss: 8.8626e-04\n",
      "Epoch 75/100\n",
      "266772/266772 [==============================] - 15s - loss: 9.4455e-04 - val_loss: 8.8540e-04\n",
      "Epoch 76/100\n",
      "266772/266772 [==============================] - 15s - loss: 9.4373e-04 - val_loss: 8.8455e-04\n",
      "Epoch 77/100\n"
     ]
    },
    {
     "name": "stdout",
     "output_type": "stream",
     "text": [
      "266772/266772 [==============================] - 15s - loss: 9.4292e-04 - val_loss: 8.8368e-04\n",
      "Epoch 78/100\n",
      "266772/266772 [==============================] - 15s - loss: 9.4212e-04 - val_loss: 8.8284e-04\n",
      "Epoch 79/100\n",
      "266772/266772 [==============================] - 15s - loss: 9.4132e-04 - val_loss: 8.8199e-04\n",
      "Epoch 80/100\n",
      "266772/266772 [==============================] - 15s - loss: 9.4053e-04 - val_loss: 8.8116e-04\n",
      "Epoch 81/100\n",
      "266772/266772 [==============================] - 15s - loss: 9.3976e-04 - val_loss: 8.8033e-04\n",
      "Epoch 82/100\n",
      "266772/266772 [==============================] - 15s - loss: 9.3899e-04 - val_loss: 8.7951e-04\n",
      "Epoch 83/100\n",
      "266772/266772 [==============================] - 15s - loss: 9.3824e-04 - val_loss: 8.7870e-04\n",
      "Epoch 84/100\n",
      "266772/266772 [==============================] - 15s - loss: 9.3751e-04 - val_loss: 8.7791e-04\n",
      "Epoch 85/100\n",
      "266772/266772 [==============================] - 15s - loss: 9.3679e-04 - val_loss: 8.7713e-04\n",
      "Epoch 86/100\n",
      "266772/266772 [==============================] - 15s - loss: 9.3609e-04 - val_loss: 8.7636e-04\n",
      "Epoch 87/100\n",
      "266772/266772 [==============================] - 15s - loss: 9.3540e-04 - val_loss: 8.7560e-04\n",
      "Epoch 88/100\n",
      "266772/266772 [==============================] - 15s - loss: 9.3472e-04 - val_loss: 8.7485e-04\n",
      "Epoch 89/100\n",
      "266772/266772 [==============================] - 15s - loss: 9.3406e-04 - val_loss: 8.7412e-04\n",
      "Epoch 90/100\n",
      "266772/266772 [==============================] - 16s - loss: 9.3342e-04 - val_loss: 8.7340e-04\n",
      "Epoch 91/100\n",
      "266772/266772 [==============================] - 16s - loss: 9.3278e-04 - val_loss: 8.7269e-04\n",
      "Epoch 92/100\n",
      "266772/266772 [==============================] - 16s - loss: 9.3216e-04 - val_loss: 8.7199e-04\n",
      "Epoch 93/100\n",
      "266772/266772 [==============================] - 16s - loss: 9.3154e-04 - val_loss: 8.7130e-04\n",
      "Epoch 94/100\n",
      "266772/266772 [==============================] - 16s - loss: 9.3092e-04 - val_loss: 8.7062e-04\n",
      "Epoch 95/100\n",
      "266772/266772 [==============================] - 16s - loss: 9.3030e-04 - val_loss: 8.6994e-04\n",
      "Epoch 96/100\n",
      "266772/266772 [==============================] - 16s - loss: 9.2968e-04 - val_loss: 8.6926e-04\n",
      "Epoch 97/100\n",
      "266772/266772 [==============================] - 16s - loss: 9.2906e-04 - val_loss: 8.6859e-04\n",
      "Epoch 98/100\n",
      "266772/266772 [==============================] - 16s - loss: 9.2843e-04 - val_loss: 8.6791e-04\n",
      "Epoch 99/100\n",
      "266772/266772 [==============================] - 16s - loss: 9.2780e-04 - val_loss: 8.6724e-04\n",
      "Epoch 100/100\n",
      "266772/266772 [==============================] - 16s - loss: 9.2715e-04 - val_loss: 8.6656e-04\n"
     ]
    }
   ],
   "source": [
    "deep_results = train_deep_autoencoder()"
   ]
  },
  {
   "cell_type": "code",
   "execution_count": 89,
   "metadata": {
    "collapsed": true
   },
   "outputs": [],
   "source": [
    "sgd = optimizers.SGD(lr=1e-4, decay=1e-9, momentum=0.9, nesterov=True, clipnorm=1.)"
   ]
  },
  {
   "cell_type": "code",
   "execution_count": 90,
   "metadata": {
    "collapsed": true
   },
   "outputs": [],
   "source": []
  },
  {
   "cell_type": "code",
   "execution_count": 91,
   "metadata": {},
   "outputs": [
    {
     "name": "stdout",
     "output_type": "stream",
     "text": [
      "Train on 266772 samples, validate on 66693 samples\n",
      "Epoch 1/100\n",
      "266772/266772 [==============================] - 11s - loss: 0.0155 - val_loss: 0.0041\n",
      "Epoch 2/100\n",
      "266772/266772 [==============================] - 11s - loss: 0.0031 - val_loss: 0.0020\n",
      "Epoch 3/100\n",
      "266772/266772 [==============================] - 11s - loss: 0.0018 - val_loss: 0.0015\n",
      "Epoch 4/100\n",
      "266772/266772 [==============================] - 11s - loss: 0.0016 - val_loss: 0.0014\n",
      "Epoch 5/100\n",
      "266772/266772 [==============================] - 11s - loss: 0.0015 - val_loss: 0.0014\n",
      "Epoch 6/100\n",
      "266772/266772 [==============================] - 11s - loss: 0.0015 - val_loss: 0.0014\n",
      "Epoch 7/100\n",
      "266772/266772 [==============================] - 11s - loss: 0.0015 - val_loss: 0.0014\n",
      "Epoch 8/100\n",
      "266772/266772 [==============================] - 11s - loss: 0.0015 - val_loss: 0.0014\n",
      "Epoch 9/100\n",
      "266772/266772 [==============================] - 11s - loss: 0.0015 - val_loss: 0.0014\n",
      "Epoch 10/100\n",
      "266772/266772 [==============================] - 11s - loss: 0.0015 - val_loss: 0.0014\n",
      "Epoch 11/100\n",
      "266772/266772 [==============================] - 11s - loss: 0.0015 - val_loss: 0.0014\n",
      "Epoch 12/100\n",
      "266772/266772 [==============================] - 11s - loss: 0.0015 - val_loss: 0.0014\n",
      "Epoch 13/100\n",
      "266772/266772 [==============================] - 11s - loss: 0.0015 - val_loss: 0.0014\n",
      "Epoch 14/100\n",
      "266772/266772 [==============================] - 11s - loss: 0.0015 - val_loss: 0.0014\n",
      "Epoch 15/100\n",
      "266772/266772 [==============================] - 11s - loss: 0.0015 - val_loss: 0.0014\n",
      "Epoch 16/100\n",
      "266772/266772 [==============================] - 11s - loss: 0.0015 - val_loss: 0.0014\n",
      "Epoch 17/100\n",
      "266772/266772 [==============================] - 11s - loss: 0.0015 - val_loss: 0.0014\n",
      "Epoch 18/100\n",
      "266772/266772 [==============================] - 11s - loss: 0.0015 - val_loss: 0.0014\n",
      "Epoch 19/100\n",
      "266772/266772 [==============================] - 11s - loss: 0.0015 - val_loss: 0.0014\n",
      "Epoch 20/100\n",
      "266772/266772 [==============================] - 11s - loss: 0.0015 - val_loss: 0.0014\n",
      "Epoch 21/100\n",
      "266772/266772 [==============================] - 11s - loss: 0.0015 - val_loss: 0.0014\n",
      "Epoch 22/100\n",
      "266772/266772 [==============================] - 11s - loss: 0.0015 - val_loss: 0.0014\n",
      "Epoch 23/100\n",
      "266772/266772 [==============================] - 11s - loss: 0.0015 - val_loss: 0.0014\n",
      "Epoch 24/100\n",
      "266772/266772 [==============================] - 11s - loss: 0.0015 - val_loss: 0.0014\n",
      "Epoch 25/100\n",
      "266772/266772 [==============================] - 11s - loss: 0.0015 - val_loss: 0.0014\n",
      "Epoch 26/100\n",
      "266772/266772 [==============================] - 11s - loss: 0.0015 - val_loss: 0.0014\n",
      "Epoch 27/100\n",
      "266772/266772 [==============================] - 11s - loss: 0.0015 - val_loss: 0.0014\n",
      "Epoch 28/100\n",
      "266772/266772 [==============================] - 11s - loss: 0.0015 - val_loss: 0.0014\n",
      "Epoch 29/100\n",
      "266772/266772 [==============================] - 11s - loss: 0.0015 - val_loss: 0.0014\n",
      "Epoch 30/100\n",
      "266772/266772 [==============================] - 11s - loss: 0.0015 - val_loss: 0.0014\n",
      "Epoch 31/100\n",
      "266772/266772 [==============================] - 11s - loss: 0.0015 - val_loss: 0.0014\n",
      "Epoch 32/100\n",
      "266772/266772 [==============================] - 11s - loss: 0.0015 - val_loss: 0.0014\n",
      "Epoch 33/100\n",
      "266772/266772 [==============================] - 11s - loss: 0.0015 - val_loss: 0.0014\n",
      "Epoch 34/100\n",
      "266772/266772 [==============================] - 11s - loss: 0.0015 - val_loss: 0.0014\n",
      "Epoch 35/100\n",
      "266772/266772 [==============================] - 11s - loss: 0.0015 - val_loss: 0.0014\n",
      "Epoch 36/100\n",
      "266772/266772 [==============================] - 11s - loss: 0.0015 - val_loss: 0.0014\n",
      "Epoch 37/100\n",
      "266772/266772 [==============================] - 11s - loss: 0.0015 - val_loss: 0.0014\n",
      "Epoch 38/100\n",
      "266772/266772 [==============================] - 11s - loss: 0.0015 - val_loss: 0.0014\n",
      "Epoch 39/100\n",
      "266772/266772 [==============================] - 11s - loss: 0.0015 - val_loss: 0.0014\n",
      "Epoch 40/100\n",
      "266772/266772 [==============================] - 11s - loss: 0.0015 - val_loss: 0.0014\n",
      "Epoch 41/100\n",
      "266772/266772 [==============================] - 11s - loss: 0.0015 - val_loss: 0.0014\n",
      "Epoch 42/100\n",
      "266772/266772 [==============================] - 11s - loss: 0.0015 - val_loss: 0.0014\n",
      "Epoch 43/100\n",
      "266772/266772 [==============================] - 11s - loss: 0.0015 - val_loss: 0.0014\n",
      "Epoch 44/100\n",
      "266772/266772 [==============================] - 11s - loss: 0.0015 - val_loss: 0.0014\n",
      "Epoch 45/100\n",
      "266772/266772 [==============================] - 11s - loss: 0.0015 - val_loss: 0.0014\n",
      "Epoch 46/100\n",
      "266772/266772 [==============================] - 11s - loss: 0.0015 - val_loss: 0.0014\n",
      "Epoch 47/100\n",
      "266772/266772 [==============================] - 11s - loss: 0.0015 - val_loss: 0.0014\n",
      "Epoch 48/100\n",
      "266772/266772 [==============================] - 11s - loss: 0.0015 - val_loss: 0.0014\n",
      "Epoch 49/100\n",
      "266772/266772 [==============================] - 11s - loss: 0.0015 - val_loss: 0.0014\n",
      "Epoch 50/100\n",
      "266772/266772 [==============================] - 11s - loss: 0.0015 - val_loss: 0.0014\n",
      "Epoch 51/100\n",
      "266772/266772 [==============================] - 11s - loss: 0.0015 - val_loss: 0.0014\n",
      "Epoch 52/100\n",
      "266772/266772 [==============================] - 11s - loss: 0.0015 - val_loss: 0.0014\n",
      "Epoch 53/100\n",
      "266772/266772 [==============================] - 11s - loss: 0.0015 - val_loss: 0.0014\n",
      "Epoch 54/100\n",
      "266772/266772 [==============================] - 11s - loss: 0.0015 - val_loss: 0.0014\n",
      "Epoch 55/100\n",
      "266772/266772 [==============================] - 11s - loss: 0.0015 - val_loss: 0.0014\n",
      "Epoch 56/100\n",
      "266772/266772 [==============================] - 11s - loss: 0.0015 - val_loss: 0.0014\n",
      "Epoch 57/100\n",
      "266772/266772 [==============================] - 11s - loss: 0.0015 - val_loss: 0.0014\n",
      "Epoch 58/100\n",
      "266772/266772 [==============================] - 11s - loss: 0.0015 - val_loss: 0.0014\n",
      "Epoch 59/100\n",
      "266772/266772 [==============================] - 11s - loss: 0.0015 - val_loss: 0.0014\n",
      "Epoch 60/100\n",
      "266772/266772 [==============================] - 11s - loss: 0.0015 - val_loss: 0.0014\n",
      "Epoch 61/100\n",
      "266772/266772 [==============================] - 11s - loss: 0.0015 - val_loss: 0.0014\n",
      "Epoch 62/100\n",
      "266772/266772 [==============================] - 11s - loss: 0.0015 - val_loss: 0.0014\n",
      "Epoch 63/100\n",
      "266772/266772 [==============================] - 11s - loss: 0.0015 - val_loss: 0.0014\n",
      "Epoch 64/100\n",
      "266772/266772 [==============================] - 11s - loss: 0.0015 - val_loss: 0.0014\n",
      "Epoch 65/100\n",
      "266772/266772 [==============================] - 11s - loss: 0.0015 - val_loss: 0.0014\n",
      "Epoch 66/100\n",
      "266772/266772 [==============================] - 11s - loss: 0.0015 - val_loss: 0.0014\n",
      "Epoch 67/100\n",
      "266772/266772 [==============================] - 11s - loss: 0.0015 - val_loss: 0.0014\n",
      "Epoch 68/100\n",
      "266772/266772 [==============================] - 11s - loss: 0.0015 - val_loss: 0.0014\n",
      "Epoch 69/100\n",
      "266772/266772 [==============================] - 11s - loss: 0.0015 - val_loss: 0.0014\n",
      "Epoch 70/100\n",
      "266772/266772 [==============================] - 11s - loss: 0.0015 - val_loss: 0.0014\n",
      "Epoch 71/100\n",
      "266772/266772 [==============================] - 11s - loss: 0.0015 - val_loss: 0.0014\n",
      "Epoch 72/100\n",
      "266772/266772 [==============================] - 11s - loss: 0.0015 - val_loss: 0.0014\n",
      "Epoch 73/100\n",
      "266772/266772 [==============================] - 11s - loss: 0.0015 - val_loss: 0.0014\n",
      "Epoch 74/100\n",
      "266772/266772 [==============================] - 11s - loss: 0.0015 - val_loss: 0.0014\n",
      "Epoch 75/100\n",
      "266772/266772 [==============================] - 11s - loss: 0.0015 - val_loss: 0.0014\n",
      "Epoch 76/100\n",
      "266772/266772 [==============================] - 11s - loss: 0.0015 - val_loss: 0.0014\n",
      "Epoch 77/100\n",
      "266772/266772 [==============================] - 11s - loss: 0.0015 - val_loss: 0.0014\n",
      "Epoch 78/100\n",
      "266772/266772 [==============================] - 11s - loss: 0.0015 - val_loss: 0.0014\n",
      "Epoch 79/100\n",
      "266772/266772 [==============================] - 11s - loss: 0.0015 - val_loss: 0.0014\n",
      "Epoch 80/100\n",
      "266772/266772 [==============================] - 11s - loss: 0.0015 - val_loss: 0.0014\n",
      "Epoch 81/100\n",
      "266772/266772 [==============================] - 11s - loss: 0.0015 - val_loss: 0.0014\n",
      "Epoch 82/100\n"
     ]
    },
    {
     "name": "stdout",
     "output_type": "stream",
     "text": [
      "266772/266772 [==============================] - 11s - loss: 0.0015 - val_loss: 0.0014\n",
      "Epoch 83/100\n",
      "266772/266772 [==============================] - 11s - loss: 0.0015 - val_loss: 0.0014\n",
      "Epoch 84/100\n",
      "266772/266772 [==============================] - 11s - loss: 0.0015 - val_loss: 0.0014\n",
      "Epoch 85/100\n",
      "266772/266772 [==============================] - 11s - loss: 0.0015 - val_loss: 0.0014\n",
      "Epoch 86/100\n",
      "266772/266772 [==============================] - 11s - loss: 0.0015 - val_loss: 0.0014\n",
      "Epoch 87/100\n",
      "266772/266772 [==============================] - 11s - loss: 0.0015 - val_loss: 0.0014\n",
      "Epoch 88/100\n",
      "266772/266772 [==============================] - 11s - loss: 0.0015 - val_loss: 0.0014\n",
      "Epoch 89/100\n",
      "266772/266772 [==============================] - 11s - loss: 0.0015 - val_loss: 0.0014\n",
      "Epoch 90/100\n",
      "266772/266772 [==============================] - 11s - loss: 0.0015 - val_loss: 0.0014\n",
      "Epoch 91/100\n",
      "266772/266772 [==============================] - 11s - loss: 0.0015 - val_loss: 0.0014\n",
      "Epoch 92/100\n",
      "266772/266772 [==============================] - 11s - loss: 0.0015 - val_loss: 0.0014\n",
      "Epoch 93/100\n",
      "266772/266772 [==============================] - 11s - loss: 0.0015 - val_loss: 0.0014\n",
      "Epoch 94/100\n",
      "266772/266772 [==============================] - 11s - loss: 0.0015 - val_loss: 0.0014\n",
      "Epoch 95/100\n",
      "266772/266772 [==============================] - 11s - loss: 0.0015 - val_loss: 0.0014\n",
      "Epoch 96/100\n",
      "266772/266772 [==============================] - 11s - loss: 0.0015 - val_loss: 0.0014\n",
      "Epoch 97/100\n",
      "266772/266772 [==============================] - 11s - loss: 0.0015 - val_loss: 0.0014\n",
      "Epoch 98/100\n",
      "266772/266772 [==============================] - 11s - loss: 0.0015 - val_loss: 0.0014\n",
      "Epoch 99/100\n",
      "266772/266772 [==============================] - 11s - loss: 0.0015 - val_loss: 0.0014\n",
      "Epoch 100/100\n",
      "266772/266772 [==============================] - 11s - loss: 0.0015 - val_loss: 0.0014\n"
     ]
    }
   ],
   "source": []
  },
  {
   "cell_type": "code",
   "execution_count": 92,
   "metadata": {},
   "outputs": [
    {
     "data": {
      "text/plain": [
       "array([[ 0.96400511,  0.8872205 ,  0.8110007 , ...,  0.95634049,\n",
       "         0.6861577 ,  0.96675026],\n",
       "       [ 0.92161393,  0.87873733,  0.83197844, ...,  0.91126007,\n",
       "         0.69899333,  1.00022972],\n",
       "       [ 0.82803655,  0.93806481,  0.9290818 , ...,  0.77344495,\n",
       "         0.69129795,  0.92499137],\n",
       "       ..., \n",
       "       [ 0.17240553,  0.19646129,  0.219879  , ...,  0.25193104,\n",
       "         0.35655159,  0.28895956],\n",
       "       [ 0.54303604,  0.31664708,  0.19415942, ...,  0.64015359,\n",
       "         0.38101375,  0.33227432],\n",
       "       [ 0.95092154,  0.52763247,  0.34683344, ...,  0.99865854,\n",
       "         0.51167536,  0.4727087 ]], dtype=float32)"
      ]
     },
     "execution_count": 92,
     "metadata": {},
     "output_type": "execute_result"
    }
   ],
   "source": [
    "autoencoder.predict(X_train.values)"
   ]
  },
  {
   "cell_type": "code",
   "execution_count": 93,
   "metadata": {},
   "outputs": [
    {
     "name": "stdout",
     "output_type": "stream",
     "text": [
      "dict_keys(['val_loss', 'loss'])\n"
     ]
    }
   ],
   "source": [
    "# list all data in history\n",
    "print(history.history.keys())"
   ]
  },
  {
   "cell_type": "code",
   "execution_count": 161,
   "metadata": {},
   "outputs": [
    {
     "data": {
      "image/png": "[encoded data removed]",
      "text/plain": [
       "<matplotlib.figure.Figure at 0x12f7f6b00>"
      ]
     },
     "metadata": {},
     "output_type": "display_data"
    }
   ],
   "source": [
    "# summarize history for loss\n",
    "plt.plot(history.history['loss'])\n",
    "plt.plot(history.history['val_loss'])\n",
    "plt.plot(deep_results[0].history['loss'])\n",
    "plt.plot(deep_results[0].history['val_loss'])\n",
    "\n",
    "plt.title('model loss')\n",
    "plt.ylabel('loss')\n",
    "plt.xlabel('epoch')\n",
    "plt.legend(['AE train', 'AE test', \"DAE train\", \"DAE test\"], loc='upper left')\n",
    "plt.show()"
   ]
  },
  {
   "cell_type": "code",
   "execution_count": 160,
   "metadata": {},
   "outputs": [
    {
     "data": {
      "text/plain": [
       "<keras.callbacks.History at 0x12fd357b8>"
      ]
     },
     "execution_count": 160,
     "metadata": {},
     "output_type": "execute_result"
    }
   ],
   "source": [
    "deep_results[0]"
   ]
  },
  {
   "cell_type": "code",
   "execution_count": null,
   "metadata": {
    "collapsed": true
   },
   "outputs": [],
   "source": []
  }
 ],
 "metadata": {
  "kernelspec": {
   "display_name": "Python 3",
   "language": "python",
   "name": "python3"
  },
  "language_info": {
   "codemirror_mode": {
    "name": "ipython",
    "version": 3
   },
   "file_extension": ".py",
   "mimetype": "text/x-python",
   "name": "python",
   "nbconvert_exporter": "python",
   "pygments_lexer": "ipython3",
   "version": "3.6.1"
  }
 },
 "nbformat": 4,
 "nbformat_minor": 2
}

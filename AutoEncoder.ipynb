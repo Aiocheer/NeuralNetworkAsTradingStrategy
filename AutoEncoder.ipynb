{
 "cells": [
  {
   "cell_type": "code",
   "execution_count": 1,
   "metadata": {},
   "outputs": [
    {
     "name": "stderr",
     "output_type": "stream",
     "text": [
      "Using TensorFlow backend.\n"
     ]
    }
   ],
   "source": [
    "import warnings\n",
    "warnings.filterwarnings('ignore')\n",
    "import pandas as pd\n",
    "import numpy as np\n",
    "from matplotlib import pyplot\n",
    "from math import sqrt\n",
    "from pytz import timezone\n",
    "\n",
    "from sklearn.metrics import mean_squared_error\n",
    "from sklearn.preprocessing import MinMaxScaler, Normalizer, RobustScaler\n",
    "from sklearn.model_selection import train_test_split\n",
    "from keras.models import Sequential\n",
    "from keras.layers import Dense\n",
    "from keras.layers import LSTM\n",
    "from keras.layers import Activation\n",
    "from keras.utils.np_utils import to_categorical\n",
    "from keras import optimizers\n",
    "import talib"
   ]
  },
  {
   "cell_type": "code",
   "execution_count": 2,
   "metadata": {
    "collapsed": true
   },
   "outputs": [],
   "source": [
    "# Fix the random seed to reproducibility\n",
    "np.random.seed(7)"
   ]
  },
  {
   "cell_type": "code",
   "execution_count": 16,
   "metadata": {
    "collapsed": true
   },
   "outputs": [],
   "source": [
    "def get_CU():\n",
    "    import dovahkiin as dk\n",
    "    dp = dk.DataParser()\n",
    "    X = dp.get_data(\"cu\")\n",
    "    return X"
   ]
  },
  {
   "cell_type": "code",
   "execution_count": 17,
   "metadata": {
    "collapsed": true
   },
   "outputs": [],
   "source": [
    "def get_SP500():\n",
    "    import pandas_datareader as pdr\n",
    "    SP500 = pdr.get_data_yahoo('^GSPC')\n",
    "    return SP500"
   ]
  },
  {
   "cell_type": "code",
   "execution_count": 3,
   "metadata": {
    "collapsed": true
   },
   "outputs": [],
   "source": [
    "def get_X_data():\n",
    "    import dovahkiin as dk\n",
    "    dp = dk.DataParser()\n",
    "    X = dp.get_data(\"cu\")\n",
    "    return X"
   ]
  },
  {
   "cell_type": "code",
   "execution_count": 166,
   "metadata": {},
   "outputs": [],
   "source": [
    "X = get_CU()"
   ]
  },
  {
   "cell_type": "markdown",
   "metadata": {},
   "source": [
    "## Add Features"
   ]
  },
  {
   "cell_type": "code",
   "execution_count": 178,
   "metadata": {
    "collapsed": true
   },
   "outputs": [],
   "source": [
    "high = X.high.values\n",
    "low = X.low.values\n",
    "close = X.close.values\n",
    "volume = X.volume.astype(np.float64).values"
   ]
  },
  {
   "cell_type": "code",
   "execution_count": 182,
   "metadata": {},
   "outputs": [],
   "source": [
    "# Please note, some volumes can be 0\n",
    "# X.replace(0.0, np.NaN).replace(0, np.NaN).fillna(method=\"ffill\").fillna(method=\"backfill\");\n",
    "# X[(X[\"volume\"] == 0.0)]"
   ]
  },
  {
   "cell_type": "code",
   "execution_count": null,
   "metadata": {},
   "outputs": [],
   "source": []
  },
  {
   "cell_type": "code",
   "execution_count": 183,
   "metadata": {
    "collapsed": true
   },
   "outputs": [],
   "source": [
    "X[\"%K\"], X[\"%D\"] = talib.STOCHF(X.high.values, X.low.values, X.close.values)\n",
    "_, X[\"Slow %D\"] = talib.STOCH(X.high.values, X.low.values, X.close.values)\n",
    "X[\"ROC\"] = talib.ROC(X.close.values)\n",
    "X[\"Momentum\"] = talib.MOM(X.close.values)\n",
    "X[\"WilliamsR\"] = talib.WILLR(X.high.values, X.low.values, X.close.values)\n",
    "\n",
    "X[\"CCI\"] = talib.CCI(high, low, close)\n",
    "X[\"RSI\"] = talib.RSI(close)\n",
    "X[\"APO\"] = talib.APO(close)\n",
    "X[\"AroonDown\"], X[\"AroonUp\"] = talib.AROON(high, low)\n",
    "X[\"AroonOSC\"] = talib.AROONOSC(high, low)\n",
    "X[\"MAMA\"], _ = talib.MAMA(close)\n",
    "X[\"ADX\"] = talib.ADX(high, low, close)\n",
    "X[\"ADXR\"] = talib.ADXR(high, low, close)\n",
    "X[\"ATR\"] = talib.ATR(high, low, close)\n",
    "X[\"BOP\"] = talib.BOP(X.open.values, high, low, close)\n",
    "X[\"BBTop\"], X[\"BBMid\"], X[\"BBBot\"] = talib.BBANDS(close)\n",
    "X[\"BBWidth\"] = X[\"BBTop\"] - X[\"BBBot\"]\n",
    "X[\"%B\"] = (X.close - X[\"BBBot\"])/(X[\"BBTop\"] - X[\"BBBot\"])\n",
    "X[\"CMO\"] = talib.CMO(close)\n",
    "X[\"-DI\"] = talib.MINUS_DI(high, low, close)\n",
    "X[\"-DM\"] = talib.MINUS_DM(high, low)\n",
    "X[\"+DI\"] = talib.PLUS_DI(high, low, close)\n",
    "X[\"+DM\"] = talib.PLUS_DM(high, low)\n",
    "X[\"DEMA\"] = talib.DEMA(close)\n",
    "X[\"EMA\"] = talib.EMA(close)\n",
    "X[\"kAMA\"] = talib.KAMA(close)\n",
    "X[\"MA\"] = talib.MA(close)\n",
    "X[\"MACD\"], X[\"MACDSig\"], X[\"MACDHist\"] = talib.MACD(close)\n",
    "X[\"HHV\"] = talib.MAX(close)\n",
    "X[\"LLV\"] = talib.MIN(close)\n",
    "\n",
    "X[\"PPO\"] = talib.PPO(close)\n",
    "X[\"PDI\"] = talib.PLUS_DI(high, low, close)\n",
    "X[\"PDM\"] = talib.PLUS_DM(high, low)\n",
    "X[\"PVI\"] = (close - X.open.values) / (high - low)\n",
    "X[\"ParabolicSAR\"] = talib.SAR(high, low)\n",
    "X[\"TEMA\"] = talib.TEMA(close)\n",
    "X[\"TRIMA\"] = talib.TRIMA(close)\n",
    "X[\"TRIX\"] = talib.TRIX(close)\n",
    "X[\"UltimateOscillator\"] = talib.ULTOSC(high, low, close)\n",
    "X[\"WMA\"] = talib.WMA(close)\n",
    "\n",
    "X[\"ADOscillator\"] = talib.ADOSC(high, low, close, volume)\n",
    "X[\"MFI\"] = talib.MFI(high, low, close, volume)"
   ]
  },
  {
   "cell_type": "code",
   "execution_count": 69,
   "metadata": {},
   "outputs": [],
   "source": [
    "X_train = X[\"2012\":\"2015\"]"
   ]
  },
  {
   "cell_type": "code",
   "execution_count": 70,
   "metadata": {
    "collapsed": true
   },
   "outputs": [],
   "source": [
    "X_test = X[\"2016\":]"
   ]
  },
  {
   "cell_type": "code",
   "execution_count": 71,
   "metadata": {},
   "outputs": [
    {
     "data": {
      "text/plain": [
       "166845"
      ]
     },
     "execution_count": 71,
     "metadata": {},
     "output_type": "execute_result"
    }
   ],
   "source": [
    "len(X_test)"
   ]
  },
  {
   "cell_type": "code",
   "execution_count": 72,
   "metadata": {},
   "outputs": [
    {
     "data": {
      "text/plain": [
       "333465"
      ]
     },
     "execution_count": 72,
     "metadata": {},
     "output_type": "execute_result"
    }
   ],
   "source": [
    "len(X_train)"
   ]
  },
  {
   "cell_type": "code",
   "execution_count": 74,
   "metadata": {},
   "outputs": [
    {
     "data": {
      "text/plain": [
       "(958635, 54)"
      ]
     },
     "execution_count": 74,
     "metadata": {},
     "output_type": "execute_result"
    }
   ],
   "source": [
    "X.shape"
   ]
  },
  {
   "cell_type": "code",
   "execution_count": 164,
   "metadata": {},
   "outputs": [
    {
     "data": {
      "text/plain": [
       "open                  False\n",
       "high                  False\n",
       "low                   False\n",
       "close                 False\n",
       "volume                 True\n",
       "openint               False\n",
       "%K                     True\n",
       "%D                     True\n",
       "Slow %D               False\n",
       "ROC                    True\n",
       "Momentum               True\n",
       "WilliamsR              True\n",
       "ADOscillator          False\n",
       "CCI                    True\n",
       "RSI                   False\n",
       "APO                    True\n",
       "AroonDown              True\n",
       "AroonUp                True\n",
       "AroonOSC               True\n",
       "MAMA                  False\n",
       "ADX                   False\n",
       "ADXR                  False\n",
       "ATR                   False\n",
       "BOP                    True\n",
       "BBTop                 False\n",
       "BBMid                 False\n",
       "BBBot                 False\n",
       "BBWidth                True\n",
       "%B                    False\n",
       "CMO                   False\n",
       "-DI                   False\n",
       "-DM                   False\n",
       "+DI                   False\n",
       "+DM                   False\n",
       "DEMA                  False\n",
       "EMA                   False\n",
       "kAMA                  False\n",
       "MA                    False\n",
       "MACD                  False\n",
       "MACDSig               False\n",
       "MACDHist              False\n",
       "HHV                   False\n",
       "LLV                   False\n",
       "MFI                    True\n",
       "PPO                    True\n",
       "PDI                   False\n",
       "PDM                   False\n",
       "PVI                    True\n",
       "ParabolicSAR          False\n",
       "TEMA                  False\n",
       "TRIMA                 False\n",
       "TRIX                  False\n",
       "UltimateOscillator     True\n",
       "WMA                   False\n",
       "dtype: bool"
      ]
     },
     "execution_count": 164,
     "metadata": {},
     "output_type": "execute_result"
    }
   ],
   "source": [
    "(X == 0.0).any()"
   ]
  },
  {
   "cell_type": "markdown",
   "metadata": {},
   "source": [
    "## Normalization of Data"
   ]
  },
  {
   "cell_type": "code",
   "execution_count": 162,
   "metadata": {},
   "outputs": [],
   "source": [
    "inds = pd.isnull(pd.DataFrame(X[\"volume\"].pct_change()[\"2012\":])).any(1).nonzero()[0]"
   ]
  },
  {
   "cell_type": "code",
   "execution_count": 163,
   "metadata": {},
   "outputs": [
    {
     "data": {
      "text/plain": [
       "array([ 90226,  90227,  90228,  90229,  90230,  90231,  90232,  90233,\n",
       "        90234,  90235,  90236,  90237,  90238,  90239,  90240,  90241,\n",
       "        90242,  90243,  90244,  90245,  90246,  90247,  90248,  90249,\n",
       "        90250,  90251,  90252,  90253,  90254,  90255,  90256,  90257,\n",
       "        90258,  90259,  90260,  90261,  90262,  90263,  90264,  90265,\n",
       "        90266,  90267,  90268,  90269,  90270,  90271,  90272,  90273,\n",
       "        90274,  90275,  90276,  90277,  90278,  90279,  90280,  90281,\n",
       "        90282,  90283,  90284,  90285,  90286,  90287,  90288,  90289,\n",
       "        90290,  90291,  90292,  90293,  90294,  90295,  90296,  90297,\n",
       "        90298,  90299,  90300,  90301,  90302,  90303,  90304,  90305,\n",
       "        90306,  90307,  90308,  90309,  90310,  90311,  90312,  90313,\n",
       "        90314,  90315,  90316,  90317,  90318,  90319,  90320,  90321,\n",
       "        90322,  90323,  90324,  90325,  90326,  90327,  90328,  90329,\n",
       "        90330,  90331,  90332,  90333,  90334,  90335,  90336,  90337,\n",
       "        90338,  90339,  90340,  90341,  90342,  90343,  90344,  90345,\n",
       "        90346,  90347,  90348,  90349,  90350,  90351,  90352,  90353,\n",
       "        90354,  90355,  90356,  90357,  90358,  90359,  90360,  90361,\n",
       "        90362,  90363,  90364,  90365,  90366,  90367,  90368,  90369,\n",
       "        90370,  90371,  90372,  90373,  90374,  90375,  90376,  90377,\n",
       "        90378,  90379,  90380,  90381,  90382,  90383,  90384,  90385,\n",
       "        90386,  90387,  90388,  90389,  90390,  90391,  90392,  90393,\n",
       "        90394,  90395,  90396,  90397,  90398,  90399,  90400,  90401,\n",
       "        90402,  90403,  90404,  90405,  90406,  90407,  90408,  90409,\n",
       "        90410,  90411,  90412,  90413,  90414,  90415,  90416,  90417,\n",
       "        90418,  90419,  90420,  90421,  90422,  90423,  90424,  90425,\n",
       "        90426,  90427,  90428,  90429,  90430,  90431,  90432,  90433,\n",
       "        90434,  90435,  90436,  90437,  90438,  90439,  90440,  90441,\n",
       "        90442,  90443,  90444,  90445,  90446,  90447,  90448,  90449,\n",
       "        90450,  90451,  90452,  90453,  90454,  90455,  90456,  90457,\n",
       "        90458,  90459,  90460,  90461,  90462,  90463,  90464, 129608,\n",
       "       129609, 129641, 129645, 166831, 166832, 166833, 166834, 166835,\n",
       "       166836, 166837, 166838, 166839, 166840, 166841, 166842, 166843,\n",
       "       166844, 186650, 186651, 186652, 186653, 186654, 221836, 221837,\n",
       "       221838, 221839, 221840, 221841, 221842, 221843, 221844, 221845,\n",
       "       221846, 221847, 221848, 221849, 221850, 221851, 221852, 221853,\n",
       "       221854, 221855, 221856, 221857, 225330, 236588, 236589, 236590,\n",
       "       236591, 367418, 411381, 411382, 411383, 411384, 411385, 411386,\n",
       "       430132, 430133, 430134, 430135, 437986, 437987])"
      ]
     },
     "execution_count": 163,
     "metadata": {},
     "output_type": "execute_result"
    }
   ],
   "source": [
    "inds"
   ]
  },
  {
   "cell_type": "code",
   "execution_count": 149,
   "metadata": {},
   "outputs": [
    {
     "data": {
      "text/plain": [
       "open                   52029.791000\n",
       "high                   52029.791000\n",
       "low                    52029.791000\n",
       "close                  52029.791000\n",
       "volume                     0.000000\n",
       "openint               590382.000000\n",
       "%K                        66.673021\n",
       "%D                        66.907163\n",
       "Slow %D                   63.008070\n",
       "ROC                        0.152119\n",
       "Momentum                  79.026800\n",
       "WilliamsR                -31.495520\n",
       "ADOscillator             558.854380\n",
       "CCI                      166.743287\n",
       "RSI                       69.935734\n",
       "APO                       15.274384\n",
       "AroonDown                 42.857143\n",
       "AroonUp                   85.714286\n",
       "AroonOSC                  42.857143\n",
       "MAMA                   51955.044477\n",
       "ADX                       21.335942\n",
       "ADXR                      19.019230\n",
       "ATR                       25.652380\n",
       "BOP                        0.000000\n",
       "BBTop                  52083.046868\n",
       "BBMid                  51993.244900\n",
       "BBBot                  51903.442932\n",
       "BBWidth                  179.603936\n",
       "%B                         0.703482\n",
       "CMO                       39.871469\n",
       "-DI                       12.698741\n",
       "-DM                       45.605410\n",
       "+DI                       43.019025\n",
       "+DM                      154.495654\n",
       "DEMA                   51971.551790\n",
       "EMA                    51953.762658\n",
       "kAMA                   51955.113365\n",
       "MA                     51945.516680\n",
       "MACD                      19.665240\n",
       "MACDSig                   10.597579\n",
       "MACDHist                   9.067661\n",
       "HHV                    52029.791000\n",
       "LLV                    51906.930300\n",
       "MFI                       62.490518\n",
       "PPO                        0.029402\n",
       "PDI                       43.019025\n",
       "PDM                      154.495654\n",
       "PVI                             NaN\n",
       "ParabolicSAR           51924.817729\n",
       "TEMA                   51990.112685\n",
       "TRIMA                  51943.284310\n",
       "TRIX                      -0.000102\n",
       "UltimateOscillator        53.165192\n",
       "WMA                    51958.081073\n",
       "Name: 2013-08-30 13:01:00+08:00, dtype: float64"
      ]
     },
     "execution_count": 149,
     "metadata": {},
     "output_type": "execute_result"
    }
   ],
   "source": [
    "X[\"2012\":].ix[90226]"
   ]
  },
  {
   "cell_type": "code",
   "execution_count": 147,
   "metadata": {},
   "outputs": [
    {
     "data": {
      "text/plain": [
       "0"
      ]
     },
     "execution_count": 147,
     "metadata": {},
     "output_type": "execute_result"
    }
   ],
   "source": [
    "X[\"volume\"][\"2012\":].ix[90226]"
   ]
  },
  {
   "cell_type": "code",
   "execution_count": 134,
   "metadata": {},
   "outputs": [
    {
     "data": {
      "text/plain": [
       "date_time\n",
       "2012-01-04 09:00:00+08:00    False\n",
       "2012-01-04 09:01:00+08:00    False\n",
       "2012-01-04 09:02:00+08:00    False\n",
       "2012-01-04 09:03:00+08:00    False\n",
       "2012-01-04 09:04:00+08:00    False\n",
       "2012-01-04 09:05:00+08:00    False\n",
       "2012-01-04 09:06:00+08:00    False\n",
       "2012-01-04 09:07:00+08:00    False\n",
       "2012-01-04 09:08:00+08:00    False\n",
       "2012-01-04 09:09:00+08:00    False\n",
       "2012-01-04 09:10:00+08:00    False\n",
       "2012-01-04 09:11:00+08:00    False\n",
       "2012-01-04 09:12:00+08:00    False\n",
       "2012-01-04 09:13:00+08:00    False\n",
       "2012-01-04 09:14:00+08:00    False\n",
       "2012-01-04 09:15:00+08:00    False\n",
       "2012-01-04 09:16:00+08:00    False\n",
       "2012-01-04 09:17:00+08:00    False\n",
       "2012-01-04 09:18:00+08:00    False\n",
       "2012-01-04 09:19:00+08:00    False\n",
       "2012-01-04 09:20:00+08:00    False\n",
       "2012-01-04 09:21:00+08:00    False\n",
       "2012-01-04 09:22:00+08:00    False\n",
       "2012-01-04 09:23:00+08:00    False\n",
       "2012-01-04 09:24:00+08:00    False\n",
       "2012-01-04 09:25:00+08:00    False\n",
       "2012-01-04 09:26:00+08:00    False\n",
       "2012-01-04 09:27:00+08:00    False\n",
       "2012-01-04 09:28:00+08:00    False\n",
       "2012-01-04 09:29:00+08:00    False\n",
       "                             ...  \n",
       "2017-07-04 14:30:00+08:00    False\n",
       "2017-07-04 14:31:00+08:00    False\n",
       "2017-07-04 14:32:00+08:00    False\n",
       "2017-07-04 14:33:00+08:00    False\n",
       "2017-07-04 14:34:00+08:00    False\n",
       "2017-07-04 14:35:00+08:00    False\n",
       "2017-07-04 14:36:00+08:00    False\n",
       "2017-07-04 14:37:00+08:00    False\n",
       "2017-07-04 14:38:00+08:00    False\n",
       "2017-07-04 14:39:00+08:00    False\n",
       "2017-07-04 14:40:00+08:00    False\n",
       "2017-07-04 14:41:00+08:00    False\n",
       "2017-07-04 14:42:00+08:00    False\n",
       "2017-07-04 14:43:00+08:00    False\n",
       "2017-07-04 14:44:00+08:00    False\n",
       "2017-07-04 14:45:00+08:00    False\n",
       "2017-07-04 14:46:00+08:00    False\n",
       "2017-07-04 14:47:00+08:00    False\n",
       "2017-07-04 14:48:00+08:00    False\n",
       "2017-07-04 14:49:00+08:00    False\n",
       "2017-07-04 14:50:00+08:00    False\n",
       "2017-07-04 14:51:00+08:00    False\n",
       "2017-07-04 14:52:00+08:00    False\n",
       "2017-07-04 14:53:00+08:00    False\n",
       "2017-07-04 14:54:00+08:00    False\n",
       "2017-07-04 14:55:00+08:00    False\n",
       "2017-07-04 14:56:00+08:00    False\n",
       "2017-07-04 14:57:00+08:00    False\n",
       "2017-07-04 14:58:00+08:00    False\n",
       "2017-07-04 14:59:00+08:00    False\n",
       "Name: volume, Length: 500310, dtype: bool"
      ]
     },
     "execution_count": 134,
     "metadata": {},
     "output_type": "execute_result"
    }
   ],
   "source": [
    "X[\"volume\"].pct_change()[\"2012\":].isnull()"
   ]
  },
  {
   "cell_type": "code",
   "execution_count": 130,
   "metadata": {},
   "outputs": [
    {
     "data": {
      "text/plain": [
       "open                  False\n",
       "high                  False\n",
       "low                   False\n",
       "close                 False\n",
       "volume                 True\n",
       "openint               False\n",
       "%K                     True\n",
       "%D                    False\n",
       "Slow %D               False\n",
       "ROC                    True\n",
       "Momentum               True\n",
       "WilliamsR              True\n",
       "ADOscillator          False\n",
       "CCI                    True\n",
       "RSI                   False\n",
       "APO                   False\n",
       "AroonDown              True\n",
       "AroonUp                True\n",
       "AroonOSC               True\n",
       "MAMA                  False\n",
       "ADX                   False\n",
       "ADXR                  False\n",
       "ATR                   False\n",
       "BOP                    True\n",
       "BBTop                 False\n",
       "BBMid                 False\n",
       "BBBot                 False\n",
       "BBWidth                True\n",
       "%B                     True\n",
       "CMO                   False\n",
       "-DI                   False\n",
       "-DM                   False\n",
       "+DI                   False\n",
       "+DM                   False\n",
       "DEMA                  False\n",
       "EMA                   False\n",
       "kAMA                  False\n",
       "MA                    False\n",
       "MACD                  False\n",
       "MACDSig               False\n",
       "MACDHist              False\n",
       "HHV                   False\n",
       "LLV                   False\n",
       "MFI                    True\n",
       "PPO                   False\n",
       "PDI                   False\n",
       "PDM                   False\n",
       "PVI                    True\n",
       "ParabolicSAR          False\n",
       "TEMA                  False\n",
       "TRIMA                 False\n",
       "TRIX                  False\n",
       "UltimateOscillator     True\n",
       "WMA                   False\n",
       "dtype: bool"
      ]
     },
     "execution_count": 130,
     "metadata": {},
     "output_type": "execute_result"
    }
   ],
   "source": [
    "X.pct_change()[\"2012\":].isnull().any()"
   ]
  },
  {
   "cell_type": "markdown",
   "metadata": {},
   "source": [
    "## AutoEncoder"
   ]
  },
  {
   "cell_type": "code",
   "execution_count": 107,
   "metadata": {
    "collapsed": true
   },
   "outputs": [],
   "source": [
    "from keras.layers import Input, Dense\n",
    "from keras.models import Model"
   ]
  },
  {
   "cell_type": "code",
   "execution_count": 108,
   "metadata": {
    "collapsed": true
   },
   "outputs": [],
   "source": [
    "encoding_dim = 16 # 54 dim -> 16 dim\n",
    "input_layer = Input(shape=(X.shape[1],))"
   ]
  },
  {
   "cell_type": "code",
   "execution_count": 109,
   "metadata": {},
   "outputs": [],
   "source": [
    "# \"encoded\" is the encoded representation of the input\n",
    "encoded = Dense(encoding_dim, activation='relu')(input_layer)\n",
    "# \"decoded\" is the lossy reconstruction of the input\n",
    "decoded = Dense(X.shape[1], activation='sigmoid')(encoded)\n",
    "# this model maps an input to its reconstruction\n",
    "autoencoder = Model(input_layer, decoded)"
   ]
  },
  {
   "cell_type": "code",
   "execution_count": 110,
   "metadata": {
    "collapsed": true
   },
   "outputs": [],
   "source": [
    "encoded_input = Input(shape=(encoding_dim,))\n",
    "encoder = Model(input_layer, encoded)"
   ]
  },
  {
   "cell_type": "code",
   "execution_count": 111,
   "metadata": {},
   "outputs": [],
   "source": [
    "decoder_layer = autoencoder.layers[-1]\n",
    "decoder = Model(encoded_input, decoder_layer(encoded_input))"
   ]
  },
  {
   "cell_type": "code",
   "execution_count": 112,
   "metadata": {
    "collapsed": true
   },
   "outputs": [],
   "source": [
    "autoencoder.compile(optimizer='adadelta', loss='mse')"
   ]
  },
  {
   "cell_type": "code",
   "execution_count": 114,
   "metadata": {},
   "outputs": [
    {
     "name": "stdout",
     "output_type": "stream",
     "text": [
      "Epoch 1/1\n",
      "333465/333465 [==============================] - 14s - loss: nan    \n"
     ]
    }
   ],
   "source": [
    "history = autoencoder.fit(X_train.values, X_train.values)"
   ]
  },
  {
   "cell_type": "code",
   "execution_count": null,
   "metadata": {
    "collapsed": true
   },
   "outputs": [],
   "source": []
  }
 ],
 "metadata": {
  "kernelspec": {
   "display_name": "Python 3",
   "language": "python",
   "name": "python3"
  },
  "language_info": {
   "codemirror_mode": {
    "name": "ipython",
    "version": 3
   },
   "file_extension": ".py",
   "mimetype": "text/x-python",
   "name": "python",
   "nbconvert_exporter": "python",
   "pygments_lexer": "ipython3",
   "version": "3.6.1"
  }
 },
 "nbformat": 4,
 "nbformat_minor": 2
}

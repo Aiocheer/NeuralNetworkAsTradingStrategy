{
 "cells": [
  {
   "cell_type": "code",
   "execution_count": 1,
   "metadata": {
    "collapsed": true
   },
   "outputs": [],
   "source": [
    "import warnings\n",
    "warnings.filterwarnings('ignore')\n",
    "import pandas as pd\n",
    "import numpy as np\n",
    "from matplotlib import pyplot\n",
    "from math import sqrt\n",
    "from pytz import timezone"
   ]
  },
  {
   "cell_type": "code",
   "execution_count": 2,
   "metadata": {},
   "outputs": [
    {
     "name": "stderr",
     "output_type": "stream",
     "text": [
      "Using TensorFlow backend.\n"
     ]
    }
   ],
   "source": [
    "from sklearn.metrics import mean_squared_error\n",
    "from sklearn.preprocessing import MinMaxScaler, Normalizer, RobustScaler, StandardScaler\n",
    "from sklearn.model_selection import train_test_split\n",
    "from keras.models import Sequential\n",
    "from keras.layers import Dense\n",
    "from keras.layers import LSTM\n",
    "from keras.layers import Activation\n",
    "from keras.layers import Conv1D\n",
    "from keras import optimizers\n",
    "from keras.utils.np_utils import to_categorical"
   ]
  },
  {
   "cell_type": "code",
   "execution_count": 3,
   "metadata": {},
   "outputs": [],
   "source": [
    "import dovahkiin as dk\n",
    "from dovahkiin.strategy import StrategyBase\n",
    "from dovahkiin.feature.Amibroker import *\n",
    "from dovahkiin.feature.StrategyUtility import *\n",
    "from dovahkiin.OptimizeParam import OptimizeParam\n",
    "\n",
    "\n",
    "class CrossOver(StrategyBase):\n",
    "\n",
    "    \"\"\"\n",
    "    样本策略，均线交叉\n",
    "    \"\"\"\n",
    "\n",
    "    params = {}\n",
    "    params[\"stop_ratio\"] = OptimizeParam(\"stop\", 9.7, 0.1, 12, 0.1)\n",
    "    params[\"short_ratio\"] = OptimizeParam(\"shortPeriod\", 0.19, 0.1, 0.5, 0.01)\n",
    "    params[\"longPeriod\"] = OptimizeParam(\"longPeriod\", 24, 20, 60, 1)\n",
    "    params[\"threshold_multiplier\"] = OptimizeParam(\"threshold_multiplier\", 1.1, 0.1, 4, 0.1)\n",
    "    params[\"linreg_lookback\"] = OptimizeParam(\"linreg_lookback\", 46, 10, 60, 1)\n",
    "    params[\"linreg_slope_coeff\"] = OptimizeParam(\"slope coeff\", 0.15, 0.05, 0.5, 0.05)\n",
    "    params[\"cond3_coeff\"] = OptimizeParam(\"cond3_coeff\", 1.75, 1, 4, 0.25)\n",
    "\n",
    "\n",
    "    def __init__(self, dataframe, params=None):\n",
    "        super().__init__(dataframe, params)\n",
    "\n",
    "    def strategy(self):\n",
    "\n",
    "        \"\"\"\n",
    "        策略的逻辑\n",
    "        \"\"\"\n",
    "\n",
    "        recentATR = ATR(self.C, self.H, self.L, 100, False)\n",
    "        threshold = self.optimize(\"threshold_multiplier\") * recentATR\n",
    "        linreg_slope_coeff = self.optimize(\"linreg_slope_coeff\")\n",
    "        linreg_lookback = int(self.optimize(\"linreg_lookback\"))\n",
    "        long_period = int(self.optimize(\"longPeriod\"))\n",
    "\n",
    "        short_period = int(self.optimize(\"short_ratio\") * long_period)\n",
    "        short_line = MA(self.C, short_period)\n",
    "        long_line = MA(self.C, self.optimize(\"longPeriod\"))\n",
    "        \n",
    "        print(\"short period\", short_period)\n",
    "        print(\"linreg lookback\", linreg_lookback)\n",
    "        print(\"long period\", long_period)\n",
    "\n",
    "        close_slope = LinRegSlope(self.C, short_period)\n",
    "        short_slope = LinRegSlope(short_line, linreg_lookback)\n",
    "\n",
    "        # Long logic\n",
    "        bcond1_1 = (self.C > long_line) & (self.C > short_line)\n",
    "        bcond1_2 = long_line < short_line\n",
    "        bcond1_3 = abs(short_line - long_line) > threshold\n",
    "        bcond1 = bcond1_1 & bcond1_2 & bcond1_3\n",
    "        bcond2 = LinRegSlope(self.C, short_period) > linreg_slope_coeff * self.optimize(\"cond3_coeff\") * recentATR\n",
    "        bcond3 = short_slope > linreg_slope_coeff * recentATR\n",
    "        BSIG = bcond1 & bcond2 & bcond3\n",
    "\n",
    "        # Short logic\n",
    "        scond1_1 = (self.C < long_line) & (self.C < short_line)\n",
    "        scond1_2 = long_line > short_line\n",
    "        scond1_3 = abs(short_line - long_line) > threshold\n",
    "        scond1 = scond1_1 & scond1_2 & scond1_3\n",
    "        scond2 = LinRegSlope(self.C, short_period) < (-1) * linreg_slope_coeff * self.optimize(\"cond3_coeff\") * recentATR\n",
    "        scond3 = short_slope < (-1) * linreg_slope_coeff * recentATR\n",
    "        SSIG = scond1 & scond2 & scond3\n",
    "\n",
    "        self.BUY = BSIG\n",
    "        self.SHORT = SSIG\n",
    "        \n",
    "        return BSIG.values"
   ]
  },
  {
   "cell_type": "code",
   "execution_count": 4,
   "metadata": {},
   "outputs": [],
   "source": [
    "dp = dk.DataParser()\n",
    "dataframe = dp.get_data(\"cu\")"
   ]
  },
  {
   "cell_type": "code",
   "execution_count": 5,
   "metadata": {},
   "outputs": [],
   "source": [
    "strategy = CrossOver(dataframe)"
   ]
  },
  {
   "cell_type": "code",
   "execution_count": 6,
   "metadata": {},
   "outputs": [
    {
     "name": "stdout",
     "output_type": "stream",
     "text": [
      "short period 4\n",
      "linreg lookback 46\n",
      "long period 24\n"
     ]
    }
   ],
   "source": [
    "strategy.strategy();"
   ]
  },
  {
   "cell_type": "code",
   "execution_count": 7,
   "metadata": {},
   "outputs": [],
   "source": [
    "sigs = strategy.BUY.astype(int) - strategy.SHORT.astype(int)\n",
    "y = sigs.values"
   ]
  },
  {
   "cell_type": "code",
   "execution_count": 8,
   "metadata": {},
   "outputs": [],
   "source": [
    "dataframe[\"long_line\"] = MA(strategy.C, 24).values\n",
    "dataframe[\"short_line\"] = MA(strategy.C, int(24*0.19)).values\n",
    "dataframe[\"ATR\"] = ATR(strategy.C, strategy.H, strategy.L, 100, False).values\n",
    "dataframe[\"threshold\"] = 1.1 * dataframe[\"ATR\"]\n",
    "dataframe[\"short_close_slope\"] = LinRegSlope(strategy.C, int(24*0.19)).values\n",
    "dataframe[\"slope_threshold\"] = 0.15 * 1.75 * dataframe[\"ATR\"]\n",
    "dataframe[\"short_slope\"] = LinRegSlope(strategy.C, 46).values"
   ]
  },
  {
   "cell_type": "code",
   "execution_count": 9,
   "metadata": {},
   "outputs": [],
   "source": [
    "del dataframe[\"open\"]\n",
    "del dataframe[\"high\"]\n",
    "del dataframe[\"low\"]\n",
    "del dataframe[\"volume\"]\n",
    "del dataframe[\"openint\"]"
   ]
  },
  {
   "cell_type": "code",
   "execution_count": 10,
   "metadata": {},
   "outputs": [],
   "source": [
    "X = dataframe.values"
   ]
  },
  {
   "cell_type": "code",
   "execution_count": 11,
   "metadata": {},
   "outputs": [],
   "source": [
    "# get rid of NAN\n",
    "X = X[200:]\n",
    "y = y[200:]"
   ]
  },
  {
   "cell_type": "code",
   "execution_count": 12,
   "metadata": {},
   "outputs": [],
   "source": [
    "assert(not np.isnan(X).any())\n",
    "assert(not np.isnan(y).any())"
   ]
  },
  {
   "cell_type": "code",
   "execution_count": 13,
   "metadata": {},
   "outputs": [
    {
     "data": {
      "text/plain": [
       "(958435, 8)"
      ]
     },
     "execution_count": 13,
     "metadata": {},
     "output_type": "execute_result"
    }
   ],
   "source": [
    "X.shape"
   ]
  },
  {
   "cell_type": "code",
   "execution_count": 14,
   "metadata": {},
   "outputs": [
    {
     "data": {
      "text/plain": [
       "(958435,)"
      ]
     },
     "execution_count": 14,
     "metadata": {},
     "output_type": "execute_result"
    }
   ],
   "source": [
    "y.shape"
   ]
  },
  {
   "cell_type": "code",
   "execution_count": 15,
   "metadata": {
    "collapsed": true
   },
   "outputs": [],
   "source": [
    "def FullyConnected_Model():\n",
    "    model = Sequential()\n",
    "    model.add(Dense(128, input_shape=(8,), activation=\"relu\"))\n",
    "    model.add(Dense(64, activation='relu'))\n",
    "    model.add(Dense(32, activation='relu'))\n",
    "    model.add(Dense(3, activation=\"softmax\"))\n",
    "    return model"
   ]
  },
  {
   "cell_type": "code",
   "execution_count": 16,
   "metadata": {
    "collapsed": true
   },
   "outputs": [],
   "source": [
    "def non_shuffling_train_test_split(X, y, test_size=0.2):\n",
    "    i = int((1 - test_size) * X.shape[0]) + 1\n",
    "    X_train, X_test = np.split(X, [i])\n",
    "    y_train, y_test = np.split(y, [i])\n",
    "    return X_train, X_test, y_train, y_test"
   ]
  },
  {
   "cell_type": "code",
   "execution_count": 17,
   "metadata": {
    "collapsed": true
   },
   "outputs": [],
   "source": [
    "X_train, X_test, y_train, y_test = non_shuffling_train_test_split(X, y, test_size=0.3)"
   ]
  },
  {
   "cell_type": "code",
   "execution_count": 18,
   "metadata": {},
   "outputs": [],
   "source": [
    "y_train_category = to_categorical(y_train, num_classes=3)"
   ]
  },
  {
   "cell_type": "code",
   "execution_count": null,
   "metadata": {},
   "outputs": [],
   "source": []
  },
  {
   "cell_type": "code",
   "execution_count": 27,
   "metadata": {},
   "outputs": [],
   "source": [
    "adam = optimizers.adam(lr=1e-19)\n",
    "sgd = optimizers.SGD(lr=1e-8, decay=1e-9, momentum=0.9, nesterov=True, clipnorm=1.)\n",
    "model = FullyConnected_Model()\n",
    "# model.compile(loss=\"mse\", optimizer=adam, metrics=[ 'mse'])\n",
    "model.compile(loss=\"categorical_crossentropy\", optimizer=adam, metrics=[ 'accuracy'])"
   ]
  },
  {
   "cell_type": "code",
   "execution_count": 28,
   "metadata": {
    "collapsed": true
   },
   "outputs": [],
   "source": [
    "batch_size = 1000"
   ]
  },
  {
   "cell_type": "code",
   "execution_count": 29,
   "metadata": {
    "collapsed": true
   },
   "outputs": [],
   "source": [
    "def trainFullyConnected_network():   \n",
    "    num_epochs = 1\n",
    "    for i in range(num_epochs):\n",
    "        model.fit(\n",
    "            np.nan_to_num(X_train),\n",
    "            np.nan_to_num(y_train_category),\n",
    "            epochs=100,\n",
    "            batch_size=batch_size,\n",
    "            verbose=1,\n",
    "            shuffle=False,\n",
    "            validation_split=0.2\n",
    "        )\n",
    "        \n",
    "    return model"
   ]
  },
  {
   "cell_type": "code",
   "execution_count": 30,
   "metadata": {
    "scrolled": true
   },
   "outputs": [
    {
     "name": "stdout",
     "output_type": "stream",
     "text": [
      "Train on 536724 samples, validate on 134181 samples\n",
      "Epoch 1/100\n",
      "536724/536724 [==============================] - 2s - loss: 1.0450 - acc: 0.9352 - val_loss: 0.6275 - val_acc: 0.9611\n",
      "Epoch 2/100\n",
      "536724/536724 [==============================] - 2s - loss: 1.0450 - acc: 0.9352 - val_loss: 0.6275 - val_acc: 0.9611\n",
      "Epoch 3/100\n",
      "536724/536724 [==============================] - 2s - loss: 1.0450 - acc: 0.9352 - val_loss: 0.6275 - val_acc: 0.9611\n",
      "Epoch 4/100\n",
      "536724/536724 [==============================] - 2s - loss: 1.0450 - acc: 0.9352 - val_loss: 0.6275 - val_acc: 0.9611\n",
      "Epoch 5/100\n",
      "536724/536724 [==============================] - 2s - loss: 1.0450 - acc: 0.9352 - val_loss: 0.6275 - val_acc: 0.9611\n",
      "Epoch 6/100\n",
      "536724/536724 [==============================] - 2s - loss: 1.0450 - acc: 0.9352 - val_loss: 0.6275 - val_acc: 0.9611\n",
      "Epoch 7/100\n",
      "536724/536724 [==============================] - 2s - loss: 1.0450 - acc: 0.9352 - val_loss: 0.6275 - val_acc: 0.9611\n",
      "Epoch 8/100\n",
      "536724/536724 [==============================] - 2s - loss: 1.0450 - acc: 0.9352 - val_loss: 0.6275 - val_acc: 0.9611\n",
      "Epoch 9/100\n",
      "536724/536724 [==============================] - 2s - loss: 1.0450 - acc: 0.9352 - val_loss: 0.6275 - val_acc: 0.9611\n",
      "Epoch 10/100\n",
      "536724/536724 [==============================] - 2s - loss: 1.0450 - acc: 0.9352 - val_loss: 0.6275 - val_acc: 0.9611\n",
      "Epoch 11/100\n",
      "536724/536724 [==============================] - 2s - loss: 1.0450 - acc: 0.9352 - val_loss: 0.6275 - val_acc: 0.9611\n",
      "Epoch 12/100\n",
      "536724/536724 [==============================] - 2s - loss: 1.0450 - acc: 0.9352 - val_loss: 0.6275 - val_acc: 0.9611\n",
      "Epoch 13/100\n",
      "536724/536724 [==============================] - 2s - loss: 1.0450 - acc: 0.9352 - val_loss: 0.6275 - val_acc: 0.9611\n",
      "Epoch 14/100\n",
      "536724/536724 [==============================] - 2s - loss: 1.0450 - acc: 0.9352 - val_loss: 0.6275 - val_acc: 0.9611\n",
      "Epoch 15/100\n",
      "536724/536724 [==============================] - 2s - loss: 1.0450 - acc: 0.9352 - val_loss: 0.6275 - val_acc: 0.9611\n",
      "Epoch 16/100\n",
      "536724/536724 [==============================] - 2s - loss: 1.0450 - acc: 0.9352 - val_loss: 0.6275 - val_acc: 0.9611\n",
      "Epoch 17/100\n",
      "536724/536724 [==============================] - 2s - loss: 1.0450 - acc: 0.9352 - val_loss: 0.6275 - val_acc: 0.9611\n",
      "Epoch 18/100\n",
      "536724/536724 [==============================] - 2s - loss: 1.0450 - acc: 0.9352 - val_loss: 0.6275 - val_acc: 0.9611\n",
      "Epoch 19/100\n",
      "536724/536724 [==============================] - 2s - loss: 1.0450 - acc: 0.9352 - val_loss: 0.6275 - val_acc: 0.9611\n",
      "Epoch 20/100\n",
      "536724/536724 [==============================] - 2s - loss: 1.0450 - acc: 0.9352 - val_loss: 0.6275 - val_acc: 0.9611\n",
      "Epoch 21/100\n",
      "536724/536724 [==============================] - 2s - loss: 1.0450 - acc: 0.9352 - val_loss: 0.6275 - val_acc: 0.9611\n",
      "Epoch 22/100\n",
      "536724/536724 [==============================] - 2s - loss: 1.0450 - acc: 0.9352 - val_loss: 0.6275 - val_acc: 0.9611\n",
      "Epoch 23/100\n",
      "536724/536724 [==============================] - 2s - loss: 1.0450 - acc: 0.9352 - val_loss: 0.6275 - val_acc: 0.9611\n",
      "Epoch 24/100\n",
      "536724/536724 [==============================] - 2s - loss: 1.0450 - acc: 0.9352 - val_loss: 0.6275 - val_acc: 0.9611\n",
      "Epoch 25/100\n",
      "536724/536724 [==============================] - 2s - loss: 1.0450 - acc: 0.9352 - val_loss: 0.6275 - val_acc: 0.9611\n",
      "Epoch 26/100\n",
      "536724/536724 [==============================] - 2s - loss: 1.0450 - acc: 0.9352 - val_loss: 0.6275 - val_acc: 0.9611\n",
      "Epoch 27/100\n",
      "536724/536724 [==============================] - 2s - loss: 1.0450 - acc: 0.9352 - val_loss: 0.6275 - val_acc: 0.9611\n",
      "Epoch 28/100\n",
      "536724/536724 [==============================] - 2s - loss: 1.0450 - acc: 0.9352 - val_loss: 0.6275 - val_acc: 0.9611\n",
      "Epoch 29/100\n",
      "536724/536724 [==============================] - 2s - loss: 1.0450 - acc: 0.9352 - val_loss: 0.6275 - val_acc: 0.9611\n",
      "Epoch 30/100\n",
      "536724/536724 [==============================] - 2s - loss: 1.0450 - acc: 0.9352 - val_loss: 0.6275 - val_acc: 0.9611\n",
      "Epoch 31/100\n",
      "536724/536724 [==============================] - 2s - loss: 1.0450 - acc: 0.9352 - val_loss: 0.6275 - val_acc: 0.9611\n",
      "Epoch 32/100\n",
      "536724/536724 [==============================] - 2s - loss: 1.0450 - acc: 0.9352 - val_loss: 0.6275 - val_acc: 0.9611\n",
      "Epoch 33/100\n",
      "536724/536724 [==============================] - 2s - loss: 1.0450 - acc: 0.9352 - val_loss: 0.6275 - val_acc: 0.9611\n",
      "Epoch 34/100\n",
      "536724/536724 [==============================] - 2s - loss: 1.0450 - acc: 0.9352 - val_loss: 0.6275 - val_acc: 0.9611\n",
      "Epoch 35/100\n",
      "536724/536724 [==============================] - 2s - loss: 1.0450 - acc: 0.9352 - val_loss: 0.6275 - val_acc: 0.9611\n",
      "Epoch 36/100\n",
      "536724/536724 [==============================] - 2s - loss: 1.0450 - acc: 0.9352 - val_loss: 0.6275 - val_acc: 0.9611\n",
      "Epoch 37/100\n",
      "536724/536724 [==============================] - 2s - loss: 1.0450 - acc: 0.9352 - val_loss: 0.6275 - val_acc: 0.9611\n",
      "Epoch 38/100\n",
      "536724/536724 [==============================] - 2s - loss: 1.0450 - acc: 0.9352 - val_loss: 0.6275 - val_acc: 0.9611\n",
      "Epoch 39/100\n",
      "536724/536724 [==============================] - 2s - loss: 1.0450 - acc: 0.9352 - val_loss: 0.6275 - val_acc: 0.9611\n",
      "Epoch 40/100\n",
      "536724/536724 [==============================] - 2s - loss: 1.0450 - acc: 0.9352 - val_loss: 0.6275 - val_acc: 0.9611\n",
      "Epoch 41/100\n",
      "536724/536724 [==============================] - 2s - loss: 1.0450 - acc: 0.9352 - val_loss: 0.6275 - val_acc: 0.9611\n",
      "Epoch 42/100\n",
      "536724/536724 [==============================] - 2s - loss: 1.0450 - acc: 0.9352 - val_loss: 0.6275 - val_acc: 0.9611\n",
      "Epoch 43/100\n",
      "536724/536724 [==============================] - 2s - loss: 1.0450 - acc: 0.9352 - val_loss: 0.6275 - val_acc: 0.9611\n",
      "Epoch 44/100\n",
      "536724/536724 [==============================] - 2s - loss: 1.0450 - acc: 0.9352 - val_loss: 0.6275 - val_acc: 0.9611\n",
      "Epoch 45/100\n",
      "536724/536724 [==============================] - 2s - loss: 1.0450 - acc: 0.9352 - val_loss: 0.6275 - val_acc: 0.9611\n",
      "Epoch 46/100\n",
      "536724/536724 [==============================] - 2s - loss: 1.0450 - acc: 0.9352 - val_loss: 0.6275 - val_acc: 0.9611\n",
      "Epoch 47/100\n",
      "536724/536724 [==============================] - 2s - loss: 1.0450 - acc: 0.9352 - val_loss: 0.6275 - val_acc: 0.9611\n",
      "Epoch 48/100\n",
      "536724/536724 [==============================] - 2s - loss: 1.0450 - acc: 0.9352 - val_loss: 0.6275 - val_acc: 0.9611\n",
      "Epoch 49/100\n",
      "536724/536724 [==============================] - 2s - loss: 1.0450 - acc: 0.9352 - val_loss: 0.6275 - val_acc: 0.9611\n",
      "Epoch 50/100\n",
      "536724/536724 [==============================] - 2s - loss: 1.0450 - acc: 0.9352 - val_loss: 0.6275 - val_acc: 0.9611\n",
      "Epoch 51/100\n",
      "536724/536724 [==============================] - 2s - loss: 1.0450 - acc: 0.9352 - val_loss: 0.6275 - val_acc: 0.9611\n",
      "Epoch 52/100\n",
      "536724/536724 [==============================] - 2s - loss: 1.0450 - acc: 0.9352 - val_loss: 0.6275 - val_acc: 0.9611\n",
      "Epoch 53/100\n",
      "536724/536724 [==============================] - 2s - loss: 1.0450 - acc: 0.9352 - val_loss: 0.6275 - val_acc: 0.9611\n",
      "Epoch 54/100\n",
      "536724/536724 [==============================] - 2s - loss: 1.0450 - acc: 0.9352 - val_loss: 0.6275 - val_acc: 0.9611\n",
      "Epoch 55/100\n",
      "536724/536724 [==============================] - 2s - loss: 1.0450 - acc: 0.9352 - val_loss: 0.6275 - val_acc: 0.9611\n",
      "Epoch 56/100\n",
      "536724/536724 [==============================] - 2s - loss: 1.0450 - acc: 0.9352 - val_loss: 0.6275 - val_acc: 0.9611\n",
      "Epoch 57/100\n",
      "536724/536724 [==============================] - 2s - loss: 1.0450 - acc: 0.9352 - val_loss: 0.6275 - val_acc: 0.9611\n",
      "Epoch 58/100\n",
      "536724/536724 [==============================] - 2s - loss: 1.0450 - acc: 0.9352 - val_loss: 0.6275 - val_acc: 0.9611\n",
      "Epoch 59/100\n",
      "536724/536724 [==============================] - 2s - loss: 1.0450 - acc: 0.9352 - val_loss: 0.6275 - val_acc: 0.9611\n",
      "Epoch 60/100\n",
      "536724/536724 [==============================] - 2s - loss: 1.0450 - acc: 0.9352 - val_loss: 0.6275 - val_acc: 0.9611\n",
      "Epoch 61/100\n",
      "536724/536724 [==============================] - 2s - loss: 1.0450 - acc: 0.9352 - val_loss: 0.6275 - val_acc: 0.9611\n",
      "Epoch 62/100\n",
      "536724/536724 [==============================] - 2s - loss: 1.0450 - acc: 0.9352 - val_loss: 0.6275 - val_acc: 0.9611\n",
      "Epoch 63/100\n"
     ]
    },
    {
     "name": "stdout",
     "output_type": "stream",
     "text": [
      "536724/536724 [==============================] - 2s - loss: 1.0450 - acc: 0.9352 - val_loss: 0.6275 - val_acc: 0.9611\n",
      "Epoch 64/100\n",
      "536724/536724 [==============================] - 2s - loss: 1.0450 - acc: 0.9352 - val_loss: 0.6275 - val_acc: 0.9611\n",
      "Epoch 65/100\n",
      "536724/536724 [==============================] - 2s - loss: 1.0450 - acc: 0.9352 - val_loss: 0.6275 - val_acc: 0.9611\n",
      "Epoch 66/100\n",
      "536724/536724 [==============================] - 2s - loss: 1.0450 - acc: 0.9352 - val_loss: 0.6275 - val_acc: 0.9611\n",
      "Epoch 67/100\n",
      "536724/536724 [==============================] - 2s - loss: 1.0450 - acc: 0.9352 - val_loss: 0.6275 - val_acc: 0.9611\n",
      "Epoch 68/100\n",
      "536724/536724 [==============================] - 2s - loss: 1.0450 - acc: 0.9352 - val_loss: 0.6275 - val_acc: 0.9611\n",
      "Epoch 69/100\n",
      "536724/536724 [==============================] - 2s - loss: 1.0450 - acc: 0.9352 - val_loss: 0.6275 - val_acc: 0.9611\n",
      "Epoch 70/100\n",
      "536724/536724 [==============================] - 2s - loss: 1.0450 - acc: 0.9352 - val_loss: 0.6275 - val_acc: 0.9611\n",
      "Epoch 71/100\n",
      "536724/536724 [==============================] - 2s - loss: 1.0450 - acc: 0.9352 - val_loss: 0.6275 - val_acc: 0.9611\n",
      "Epoch 72/100\n",
      "536724/536724 [==============================] - 2s - loss: 1.0450 - acc: 0.9352 - val_loss: 0.6275 - val_acc: 0.9611\n",
      "Epoch 73/100\n",
      "536724/536724 [==============================] - 2s - loss: 1.0450 - acc: 0.9352 - val_loss: 0.6275 - val_acc: 0.9611\n",
      "Epoch 74/100\n",
      "536724/536724 [==============================] - 2s - loss: 1.0450 - acc: 0.9352 - val_loss: 0.6275 - val_acc: 0.9611\n",
      "Epoch 75/100\n",
      "536724/536724 [==============================] - 2s - loss: 1.0450 - acc: 0.9352 - val_loss: 0.6275 - val_acc: 0.9611\n",
      "Epoch 76/100\n",
      "536724/536724 [==============================] - 2s - loss: 1.0450 - acc: 0.9352 - val_loss: 0.6275 - val_acc: 0.9611\n",
      "Epoch 77/100\n",
      "536724/536724 [==============================] - 2s - loss: 1.0450 - acc: 0.9352 - val_loss: 0.6275 - val_acc: 0.9611\n",
      "Epoch 78/100\n",
      "536724/536724 [==============================] - 2s - loss: 1.0450 - acc: 0.9352 - val_loss: 0.6275 - val_acc: 0.9611\n",
      "Epoch 79/100\n",
      "536724/536724 [==============================] - 2s - loss: 1.0450 - acc: 0.9352 - val_loss: 0.6275 - val_acc: 0.9611\n",
      "Epoch 80/100\n",
      "536724/536724 [==============================] - 2s - loss: 1.0450 - acc: 0.9352 - val_loss: 0.6275 - val_acc: 0.9611\n",
      "Epoch 81/100\n",
      "536724/536724 [==============================] - 2s - loss: 1.0450 - acc: 0.9352 - val_loss: 0.6275 - val_acc: 0.9611\n",
      "Epoch 82/100\n",
      "536724/536724 [==============================] - 2s - loss: 1.0450 - acc: 0.9352 - val_loss: 0.6275 - val_acc: 0.9611\n",
      "Epoch 83/100\n",
      "536724/536724 [==============================] - 2s - loss: 1.0450 - acc: 0.9352 - val_loss: 0.6275 - val_acc: 0.9611\n",
      "Epoch 84/100\n",
      "536724/536724 [==============================] - 2s - loss: 1.0450 - acc: 0.9352 - val_loss: 0.6275 - val_acc: 0.9611\n",
      "Epoch 85/100\n",
      "536724/536724 [==============================] - 2s - loss: 1.0450 - acc: 0.9352 - val_loss: 0.6275 - val_acc: 0.9611\n",
      "Epoch 86/100\n",
      "536724/536724 [==============================] - 2s - loss: 1.0450 - acc: 0.9352 - val_loss: 0.6275 - val_acc: 0.9611\n",
      "Epoch 87/100\n",
      "536724/536724 [==============================] - 2s - loss: 1.0450 - acc: 0.9352 - val_loss: 0.6275 - val_acc: 0.9611\n",
      "Epoch 88/100\n",
      "536724/536724 [==============================] - 2s - loss: 1.0450 - acc: 0.9352 - val_loss: 0.6275 - val_acc: 0.9611\n",
      "Epoch 89/100\n",
      "536724/536724 [==============================] - 2s - loss: 1.0450 - acc: 0.9352 - val_loss: 0.6275 - val_acc: 0.9611\n",
      "Epoch 90/100\n",
      "536724/536724 [==============================] - 2s - loss: 1.0450 - acc: 0.9352 - val_loss: 0.6275 - val_acc: 0.9611\n",
      "Epoch 91/100\n",
      "536724/536724 [==============================] - 2s - loss: 1.0450 - acc: 0.9352 - val_loss: 0.6275 - val_acc: 0.9611\n",
      "Epoch 92/100\n",
      "536724/536724 [==============================] - 2s - loss: 1.0450 - acc: 0.9352 - val_loss: 0.6275 - val_acc: 0.9611\n",
      "Epoch 93/100\n",
      "536724/536724 [==============================] - 2s - loss: 1.0450 - acc: 0.9352 - val_loss: 0.6275 - val_acc: 0.9611\n",
      "Epoch 94/100\n",
      "536724/536724 [==============================] - 2s - loss: 1.0450 - acc: 0.9352 - val_loss: 0.6275 - val_acc: 0.9611\n",
      "Epoch 95/100\n",
      "536724/536724 [==============================] - 2s - loss: 1.0450 - acc: 0.9352 - val_loss: 0.6275 - val_acc: 0.9611\n",
      "Epoch 96/100\n",
      "536724/536724 [==============================] - 2s - loss: 1.0450 - acc: 0.9352 - val_loss: 0.6275 - val_acc: 0.9611\n",
      "Epoch 97/100\n",
      "536724/536724 [==============================] - 2s - loss: 1.0450 - acc: 0.9352 - val_loss: 0.6275 - val_acc: 0.9611\n",
      "Epoch 98/100\n",
      "536724/536724 [==============================] - 2s - loss: 1.0450 - acc: 0.9352 - val_loss: 0.6275 - val_acc: 0.9611\n",
      "Epoch 99/100\n",
      "536724/536724 [==============================] - 2s - loss: 1.0450 - acc: 0.9352 - val_loss: 0.6275 - val_acc: 0.9611\n",
      "Epoch 100/100\n",
      "536724/536724 [==============================] - 2s - loss: 1.0450 - acc: 0.9352 - val_loss: 0.6275 - val_acc: 0.9611\n"
     ]
    }
   ],
   "source": [
    "model = trainFullyConnected_network()"
   ]
  },
  {
   "cell_type": "code",
   "execution_count": 31,
   "metadata": {},
   "outputs": [
    {
     "name": "stdout",
     "output_type": "stream",
     "text": [
      "285536/287530 [============================>.] - ETA: 0s"
     ]
    },
    {
     "data": {
      "text/plain": [
       "[0.63551933345506784, 0.96057107084478144]"
      ]
     },
     "execution_count": 31,
     "metadata": {},
     "output_type": "execute_result"
    }
   ],
   "source": [
    "model.evaluate(X_test, to_categorical(y_test, num_classes=3))"
   ]
  },
  {
   "cell_type": "code",
   "execution_count": 28,
   "metadata": {},
   "outputs": [
    {
     "data": {
      "text/plain": [
       "array([[-0.01228218],\n",
       "       [-0.11140327],\n",
       "       [ 0.0215313 ],\n",
       "       ..., \n",
       "       [ 0.08549614],\n",
       "       [-0.02162056],\n",
       "       [-0.18421821]], dtype=float32)"
      ]
     },
     "execution_count": 28,
     "metadata": {},
     "output_type": "execute_result"
    }
   ],
   "source": [
    "y_predicated"
   ]
  },
  {
   "cell_type": "code",
   "execution_count": 29,
   "metadata": {},
   "outputs": [
    {
     "data": {
      "text/plain": [
       "date_time\n",
       "2014-12-03 23:35:00+08:00    0\n",
       "2014-12-03 23:36:00+08:00    0\n",
       "2014-12-03 23:37:00+08:00    0\n",
       "2014-12-03 23:38:00+08:00    0\n",
       "2014-12-03 23:39:00+08:00    0\n",
       "2014-12-03 23:40:00+08:00    0\n",
       "2014-12-03 23:41:00+08:00    0\n",
       "2014-12-03 23:42:00+08:00    0\n",
       "2014-12-03 23:43:00+08:00    0\n",
       "2014-12-03 23:44:00+08:00    0\n",
       "2014-12-03 23:45:00+08:00    0\n",
       "2014-12-03 23:46:00+08:00    0\n",
       "2014-12-03 23:47:00+08:00    0\n",
       "2014-12-03 23:48:00+08:00    0\n",
       "2014-12-03 23:49:00+08:00    0\n",
       "2014-12-03 23:50:00+08:00    0\n",
       "2014-12-03 23:51:00+08:00    0\n",
       "2014-12-03 23:52:00+08:00    0\n",
       "2014-12-03 23:53:00+08:00    0\n",
       "2014-12-03 23:54:00+08:00    0\n",
       "2014-12-03 23:55:00+08:00    0\n",
       "2014-12-03 23:56:00+08:00    0\n",
       "2014-12-03 23:57:00+08:00    0\n",
       "2014-12-03 23:58:00+08:00    0\n",
       "2014-12-03 23:59:00+08:00    0\n",
       "2014-12-04 00:00:00+08:00    0\n",
       "2014-12-04 00:01:00+08:00    0\n",
       "2014-12-04 00:02:00+08:00    0\n",
       "2014-12-04 00:03:00+08:00    0\n",
       "2014-12-04 00:04:00+08:00    0\n",
       "                            ..\n",
       "2017-07-04 14:30:00+08:00    0\n",
       "2017-07-04 14:31:00+08:00    0\n",
       "2017-07-04 14:32:00+08:00    0\n",
       "2017-07-04 14:33:00+08:00    0\n",
       "2017-07-04 14:34:00+08:00    0\n",
       "2017-07-04 14:35:00+08:00    0\n",
       "2017-07-04 14:36:00+08:00    0\n",
       "2017-07-04 14:37:00+08:00    0\n",
       "2017-07-04 14:38:00+08:00    0\n",
       "2017-07-04 14:39:00+08:00    0\n",
       "2017-07-04 14:40:00+08:00    0\n",
       "2017-07-04 14:41:00+08:00    0\n",
       "2017-07-04 14:42:00+08:00    0\n",
       "2017-07-04 14:43:00+08:00    0\n",
       "2017-07-04 14:44:00+08:00    0\n",
       "2017-07-04 14:45:00+08:00    0\n",
       "2017-07-04 14:46:00+08:00    0\n",
       "2017-07-04 14:47:00+08:00    0\n",
       "2017-07-04 14:48:00+08:00    0\n",
       "2017-07-04 14:49:00+08:00    0\n",
       "2017-07-04 14:50:00+08:00    0\n",
       "2017-07-04 14:51:00+08:00    0\n",
       "2017-07-04 14:52:00+08:00    0\n",
       "2017-07-04 14:53:00+08:00    0\n",
       "2017-07-04 14:54:00+08:00    0\n",
       "2017-07-04 14:55:00+08:00    0\n",
       "2017-07-04 14:56:00+08:00    0\n",
       "2017-07-04 14:57:00+08:00    0\n",
       "2017-07-04 14:58:00+08:00    0\n",
       "2017-07-04 14:59:00+08:00    0\n",
       "Length: 287530, dtype: int64"
      ]
     },
     "execution_count": 29,
     "metadata": {},
     "output_type": "execute_result"
    }
   ],
   "source": [
    "y_test"
   ]
  }
 ],
 "metadata": {
  "kernelspec": {
   "display_name": "Python 3",
   "language": "python",
   "name": "python3"
  },
  "language_info": {
   "codemirror_mode": {
    "name": "ipython",
    "version": 3
   },
   "file_extension": ".py",
   "mimetype": "text/x-python",
   "name": "python",
   "nbconvert_exporter": "python",
   "pygments_lexer": "ipython3",
   "version": "3.6.1"
  }
 },
 "nbformat": 4,
 "nbformat_minor": 2
}

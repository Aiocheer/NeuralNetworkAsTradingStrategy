{
 "cells": [
  {
   "cell_type": "code",
   "execution_count": 1,
   "metadata": {
    "collapsed": true
   },
   "outputs": [],
   "source": [
    "import dovahkiin as dk\n",
    "import pandas as pd\n",
    "from dovahkiin.strategy.Sample_CrossOver import CrossOver\n",
    "from dovahkiin.analysis import StandardAnalysis"
   ]
  },
  {
   "cell_type": "code",
   "execution_count": 2,
   "metadata": {
    "collapsed": true
   },
   "outputs": [],
   "source": [
    "import talib"
   ]
  },
  {
   "cell_type": "code",
   "execution_count": 3,
   "metadata": {
    "collapsed": true
   },
   "outputs": [],
   "source": [
    "dataParser = dk.DataParser()"
   ]
  },
  {
   "cell_type": "code",
   "execution_count": 4,
   "metadata": {
    "collapsed": true
   },
   "outputs": [],
   "source": [
    "cuData = dataParser.get_data('cu')"
   ]
  },
  {
   "cell_type": "code",
   "execution_count": 5,
   "metadata": {
    "collapsed": true
   },
   "outputs": [],
   "source": [
    "cuData = cuData[\"2012\":]"
   ]
  },
  {
   "cell_type": "code",
   "execution_count": 6,
   "metadata": {},
   "outputs": [
    {
     "data": {
      "text/plain": [
       "{'maxdrawdown': 196566.9211000033,\n",
       " 'profit': -195649.37640000333,\n",
       " 'tradesnum': 22429.0}"
      ]
     },
     "execution_count": 6,
     "metadata": {},
     "output_type": "execute_result"
    }
   ],
   "source": [
    "s = CrossOver(cuData, {\"shortPeriod\": 10, \"longPeriod\": 50})\n",
    "s.run()\n",
    "evaluation = StandardAnalysis(cuData.close, s.Positions, 10, 2)\n",
    "evaluation.report()"
   ]
  },
  {
   "cell_type": "code",
   "execution_count": 12,
   "metadata": {},
   "outputs": [
    {
     "data": {
      "text/plain": [
       "array([        nan,         nan,         nan, ..., -0.50893602,\n",
       "       -0.38581271, -0.26991489])"
      ]
     },
     "execution_count": 12,
     "metadata": {},
     "output_type": "execute_result"
    }
   ],
   "source": [
    "talib.LINEARREG_SLOPE(cuData.close.values, 20)"
   ]
  },
  {
   "cell_type": "code",
   "execution_count": 11,
   "metadata": {
    "collapsed": true
   },
   "outputs": [],
   "source": [
    "def zigzag(s, pct=5):\n",
    "    ut = 1 + pct / 100\n",
    "    dt = 1 - pct / 100\n",
    "\n",
    "    ld = s.index[0]\n",
    "    lp = s.close[ld]\n",
    "    tr = None\n",
    "\n",
    "    zzd, zzp = [ld], [lp]\n",
    "\n",
    "    for ix, ch, cl in zip(s.index, s.high, s.low):\n",
    "        # No initial trend\n",
    "        if tr is None:\n",
    "            if ch / lp > ut:\n",
    "                tr = 1\n",
    "            elif cl / lp < dt:\n",
    "                tr = -1\n",
    "        # Trend is up\n",
    "        elif tr == 1:\n",
    "            # New high\n",
    "            if ch > lp:\n",
    "                ld, lp = ix, ch\n",
    "            # Reversal\n",
    "            elif cl / lp < dt:\n",
    "                zzd.append(ld)\n",
    "                zzp.append(lp)\n",
    "\n",
    "                tr, ld, lp = -1, ix, cl\n",
    "        # Trend is down\n",
    "        else:\n",
    "            # New low\n",
    "            if cl < lp:\n",
    "                ld, lp = ix, cl\n",
    "            # Reversal\n",
    "            elif ch / lp > ut:\n",
    "                zzd.append(ld)\n",
    "                zzp.append(lp)\n",
    "\n",
    "                tr, ld, lp = 1, ix, ch\n",
    "\n",
    "    # Extrapolate the current trend\n",
    "    if zzd[-1] != s.index[-1]:\n",
    "        zzd.append(s.index[-1])\n",
    "\n",
    "        if tr is None:\n",
    "            zzp.append(s.close[zzd[-1]])\n",
    "        elif tr == 1:\n",
    "            zzp.append(s.high[zzd[-1]])\n",
    "        else:\n",
    "            zzp.append(s.low[zzd[-1]])\n",
    "\n",
    "    return Series(zzp, index=zzd)"
   ]
  },
  {
   "cell_type": "code",
   "execution_count": 50,
   "metadata": {
    "collapsed": true
   },
   "outputs": [],
   "source": [
    "def ema(s, n, wilder=False):\n",
    "    span = n if not wilder else 2*n - 1\n",
    "    return s.ewm(span=span).mean()"
   ]
  },
  {
   "cell_type": "code",
   "execution_count": 51,
   "metadata": {
    "collapsed": true
   },
   "outputs": [],
   "source": [
    "def ema2(s, n, wilder=False):\n",
    "    span = n if not wilder else 2*n - 1\n",
    "    return pd.stats.moments.ewma(s, span=span)"
   ]
  },
  {
   "cell_type": "code",
   "execution_count": null,
   "metadata": {
    "collapsed": true
   },
   "outputs": [],
   "source": []
  },
  {
   "cell_type": "code",
   "execution_count": 52,
   "metadata": {},
   "outputs": [
    {
     "name": "stderr",
     "output_type": "stream",
     "text": [
      "/usr/local/lib/python3.6/site-packages/ipykernel_launcher.py:3: FutureWarning: pd.ewm_mean is deprecated for Series and will be removed in a future version, replace with \n",
      "\tSeries.ewm(span=19,min_periods=0,adjust=True,ignore_na=False).mean()\n",
      "  This is separate from the ipykernel package so we can avoid doing imports until\n"
     ]
    }
   ],
   "source": [
    "diff = ema2(cuData.close, 10, wilder=True) - ema(cuData.close, 10, wilder=True)"
   ]
  },
  {
   "cell_type": "code",
   "execution_count": 54,
   "metadata": {},
   "outputs": [
    {
     "data": {
      "text/plain": [
       "0.0"
      ]
     },
     "execution_count": 54,
     "metadata": {},
     "output_type": "execute_result"
    }
   ],
   "source": [
    "diff.abs().sum()"
   ]
  },
  {
   "cell_type": "code",
   "execution_count": 5,
   "metadata": {},
   "outputs": [],
   "source": [
    "sigs = pd.read_csv(\"93013_20170625_ALLSig.csv\", index_col=[0], names=[\"datetime\", \"position\"])"
   ]
  },
  {
   "cell_type": "code",
   "execution_count": 6,
   "metadata": {},
   "outputs": [
    {
     "data": {
      "text/html": [
       "<div>\n",
       "<style>\n",
       "    .dataframe thead tr:only-child th {\n",
       "        text-align: right;\n",
       "    }\n",
       "\n",
       "    .dataframe thead th {\n",
       "        text-align: left;\n",
       "    }\n",
       "\n",
       "    .dataframe tbody tr th {\n",
       "        vertical-align: top;\n",
       "    }\n",
       "</style>\n",
       "<table border=\"1\" class=\"dataframe\">\n",
       "  <thead>\n",
       "    <tr style=\"text-align: right;\">\n",
       "      <th></th>\n",
       "      <th>position</th>\n",
       "    </tr>\n",
       "    <tr>\n",
       "      <th>datetime</th>\n",
       "      <th></th>\n",
       "    </tr>\n",
       "  </thead>\n",
       "  <tbody>\n",
       "    <tr>\n",
       "      <th>2003-08-01 09:00:00</th>\n",
       "      <td>0</td>\n",
       "    </tr>\n",
       "    <tr>\n",
       "      <th>2003-08-01 09:01:00</th>\n",
       "      <td>0</td>\n",
       "    </tr>\n",
       "    <tr>\n",
       "      <th>2003-08-01 09:02:00</th>\n",
       "      <td>0</td>\n",
       "    </tr>\n",
       "    <tr>\n",
       "      <th>2003-08-01 09:03:00</th>\n",
       "      <td>0</td>\n",
       "    </tr>\n",
       "    <tr>\n",
       "      <th>2003-08-01 09:04:00</th>\n",
       "      <td>0</td>\n",
       "    </tr>\n",
       "    <tr>\n",
       "      <th>2003-08-01 09:05:00</th>\n",
       "      <td>0</td>\n",
       "    </tr>\n",
       "    <tr>\n",
       "      <th>2003-08-01 09:06:00</th>\n",
       "      <td>0</td>\n",
       "    </tr>\n",
       "    <tr>\n",
       "      <th>2003-08-01 09:07:00</th>\n",
       "      <td>0</td>\n",
       "    </tr>\n",
       "    <tr>\n",
       "      <th>2003-08-01 09:08:00</th>\n",
       "      <td>0</td>\n",
       "    </tr>\n",
       "    <tr>\n",
       "      <th>2003-08-01 09:09:00</th>\n",
       "      <td>0</td>\n",
       "    </tr>\n",
       "    <tr>\n",
       "      <th>2003-08-01 09:10:00</th>\n",
       "      <td>0</td>\n",
       "    </tr>\n",
       "    <tr>\n",
       "      <th>2003-08-01 09:11:00</th>\n",
       "      <td>0</td>\n",
       "    </tr>\n",
       "    <tr>\n",
       "      <th>2003-08-01 09:12:00</th>\n",
       "      <td>0</td>\n",
       "    </tr>\n",
       "    <tr>\n",
       "      <th>2003-08-01 09:13:00</th>\n",
       "      <td>0</td>\n",
       "    </tr>\n",
       "    <tr>\n",
       "      <th>2003-08-01 09:14:00</th>\n",
       "      <td>0</td>\n",
       "    </tr>\n",
       "    <tr>\n",
       "      <th>2003-08-01 09:15:00</th>\n",
       "      <td>0</td>\n",
       "    </tr>\n",
       "    <tr>\n",
       "      <th>2003-08-01 09:16:00</th>\n",
       "      <td>0</td>\n",
       "    </tr>\n",
       "    <tr>\n",
       "      <th>2003-08-01 09:17:00</th>\n",
       "      <td>0</td>\n",
       "    </tr>\n",
       "    <tr>\n",
       "      <th>2003-08-01 09:18:00</th>\n",
       "      <td>0</td>\n",
       "    </tr>\n",
       "    <tr>\n",
       "      <th>2003-08-01 09:19:00</th>\n",
       "      <td>0</td>\n",
       "    </tr>\n",
       "    <tr>\n",
       "      <th>2003-08-01 09:20:00</th>\n",
       "      <td>0</td>\n",
       "    </tr>\n",
       "    <tr>\n",
       "      <th>2003-08-01 09:21:00</th>\n",
       "      <td>0</td>\n",
       "    </tr>\n",
       "    <tr>\n",
       "      <th>2003-08-01 09:22:00</th>\n",
       "      <td>0</td>\n",
       "    </tr>\n",
       "    <tr>\n",
       "      <th>2003-08-01 09:23:00</th>\n",
       "      <td>0</td>\n",
       "    </tr>\n",
       "    <tr>\n",
       "      <th>2003-08-01 09:24:00</th>\n",
       "      <td>0</td>\n",
       "    </tr>\n",
       "    <tr>\n",
       "      <th>2003-08-01 09:25:00</th>\n",
       "      <td>0</td>\n",
       "    </tr>\n",
       "    <tr>\n",
       "      <th>2003-08-01 09:26:00</th>\n",
       "      <td>0</td>\n",
       "    </tr>\n",
       "    <tr>\n",
       "      <th>2003-08-01 09:27:00</th>\n",
       "      <td>0</td>\n",
       "    </tr>\n",
       "    <tr>\n",
       "      <th>2003-08-01 09:28:00</th>\n",
       "      <td>0</td>\n",
       "    </tr>\n",
       "    <tr>\n",
       "      <th>2003-08-01 09:29:00</th>\n",
       "      <td>0</td>\n",
       "    </tr>\n",
       "    <tr>\n",
       "      <th>...</th>\n",
       "      <td>...</td>\n",
       "    </tr>\n",
       "    <tr>\n",
       "      <th>2017-04-28 14:30:00</th>\n",
       "      <td>1</td>\n",
       "    </tr>\n",
       "    <tr>\n",
       "      <th>2017-04-28 14:31:00</th>\n",
       "      <td>1</td>\n",
       "    </tr>\n",
       "    <tr>\n",
       "      <th>2017-04-28 14:32:00</th>\n",
       "      <td>1</td>\n",
       "    </tr>\n",
       "    <tr>\n",
       "      <th>2017-04-28 14:33:00</th>\n",
       "      <td>1</td>\n",
       "    </tr>\n",
       "    <tr>\n",
       "      <th>2017-04-28 14:34:00</th>\n",
       "      <td>1</td>\n",
       "    </tr>\n",
       "    <tr>\n",
       "      <th>2017-04-28 14:35:00</th>\n",
       "      <td>1</td>\n",
       "    </tr>\n",
       "    <tr>\n",
       "      <th>2017-04-28 14:36:00</th>\n",
       "      <td>1</td>\n",
       "    </tr>\n",
       "    <tr>\n",
       "      <th>2017-04-28 14:37:00</th>\n",
       "      <td>1</td>\n",
       "    </tr>\n",
       "    <tr>\n",
       "      <th>2017-04-28 14:38:00</th>\n",
       "      <td>1</td>\n",
       "    </tr>\n",
       "    <tr>\n",
       "      <th>2017-04-28 14:39:00</th>\n",
       "      <td>1</td>\n",
       "    </tr>\n",
       "    <tr>\n",
       "      <th>2017-04-28 14:40:00</th>\n",
       "      <td>1</td>\n",
       "    </tr>\n",
       "    <tr>\n",
       "      <th>2017-04-28 14:41:00</th>\n",
       "      <td>1</td>\n",
       "    </tr>\n",
       "    <tr>\n",
       "      <th>2017-04-28 14:42:00</th>\n",
       "      <td>1</td>\n",
       "    </tr>\n",
       "    <tr>\n",
       "      <th>2017-04-28 14:43:00</th>\n",
       "      <td>1</td>\n",
       "    </tr>\n",
       "    <tr>\n",
       "      <th>2017-04-28 14:44:00</th>\n",
       "      <td>1</td>\n",
       "    </tr>\n",
       "    <tr>\n",
       "      <th>2017-04-28 14:45:00</th>\n",
       "      <td>1</td>\n",
       "    </tr>\n",
       "    <tr>\n",
       "      <th>2017-04-28 14:46:00</th>\n",
       "      <td>1</td>\n",
       "    </tr>\n",
       "    <tr>\n",
       "      <th>2017-04-28 14:47:00</th>\n",
       "      <td>1</td>\n",
       "    </tr>\n",
       "    <tr>\n",
       "      <th>2017-04-28 14:48:00</th>\n",
       "      <td>1</td>\n",
       "    </tr>\n",
       "    <tr>\n",
       "      <th>2017-04-28 14:49:00</th>\n",
       "      <td>1</td>\n",
       "    </tr>\n",
       "    <tr>\n",
       "      <th>2017-04-28 14:50:00</th>\n",
       "      <td>1</td>\n",
       "    </tr>\n",
       "    <tr>\n",
       "      <th>2017-04-28 14:51:00</th>\n",
       "      <td>1</td>\n",
       "    </tr>\n",
       "    <tr>\n",
       "      <th>2017-04-28 14:52:00</th>\n",
       "      <td>1</td>\n",
       "    </tr>\n",
       "    <tr>\n",
       "      <th>2017-04-28 14:53:00</th>\n",
       "      <td>1</td>\n",
       "    </tr>\n",
       "    <tr>\n",
       "      <th>2017-04-28 14:54:00</th>\n",
       "      <td>1</td>\n",
       "    </tr>\n",
       "    <tr>\n",
       "      <th>2017-04-28 14:55:00</th>\n",
       "      <td>1</td>\n",
       "    </tr>\n",
       "    <tr>\n",
       "      <th>2017-04-28 14:56:00</th>\n",
       "      <td>1</td>\n",
       "    </tr>\n",
       "    <tr>\n",
       "      <th>2017-04-28 14:57:00</th>\n",
       "      <td>0</td>\n",
       "    </tr>\n",
       "    <tr>\n",
       "      <th>2017-04-28 14:58:00</th>\n",
       "      <td>0</td>\n",
       "    </tr>\n",
       "    <tr>\n",
       "      <th>2017-04-28 14:59:00</th>\n",
       "      <td>0</td>\n",
       "    </tr>\n",
       "  </tbody>\n",
       "</table>\n",
       "<p>938655 rows × 1 columns</p>\n",
       "</div>"
      ],
      "text/plain": [
       "                     position\n",
       "datetime                     \n",
       "2003-08-01 09:00:00         0\n",
       "2003-08-01 09:01:00         0\n",
       "2003-08-01 09:02:00         0\n",
       "2003-08-01 09:03:00         0\n",
       "2003-08-01 09:04:00         0\n",
       "2003-08-01 09:05:00         0\n",
       "2003-08-01 09:06:00         0\n",
       "2003-08-01 09:07:00         0\n",
       "2003-08-01 09:08:00         0\n",
       "2003-08-01 09:09:00         0\n",
       "2003-08-01 09:10:00         0\n",
       "2003-08-01 09:11:00         0\n",
       "2003-08-01 09:12:00         0\n",
       "2003-08-01 09:13:00         0\n",
       "2003-08-01 09:14:00         0\n",
       "2003-08-01 09:15:00         0\n",
       "2003-08-01 09:16:00         0\n",
       "2003-08-01 09:17:00         0\n",
       "2003-08-01 09:18:00         0\n",
       "2003-08-01 09:19:00         0\n",
       "2003-08-01 09:20:00         0\n",
       "2003-08-01 09:21:00         0\n",
       "2003-08-01 09:22:00         0\n",
       "2003-08-01 09:23:00         0\n",
       "2003-08-01 09:24:00         0\n",
       "2003-08-01 09:25:00         0\n",
       "2003-08-01 09:26:00         0\n",
       "2003-08-01 09:27:00         0\n",
       "2003-08-01 09:28:00         0\n",
       "2003-08-01 09:29:00         0\n",
       "...                       ...\n",
       "2017-04-28 14:30:00         1\n",
       "2017-04-28 14:31:00         1\n",
       "2017-04-28 14:32:00         1\n",
       "2017-04-28 14:33:00         1\n",
       "2017-04-28 14:34:00         1\n",
       "2017-04-28 14:35:00         1\n",
       "2017-04-28 14:36:00         1\n",
       "2017-04-28 14:37:00         1\n",
       "2017-04-28 14:38:00         1\n",
       "2017-04-28 14:39:00         1\n",
       "2017-04-28 14:40:00         1\n",
       "2017-04-28 14:41:00         1\n",
       "2017-04-28 14:42:00         1\n",
       "2017-04-28 14:43:00         1\n",
       "2017-04-28 14:44:00         1\n",
       "2017-04-28 14:45:00         1\n",
       "2017-04-28 14:46:00         1\n",
       "2017-04-28 14:47:00         1\n",
       "2017-04-28 14:48:00         1\n",
       "2017-04-28 14:49:00         1\n",
       "2017-04-28 14:50:00         1\n",
       "2017-04-28 14:51:00         1\n",
       "2017-04-28 14:52:00         1\n",
       "2017-04-28 14:53:00         1\n",
       "2017-04-28 14:54:00         1\n",
       "2017-04-28 14:55:00         1\n",
       "2017-04-28 14:56:00         1\n",
       "2017-04-28 14:57:00         0\n",
       "2017-04-28 14:58:00         0\n",
       "2017-04-28 14:59:00         0\n",
       "\n",
       "[938655 rows x 1 columns]"
      ]
     },
     "execution_count": 6,
     "metadata": {},
     "output_type": "execute_result"
    }
   ],
   "source": [
    "sigs"
   ]
  },
  {
   "cell_type": "code",
   "execution_count": null,
   "metadata": {
    "collapsed": true
   },
   "outputs": [],
   "source": []
  }
 ],
 "metadata": {
  "kernelspec": {
   "display_name": "Python 3",
   "language": "python",
   "name": "python3"
  },
  "language_info": {
   "codemirror_mode": {
    "name": "ipython",
    "version": 3
   },
   "file_extension": ".py",
   "mimetype": "text/x-python",
   "name": "python",
   "nbconvert_exporter": "python",
   "pygments_lexer": "ipython3",
   "version": "3.6.1"
  }
 },
 "nbformat": 4,
 "nbformat_minor": 2
}

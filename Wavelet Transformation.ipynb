{
 "cells": [
  {
   "cell_type": "code",
   "execution_count": 1,
   "metadata": {},
   "outputs": [
    {
     "name": "stderr",
     "output_type": "stream",
     "text": [
      "Using TensorFlow backend.\n"
     ]
    }
   ],
   "source": [
    "import warnings\n",
    "warnings.filterwarnings('ignore')\n",
    "import pandas as pd\n",
    "import numpy as np\n",
    "from matplotlib import pyplot as plt\n",
    "from math import sqrt\n",
    "from pytz import timezone\n",
    "\n",
    "from sklearn.metrics import mean_squared_error\n",
    "from sklearn.preprocessing import MinMaxScaler, Normalizer, RobustScaler, StandardScaler\n",
    "from sklearn.model_selection import train_test_split\n",
    "from keras.models import Sequential\n",
    "from keras.layers import Dense\n",
    "from keras.layers import LSTM\n",
    "from keras.layers import Activation\n",
    "from keras.utils.np_utils import to_categorical\n",
    "from keras import optimizers\n",
    "import talib\n",
    "\n",
    "def get_CU():\n",
    "    import dovahkiin as dk\n",
    "    dp = dk.DataParser()\n",
    "    X = dp.get_data(\"cu\")\n",
    "    return X\n",
    "\n",
    "def get_SP500():\n",
    "    import pandas_datareader as pdr    \n",
    "    SP500 = pdr.get_data_yahoo('^GSPC')\n",
    "    return SP500\n",
    "\n",
    "def get_X_data():\n",
    "    import dovahkiin as dk\n",
    "    dp = dk.DataParser()\n",
    "    X = dp.get_data(\"cu\")\n",
    "    return X\n",
    "\n",
    "X = get_X_data()"
   ]
  },
  {
   "cell_type": "code",
   "execution_count": 2,
   "metadata": {},
   "outputs": [],
   "source": [
    "fig_size = (12, 9)\n",
    "plt.rcParams[\"figure.figsize\"] = fig_size"
   ]
  },
  {
   "cell_type": "code",
   "execution_count": 3,
   "metadata": {},
   "outputs": [],
   "source": [
    "X[\"HLC\"] = (X.high + X.low + X.close) / 3"
   ]
  },
  {
   "cell_type": "code",
   "execution_count": 4,
   "metadata": {},
   "outputs": [],
   "source": [
    "X[\"return\"] = X.HLC.pct_change()"
   ]
  },
  {
   "cell_type": "code",
   "execution_count": 5,
   "metadata": {},
   "outputs": [],
   "source": [
    "X[\"return\"] = X[\"return\"].fillna(0)"
   ]
  },
  {
   "cell_type": "code",
   "execution_count": null,
   "metadata": {
    "collapsed": true
   },
   "outputs": [],
   "source": []
  },
  {
   "cell_type": "markdown",
   "metadata": {},
   "source": [
    "### Wavelet Decomposition"
   ]
  },
  {
   "cell_type": "code",
   "execution_count": 6,
   "metadata": {
    "collapsed": true
   },
   "outputs": [],
   "source": [
    "import pywt\n",
    "from statsmodels.robust import stand_mad\n",
    "\n",
    "# Wavelet Decomposition\n",
    "level = 9\n",
    "haar = pywt.Wavelet(\"haar\")\n",
    "coeffs = pywt.wavedec(X[\"return\"].values, haar, level=9)\n",
    "recomposed_return = pywt.waverec(coeffs, haar)"
   ]
  },
  {
   "cell_type": "code",
   "execution_count": 7,
   "metadata": {},
   "outputs": [
    {
     "data": {
      "text/plain": [
       "array([ -6.94567017e-20,  -1.52746431e-05,  -3.30791130e-04, ...,\n",
       "        -4.46399095e-04,   3.44784337e-04,   3.44784337e-04])"
      ]
     },
     "execution_count": 7,
     "metadata": {},
     "output_type": "execute_result"
    }
   ],
   "source": [
    "recomposed_return"
   ]
  },
  {
   "cell_type": "code",
   "execution_count": 8,
   "metadata": {},
   "outputs": [
    {
     "data": {
      "text/plain": [
       "date_time\n",
       "2003-08-01 09:00:00+08:00    6.945670e-20\n",
       "2003-08-01 09:01:00+08:00    7.453890e-20\n",
       "2003-08-01 09:02:00+08:00    1.626303e-19\n",
       "2003-08-01 09:03:00+08:00    1.626303e-19\n",
       "2003-08-01 09:04:00+08:00    2.710505e-20\n",
       "2003-08-01 09:05:00+08:00   -2.710505e-20\n",
       "2003-08-01 09:06:00+08:00    0.000000e+00\n",
       "2003-08-01 09:07:00+08:00   -2.710505e-20\n",
       "2003-08-01 09:08:00+08:00   -5.421011e-20\n",
       "2003-08-01 09:09:00+08:00   -1.355253e-20\n",
       "2003-08-01 09:10:00+08:00   -2.168404e-19\n",
       "2003-08-01 09:11:00+08:00   -8.131516e-20\n",
       "2003-08-01 09:12:00+08:00   -2.710505e-20\n",
       "2003-08-01 09:13:00+08:00   -4.065758e-20\n",
       "2003-08-01 09:14:00+08:00   -3.388132e-20\n",
       "2003-08-01 09:15:00+08:00   -2.710505e-20\n",
       "2003-08-01 09:16:00+08:00   -5.421011e-20\n",
       "2003-08-01 09:17:00+08:00   -5.421011e-20\n",
       "2003-08-01 09:18:00+08:00   -1.694066e-20\n",
       "2003-08-01 09:19:00+08:00   -2.710505e-20\n",
       "2003-08-01 09:20:00+08:00    2.710505e-20\n",
       "2003-08-01 09:21:00+08:00    2.710505e-20\n",
       "2003-08-01 09:22:00+08:00   -2.710505e-20\n",
       "2003-08-01 09:23:00+08:00    0.000000e+00\n",
       "2003-08-01 09:24:00+08:00   -2.710505e-20\n",
       "2003-08-01 09:25:00+08:00   -2.032879e-20\n",
       "2003-08-01 09:26:00+08:00    2.710505e-20\n",
       "2003-08-01 09:27:00+08:00    0.000000e+00\n",
       "2003-08-01 09:28:00+08:00   -1.355253e-20\n",
       "2003-08-01 09:29:00+08:00   -6.776264e-21\n",
       "                                 ...     \n",
       "2017-07-04 14:30:00+08:00   -1.084202e-19\n",
       "2017-07-04 14:31:00+08:00   -5.421011e-20\n",
       "2017-07-04 14:32:00+08:00   -2.032879e-20\n",
       "2017-07-04 14:33:00+08:00    5.421011e-20\n",
       "2017-07-04 14:34:00+08:00    6.098637e-20\n",
       "2017-07-04 14:35:00+08:00    5.421011e-20\n",
       "2017-07-04 14:36:00+08:00    4.065758e-20\n",
       "2017-07-04 14:37:00+08:00    2.710505e-20\n",
       "2017-07-04 14:38:00+08:00    1.084202e-19\n",
       "2017-07-04 14:39:00+08:00    1.084202e-19\n",
       "2017-07-04 14:40:00+08:00    8.131516e-20\n",
       "2017-07-04 14:41:00+08:00   -2.710505e-20\n",
       "2017-07-04 14:42:00+08:00    2.710505e-20\n",
       "2017-07-04 14:43:00+08:00    0.000000e+00\n",
       "2017-07-04 14:44:00+08:00    2.710505e-20\n",
       "2017-07-04 14:45:00+08:00   -5.421011e-20\n",
       "2017-07-04 14:46:00+08:00   -5.421011e-20\n",
       "2017-07-04 14:47:00+08:00   -5.421011e-20\n",
       "2017-07-04 14:48:00+08:00   -5.421011e-20\n",
       "2017-07-04 14:49:00+08:00    1.084202e-19\n",
       "2017-07-04 14:50:00+08:00    5.421011e-20\n",
       "2017-07-04 14:51:00+08:00   -4.065758e-20\n",
       "2017-07-04 14:52:00+08:00   -4.065758e-20\n",
       "2017-07-04 14:53:00+08:00   -2.710505e-19\n",
       "2017-07-04 14:54:00+08:00   -4.336809e-19\n",
       "2017-07-04 14:55:00+08:00   -1.626303e-19\n",
       "2017-07-04 14:56:00+08:00   -1.219727e-19\n",
       "2017-07-04 14:57:00+08:00    0.000000e+00\n",
       "2017-07-04 14:58:00+08:00    0.000000e+00\n",
       "2017-07-04 14:59:00+08:00   -5.421011e-20\n",
       "Name: return, Length: 958635, dtype: float64"
      ]
     },
     "execution_count": 8,
     "metadata": {},
     "output_type": "execute_result"
    }
   ],
   "source": [
    "X[\"return\"] - recomposed_return[:-1]"
   ]
  },
  {
   "cell_type": "code",
   "execution_count": 9,
   "metadata": {},
   "outputs": [
    {
     "data": {
      "text/plain": [
       "array([ -6.94567017e-20,  -1.52746431e-05,  -3.30791130e-04, ...,\n",
       "        -3.99795386e-04,  -4.46399095e-04,   3.44784337e-04])"
      ]
     },
     "execution_count": 9,
     "metadata": {},
     "output_type": "execute_result"
    }
   ],
   "source": [
    "recomposed_return[:-1]"
   ]
  },
  {
   "cell_type": "code",
   "execution_count": 10,
   "metadata": {},
   "outputs": [],
   "source": [
    "diff = recomposed_return[:-1] - X[\"return\"].values"
   ]
  },
  {
   "cell_type": "code",
   "execution_count": 11,
   "metadata": {},
   "outputs": [
    {
     "data": {
      "text/plain": [
       "1.2389725842013506e-13"
      ]
     },
     "execution_count": 11,
     "metadata": {},
     "output_type": "execute_result"
    }
   ],
   "source": [
    "np.abs(diff).sum()"
   ]
  },
  {
   "cell_type": "markdown",
   "metadata": {},
   "source": [
    "### Wavelet De-noising"
   ]
  },
  {
   "cell_type": "code",
   "execution_count": 12,
   "metadata": {},
   "outputs": [],
   "source": [
    "sigma = stand_mad(coeffs[-1])\n",
    "uthresh = sigma*np.sqrt(2*np.log(len(X[\"return\"].values)))\n",
    "denoised = coeffs[:]"
   ]
  },
  {
   "cell_type": "code",
   "execution_count": 13,
   "metadata": {},
   "outputs": [],
   "source": [
    "denoised[1:] = (pywt.threshold(i, value=uthresh) for i in denoised[1:])"
   ]
  },
  {
   "cell_type": "code",
   "execution_count": 14,
   "metadata": {},
   "outputs": [],
   "source": [
    "denoised_return = pywt.waverec(denoised, haar)"
   ]
  },
  {
   "cell_type": "code",
   "execution_count": 15,
   "metadata": {
    "collapsed": true
   },
   "outputs": [],
   "source": [
    "X[\"denoised\"] = denoised_return[:-1]"
   ]
  },
  {
   "cell_type": "code",
   "execution_count": 16,
   "metadata": {},
   "outputs": [
    {
     "name": "stdout",
     "output_type": "stream",
     "text": [
      "There are total of 958636 elements\n",
      "Total absolute difference: 230.6085907747903\n",
      "Correlation between denoised and original: 0.9060392654130378\n"
     ]
    }
   ],
   "source": [
    "diff = denoised_return[:-1] - X[\"return\"].values\n",
    "correlation = np.corrcoef(denoised_return[:-1], X[\"return\"].values)\n",
    "print(\"There are total of {} elements\".format(len(denoised_return)))\n",
    "print(\"Total absolute difference: {}\".format(np.abs(diff).sum()))\n",
    "print(\"Correlation between denoised and original: {}\".format(correlation[0][1]))"
   ]
  },
  {
   "cell_type": "code",
   "execution_count": 161,
   "metadata": {},
   "outputs": [
    {
     "data": {
      "text/plain": [
       "<matplotlib.axes._subplots.AxesSubplot at 0x135f9cef0>"
      ]
     },
     "execution_count": 161,
     "metadata": {},
     "output_type": "execute_result"
    }
   ],
   "source": [
    "pd.DataFrame({\"denoised\": denoised_return[1:]}, index=X.index).plot()\n",
    "X[\"return\"].plot()"
   ]
  },
  {
   "cell_type": "code",
   "execution_count": null,
   "metadata": {},
   "outputs": [],
   "source": []
  },
  {
   "cell_type": "code",
   "execution_count": 18,
   "metadata": {},
   "outputs": [
    {
     "data": {
      "image/png": "[encoded data removed]",
      "text/plain": [
       "<matplotlib.figure.Figure at 0x11b0f8ba8>"
      ]
     },
     "metadata": {},
     "output_type": "display_data"
    }
   ],
   "source": [
    "plt.show()"
   ]
  },
  {
   "cell_type": "code",
   "execution_count": 19,
   "metadata": {},
   "outputs": [
    {
     "data": {
      "image/png": "[encoded data removed]",
      "text/plain": [
       "<matplotlib.figure.Figure at 0x12bcb6240>"
      ]
     },
     "metadata": {},
     "output_type": "display_data"
    }
   ],
   "source": [
    "plt.show()"
   ]
  },
  {
   "cell_type": "markdown",
   "metadata": {},
   "source": [
    "### Divide Data into Train and Test"
   ]
  },
  {
   "cell_type": "code",
   "execution_count": 20,
   "metadata": {},
   "outputs": [
    {
     "name": "stdout",
     "output_type": "stream",
     "text": [
      "Test: 33.35%\n",
      "Train: 66.65%\n"
     ]
    }
   ],
   "source": [
    "X_train = X[\"2012\":\"2015\"]\n",
    "X_test = X[\"2016\":]\n",
    "print(\"Test: {:.2f}%\".format(100 * len(X_test)/len(X[\"2012\":])))\n",
    "print(\"Train: {:.2f}%\".format(100 * len(X_train)/len(X[\"2012\":])))"
   ]
  },
  {
   "cell_type": "code",
   "execution_count": 21,
   "metadata": {},
   "outputs": [],
   "source": [
    "y = X[\"return\"].shift(-1)\n",
    "y = y.fillna(0)"
   ]
  },
  {
   "cell_type": "code",
   "execution_count": null,
   "metadata": {},
   "outputs": [],
   "source": []
  },
  {
   "cell_type": "code",
   "execution_count": 22,
   "metadata": {
    "collapsed": true
   },
   "outputs": [],
   "source": [
    "y_train = y[\"2012\":\"2015\"]\n",
    "y_test  = y[\"2016\":]"
   ]
  },
  {
   "cell_type": "code",
   "execution_count": null,
   "metadata": {},
   "outputs": [],
   "source": []
  },
  {
   "cell_type": "code",
   "execution_count": 23,
   "metadata": {},
   "outputs": [],
   "source": [
    "del X_train['HLC']\n",
    "del X_train['open']\n",
    "del X_train['high'] \n",
    "del X_train['low']\n",
    "del X_train['close']\n",
    "del X_train['volume']\n",
    "del X_train['openint']\n",
    "\n",
    "del X_test[\"HLC\"]\n",
    "del X_test['open']\n",
    "del X_test['high'] \n",
    "del X_test['low']\n",
    "del X_test['close']\n",
    "del X_test['volume']\n",
    "del X_test['openint']"
   ]
  },
  {
   "cell_type": "markdown",
   "metadata": {},
   "source": [
    "### Normalization"
   ]
  },
  {
   "cell_type": "code",
   "execution_count": 24,
   "metadata": {},
   "outputs": [],
   "source": [
    "# Normalize de-noised return\n",
    "scaler = MinMaxScaler()"
   ]
  },
  {
   "cell_type": "code",
   "execution_count": 25,
   "metadata": {},
   "outputs": [],
   "source": [
    "X_train[\"denoised_scaled\"] = scaler.fit_transform(pd.DataFrame(X_train[\"denoised\"].values))"
   ]
  },
  {
   "cell_type": "code",
   "execution_count": 26,
   "metadata": {},
   "outputs": [],
   "source": [
    "X_test[\"denoised_scaled\"] = scaler.transform(pd.DataFrame(X_test[\"denoised\"].values))"
   ]
  },
  {
   "cell_type": "code",
   "execution_count": 27,
   "metadata": {
    "collapsed": true
   },
   "outputs": [],
   "source": [
    "time_series_step=4\n",
    "\n",
    "def timeseries_to_supervised(raw_time_series, lag):\n",
    "    p = {}\n",
    "    for i in range(1, lag+1):\n",
    "        p[\"{}\".format(i)] = raw_time_series.shift(i).fillna(0)\n",
    "    p[\"0\"] = raw_time_series\n",
    "    \n",
    "    supervised_data = pd.Panel(p)\n",
    "    return supervised_data\n",
    "\n",
    "def non_shuffling_train_test_split(X, y, test_size=0.2):\n",
    "    i = int((1 - test_size) * X.shape[0]) + 1\n",
    "    X_train, X_test = np.split(X, [i])\n",
    "    y_train, y_test = np.split(y, [i])\n",
    "    return X_train, X_test, y_train, y_test\n",
    "\n",
    "def create_supervised_X(raw_time_series, lag):\n",
    "    supervised_X = timeseries_to_supervised(raw_time_series, lag)\n",
    "    swaped_supervised_X = supervised_X.swapaxes(0, 1)\n",
    "    return swaped_supervised_X"
   ]
  },
  {
   "cell_type": "code",
   "execution_count": 28,
   "metadata": {},
   "outputs": [],
   "source": [
    "X_train = create_supervised_X(pd.DataFrame(X_train[\"denoised_scaled\"]), time_series_step)\n",
    "X_test  = create_supervised_X(pd.DataFrame(X_test[\"denoised_scaled\"]), time_series_step)"
   ]
  },
  {
   "cell_type": "code",
   "execution_count": 29,
   "metadata": {},
   "outputs": [
    {
     "name": "stderr",
     "output_type": "stream",
     "text": [
      "/usr/local/lib/python3.6/site-packages/sklearn/preprocessing/data.py:321: DeprecationWarning: Passing 1d arrays as data is deprecated in 0.17 and will raise ValueError in 0.19. Reshape your data either using X.reshape(-1, 1) if your data has a single feature or X.reshape(1, -1) if it contains a single sample.\n",
      "  warnings.warn(DEPRECATION_MSG_1D, DeprecationWarning)\n",
      "/usr/local/lib/python3.6/site-packages/sklearn/preprocessing/data.py:356: DeprecationWarning: Passing 1d arrays as data is deprecated in 0.17 and will raise ValueError in 0.19. Reshape your data either using X.reshape(-1, 1) if your data has a single feature or X.reshape(1, -1) if it contains a single sample.\n",
      "  warnings.warn(DEPRECATION_MSG_1D, DeprecationWarning)\n",
      "/usr/local/lib/python3.6/site-packages/sklearn/preprocessing/data.py:356: DeprecationWarning: Passing 1d arrays as data is deprecated in 0.17 and will raise ValueError in 0.19. Reshape your data either using X.reshape(-1, 1) if your data has a single feature or X.reshape(1, -1) if it contains a single sample.\n",
      "  warnings.warn(DEPRECATION_MSG_1D, DeprecationWarning)\n"
     ]
    }
   ],
   "source": [
    "y_scaler = MinMaxScaler()\n",
    "y_train = y_scaler.fit_transform(y_train)\n",
    "y_test = y_scaler.transform(y_test)"
   ]
  },
  {
   "cell_type": "code",
   "execution_count": null,
   "metadata": {},
   "outputs": [],
   "source": []
  },
  {
   "cell_type": "markdown",
   "metadata": {},
   "source": [
    "### LSTM"
   ]
  },
  {
   "cell_type": "code",
   "execution_count": 30,
   "metadata": {},
   "outputs": [],
   "source": [
    "batch_size = 15\n",
    "features = 1"
   ]
  },
  {
   "cell_type": "code",
   "execution_count": 31,
   "metadata": {},
   "outputs": [
    {
     "data": {
      "text/plain": [
       "(333465, 5, 1)"
      ]
     },
     "execution_count": 31,
     "metadata": {},
     "output_type": "execute_result"
    }
   ],
   "source": [
    "X_train.shape"
   ]
  },
  {
   "cell_type": "code",
   "execution_count": 32,
   "metadata": {},
   "outputs": [
    {
     "data": {
      "text/plain": [
       "(166845, 5, 1)"
      ]
     },
     "execution_count": 32,
     "metadata": {},
     "output_type": "execute_result"
    }
   ],
   "source": [
    "X_test.shape"
   ]
  },
  {
   "cell_type": "code",
   "execution_count": null,
   "metadata": {},
   "outputs": [],
   "source": []
  },
  {
   "cell_type": "code",
   "execution_count": null,
   "metadata": {},
   "outputs": [],
   "source": []
  },
  {
   "cell_type": "code",
   "execution_count": 33,
   "metadata": {},
   "outputs": [],
   "source": [
    "model = Sequential()\n",
    "model.add(\n",
    "    LSTM(128, batch_input_shape=(batch_size, time_series_step+1, features), stateful=True, \n",
    "         return_sequences=True, \n",
    "         activation=\"relu\"\n",
    "        ))\n",
    "\n",
    "model.add(\n",
    "    LSTM(128, stateful=True, \n",
    "         return_sequences=True, \n",
    "         activation=\"relu\"\n",
    "        ))\n",
    "    \n",
    "model.add(LSTM(32, activation=\"relu\", stateful=True))\n",
    "model.add(Dense(32, activation=\"relu\"))\n",
    "model.add(Dense(32, activation=\"relu\"))\n",
    "model.add(Dense(1))\n",
    "# model.add(Activation('softmax'))"
   ]
  },
  {
   "cell_type": "code",
   "execution_count": 34,
   "metadata": {},
   "outputs": [],
   "source": [
    "model.compile(loss=\"mse\", optimizer=\"adadelta\")"
   ]
  },
  {
   "cell_type": "code",
   "execution_count": 52,
   "metadata": {},
   "outputs": [
    {
     "name": "stdout",
     "output_type": "stream",
     "text": [
      "Train on 333465 samples, validate on 166845 samples\n",
      "Epoch 1/40\n",
      "333465/333465 [==============================] - 669s - loss: 3.1940e-05 - acc: 2.9988e-06 - val_loss: 3.3491e-05 - val_acc: 0.0000e+00\n",
      "Epoch 2/40\n",
      "333465/333465 [==============================] - 662s - loss: 3.1924e-05 - acc: 2.9988e-06 - val_loss: 3.3398e-05 - val_acc: 0.0000e+00\n",
      "Epoch 3/40\n",
      "333465/333465 [==============================] - 691s - loss: 3.1910e-05 - acc: 2.9988e-06 - val_loss: 3.3309e-05 - val_acc: 0.0000e+00\n",
      "Epoch 4/40\n",
      "333465/333465 [==============================] - 699s - loss: 3.1894e-05 - acc: 2.9988e-06 - val_loss: 3.3227e-05 - val_acc: 0.0000e+00\n",
      "Epoch 5/40\n",
      "333465/333465 [==============================] - 661s - loss: 3.1880e-05 - acc: 2.9988e-06 - val_loss: 3.3148e-05 - val_acc: 0.0000e+00\n",
      "Epoch 6/40\n",
      "333465/333465 [==============================] - 666s - loss: 3.1866e-05 - acc: 2.9988e-06 - val_loss: 3.3074e-05 - val_acc: 0.0000e+00\n",
      "Epoch 7/40\n",
      "333465/333465 [==============================] - 667s - loss: 3.1855e-05 - acc: 2.9988e-06 - val_loss: 3.3003e-05 - val_acc: 0.0000e+00\n",
      "Epoch 8/40\n",
      "333465/333465 [==============================] - 669s - loss: 3.1856e-05 - acc: 2.9988e-06 - val_loss: 3.3026e-05 - val_acc: 0.0000e+00\n",
      "Epoch 9/40\n",
      "333465/333465 [==============================] - 669s - loss: 3.1845e-05 - acc: 2.9988e-06 - val_loss: 3.2951e-05 - val_acc: 0.0000e+00\n",
      "Epoch 10/40\n",
      "333465/333465 [==============================] - 668s - loss: 3.1833e-05 - acc: 2.9988e-06 - val_loss: 3.2884e-05 - val_acc: 0.0000e+00\n",
      "Epoch 11/40\n",
      "333465/333465 [==============================] - 668s - loss: 3.1823e-05 - acc: 2.9988e-06 - val_loss: 3.2821e-05 - val_acc: 0.0000e+00\n",
      "Epoch 12/40\n",
      "333465/333465 [==============================] - 668s - loss: 3.1814e-05 - acc: 2.9988e-06 - val_loss: 3.2759e-05 - val_acc: 0.0000e+00\n",
      "Epoch 13/40\n",
      "333465/333465 [==============================] - 670s - loss: 3.1813e-05 - acc: 2.9988e-06 - val_loss: 3.2701e-05 - val_acc: 0.0000e+00\n",
      "Epoch 14/40\n",
      "333465/333465 [==============================] - 669s - loss: 3.1800e-05 - acc: 2.9988e-06 - val_loss: 3.2644e-05 - val_acc: 0.0000e+00\n",
      "Epoch 15/40\n",
      "333465/333465 [==============================] - 670s - loss: 3.1795e-05 - acc: 2.9988e-06 - val_loss: 3.2589e-05 - val_acc: 0.0000e+00\n",
      "Epoch 16/40\n",
      "333465/333465 [==============================] - 676s - loss: 3.1798e-05 - acc: 2.9988e-06 - val_loss: 3.2908e-05 - val_acc: 0.0000e+00\n",
      "Epoch 17/40\n",
      "333465/333465 [==============================] - 676s - loss: 3.1828e-05 - acc: 2.9988e-06 - val_loss: 3.2806e-05 - val_acc: 0.0000e+00\n",
      "Epoch 18/40\n",
      "333465/333465 [==============================] - 676s - loss: 3.1837e-05 - acc: 2.9988e-06 - val_loss: 3.2770e-05 - val_acc: 0.0000e+00\n",
      "Epoch 19/40\n",
      "333465/333465 [==============================] - 680s - loss: 3.1873e-05 - acc: 2.9988e-06 - val_loss: 3.2641e-05 - val_acc: 0.0000e+00\n",
      "Epoch 20/40\n",
      "333465/333465 [==============================] - 676s - loss: 3.1805e-05 - acc: 2.9988e-06 - val_loss: 3.2614e-05 - val_acc: 0.0000e+00\n",
      "Epoch 21/40\n",
      "333465/333465 [==============================] - 676s - loss: 3.1797e-05 - acc: 2.9988e-06 - val_loss: 3.2496e-05 - val_acc: 0.0000e+00\n",
      "Epoch 22/40\n",
      "333465/333465 [==============================] - 676s - loss: 3.1763e-05 - acc: 2.9988e-06 - val_loss: 3.2428e-05 - val_acc: 0.0000e+00\n",
      "Epoch 23/40\n",
      "333465/333465 [==============================] - 676s - loss: 3.1752e-05 - acc: 2.9988e-06 - val_loss: 3.2363e-05 - val_acc: 0.0000e+00\n",
      "Epoch 24/40\n",
      "333465/333465 [==============================] - 678s - loss: 3.1748e-05 - acc: 2.9988e-06 - val_loss: 3.2303e-05 - val_acc: 0.0000e+00\n",
      "Epoch 25/40\n",
      "333465/333465 [==============================] - 676s - loss: 3.1757e-05 - acc: 2.9988e-06 - val_loss: 3.2247e-05 - val_acc: 0.0000e+00\n",
      "Epoch 26/40\n",
      "333465/333465 [==============================] - 676s - loss: 3.1747e-05 - acc: 2.9988e-06 - val_loss: 3.2193e-05 - val_acc: 0.0000e+00\n",
      "Epoch 27/40\n",
      "333465/333465 [==============================] - 676s - loss: 3.1751e-05 - acc: 2.9988e-06 - val_loss: 3.2142e-05 - val_acc: 0.0000e+00\n",
      "Epoch 28/40\n",
      "333465/333465 [==============================] - 677s - loss: 3.1711e-05 - acc: 2.9988e-06 - val_loss: 3.2091e-05 - val_acc: 0.0000e+00\n",
      "Epoch 29/40\n",
      "333465/333465 [==============================] - 676s - loss: 3.1699e-05 - acc: 2.9988e-06 - val_loss: 3.2042e-05 - val_acc: 0.0000e+00\n",
      "Epoch 30/40\n",
      "333465/333465 [==============================] - 677s - loss: 3.1693e-05 - acc: 2.9988e-06 - val_loss: 3.1994e-05 - val_acc: 0.0000e+00\n",
      "Epoch 31/40\n",
      "333465/333465 [==============================] - 677s - loss: 3.1687e-05 - acc: 2.9988e-06 - val_loss: 3.1949e-05 - val_acc: 0.0000e+00\n",
      "Epoch 32/40\n",
      "333465/333465 [==============================] - 677s - loss: 3.1680e-05 - acc: 2.9988e-06 - val_loss: 3.1904e-05 - val_acc: 0.0000e+00\n",
      "Epoch 33/40\n",
      "333465/333465 [==============================] - 677s - loss: 3.1675e-05 - acc: 2.9988e-06 - val_loss: 3.1862e-05 - val_acc: 0.0000e+00\n",
      "Epoch 34/40\n",
      "333465/333465 [==============================] - 676s - loss: 3.1668e-05 - acc: 2.9988e-06 - val_loss: 3.1820e-05 - val_acc: 0.0000e+00\n",
      "Epoch 35/40\n",
      "333465/333465 [==============================] - 684s - loss: 3.1662e-05 - acc: 2.9988e-06 - val_loss: 3.1791e-05 - val_acc: 0.0000e+00\n",
      "Epoch 36/40\n",
      "333465/333465 [==============================] - 677s - loss: 3.1656e-05 - acc: 2.9988e-06 - val_loss: 3.1752e-05 - val_acc: 0.0000e+00\n",
      "Epoch 37/40\n",
      "333465/333465 [==============================] - 673s - loss: 3.1670e-05 - acc: 2.9988e-06 - val_loss: 3.1718e-05 - val_acc: 0.0000e+00\n",
      "Epoch 38/40\n",
      "333465/333465 [==============================] - 670s - loss: 3.1656e-05 - acc: 2.9988e-06 - val_loss: 3.2075e-05 - val_acc: 0.0000e+00\n",
      "Epoch 39/40\n",
      "333465/333465 [==============================] - 670s - loss: 3.1706e-05 - acc: 2.9988e-06 - val_loss: 3.1994e-05 - val_acc: 0.0000e+00\n",
      "Epoch 40/40\n",
      "333465/333465 [==============================] - 669s - loss: 3.1749e-05 - acc: 2.9988e-06 - val_loss: 3.2439e-05 - val_acc: 0.0000e+00\n"
     ]
    }
   ],
   "source": [
    "history4 = model.fit(X_train.values, y_train, epochs=40, batch_size=batch_size, shuffle=False, validation_data=(X_test.values, y_test))"
   ]
  },
  {
   "cell_type": "code",
   "execution_count": 53,
   "metadata": {},
   "outputs": [],
   "source": [
    "total_history_val_loss = history.history['val_loss'] + history2.history['val_loss'] + history3.history['val_loss'] + history3.history['val_loss']\n",
    "total_history_loss = history.history['loss'] + history2.history['loss'] + history3.history['loss'] + history3.history['loss']"
   ]
  },
  {
   "cell_type": "code",
   "execution_count": 59,
   "metadata": {},
   "outputs": [
    {
     "data": {
      "image/png": "[encoded data removed]",
      "text/plain": [
       "<matplotlib.figure.Figure at 0x12d815a58>"
      ]
     },
     "metadata": {},
     "output_type": "display_data"
    }
   ],
   "source": [
    "# summarize history for loss\n",
    "\n",
    "# plt.plot(SAE_results[0].history['loss'][:size_limit])\n",
    "# plt.plot(history.history['loss'][:size_limit])\n",
    "# plt.plot(deep_results[0].history['loss'][:size_limit])\n",
    "plt.plot(total_history_val_loss)\n",
    "plt.plot(total_history_loss)\n",
    "plt.title('1min Wavelet LSTM Predictor')\n",
    "plt.ylabel('MSE')\n",
    "plt.xlabel('epoch')\n",
    "plt.legend(['Validation Loss', \"Training Loss\", ], loc='upper left')\n",
    "plt.show()"
   ]
  },
  {
   "cell_type": "code",
   "execution_count": 57,
   "metadata": {
    "collapsed": true
   },
   "outputs": [],
   "source": [
    "model.save(\"Wavelet_LSTM_1min\")"
   ]
  },
  {
   "cell_type": "code",
   "execution_count": 96,
   "metadata": {},
   "outputs": [],
   "source": [
    "y_test_predict_scaled = model.predict(X_test.values, batch_size=15)"
   ]
  },
  {
   "cell_type": "code",
   "execution_count": 97,
   "metadata": {},
   "outputs": [
    {
     "data": {
      "text/plain": [
       "166845"
      ]
     },
     "execution_count": 97,
     "metadata": {},
     "output_type": "execute_result"
    }
   ],
   "source": [
    "y_test_predict_scaled.size"
   ]
  },
  {
   "cell_type": "code",
   "execution_count": 98,
   "metadata": {
    "collapsed": true
   },
   "outputs": [],
   "source": [
    "y_test_predict = y_scaler.inverse_transform(y_test_predict_scaled)\n",
    "y_test_predict = y_test_predict.reshape(y_test_predict.shape[0])"
   ]
  },
  {
   "cell_type": "code",
   "execution_count": 99,
   "metadata": {},
   "outputs": [
    {
     "name": "stderr",
     "output_type": "stream",
     "text": [
      "/usr/local/lib/python3.6/site-packages/sklearn/preprocessing/data.py:374: DeprecationWarning: Passing 1d arrays as data is deprecated in 0.17 and will raise ValueError in 0.19. Reshape your data either using X.reshape(-1, 1) if your data has a single feature or X.reshape(1, -1) if it contains a single sample.\n",
      "  warnings.warn(DEPRECATION_MSG_1D, DeprecationWarning)\n"
     ]
    }
   ],
   "source": [
    "y_test_actual = y_scaler.inverse_transform(y_test)"
   ]
  },
  {
   "cell_type": "code",
   "execution_count": null,
   "metadata": {},
   "outputs": [],
   "source": []
  },
  {
   "cell_type": "code",
   "execution_count": 100,
   "metadata": {},
   "outputs": [
    {
     "data": {
      "text/plain": [
       "array([-0.04699356, -0.04715512, -0.04715492, ..., -0.04714721,\n",
       "       -0.04708006, -0.04710932])"
      ]
     },
     "execution_count": 100,
     "metadata": {},
     "output_type": "execute_result"
    }
   ],
   "source": [
    "y_test_actual"
   ]
  },
  {
   "cell_type": "code",
   "execution_count": 140,
   "metadata": {},
   "outputs": [],
   "source": [
    "y_test = y[\"2016\":]"
   ]
  },
  {
   "cell_type": "code",
   "execution_count": 141,
   "metadata": {},
   "outputs": [],
   "source": [
    "y_test = pd.DataFrame(y_test)"
   ]
  },
  {
   "cell_type": "code",
   "execution_count": 143,
   "metadata": {},
   "outputs": [],
   "source": [
    "y_test[\"predict\"] = y_test_predict"
   ]
  },
  {
   "cell_type": "code",
   "execution_count": 151,
   "metadata": {
    "collapsed": true
   },
   "outputs": [],
   "source": [
    "y_test[\"predict_scaled\"] = y_test_predict_scaled"
   ]
  },
  {
   "cell_type": "code",
   "execution_count": 157,
   "metadata": {},
   "outputs": [
    {
     "data": {
      "text/html": [
       "<div>\n",
       "<style>\n",
       "    .dataframe thead tr:only-child th {\n",
       "        text-align: right;\n",
       "    }\n",
       "\n",
       "    .dataframe thead th {\n",
       "        text-align: left;\n",
       "    }\n",
       "\n",
       "    .dataframe tbody tr th {\n",
       "        vertical-align: top;\n",
       "    }\n",
       "</style>\n",
       "<table border=\"1\" class=\"dataframe\">\n",
       "  <thead>\n",
       "    <tr style=\"text-align: right;\">\n",
       "      <th></th>\n",
       "      <th>return</th>\n",
       "      <th>predict</th>\n",
       "      <th>predict_scaled</th>\n",
       "    </tr>\n",
       "    <tr>\n",
       "      <th>date_time</th>\n",
       "      <th></th>\n",
       "      <th></th>\n",
       "      <th></th>\n",
       "    </tr>\n",
       "  </thead>\n",
       "  <tbody>\n",
       "    <tr>\n",
       "      <th>2016-01-04 09:00:00+08:00</th>\n",
       "      <td>0.001364</td>\n",
       "      <td>-0.000145</td>\n",
       "      <td>0.553312</td>\n",
       "    </tr>\n",
       "    <tr>\n",
       "      <th>2016-01-04 09:01:00+08:00</th>\n",
       "      <td>-0.000540</td>\n",
       "      <td>-0.000148</td>\n",
       "      <td>0.553278</td>\n",
       "    </tr>\n",
       "    <tr>\n",
       "      <th>2016-01-04 09:02:00+08:00</th>\n",
       "      <td>-0.000537</td>\n",
       "      <td>-0.000153</td>\n",
       "      <td>0.553224</td>\n",
       "    </tr>\n",
       "    <tr>\n",
       "      <th>2016-01-04 09:03:00+08:00</th>\n",
       "      <td>0.000713</td>\n",
       "      <td>-0.000157</td>\n",
       "      <td>0.553178</td>\n",
       "    </tr>\n",
       "    <tr>\n",
       "      <th>2016-01-04 09:04:00+08:00</th>\n",
       "      <td>0.000001</td>\n",
       "      <td>-0.000159</td>\n",
       "      <td>0.553156</td>\n",
       "    </tr>\n",
       "    <tr>\n",
       "      <th>2016-01-04 09:05:00+08:00</th>\n",
       "      <td>-0.000221</td>\n",
       "      <td>-0.000159</td>\n",
       "      <td>0.553156</td>\n",
       "    </tr>\n",
       "    <tr>\n",
       "      <th>2016-01-04 09:06:00+08:00</th>\n",
       "      <td>-0.000396</td>\n",
       "      <td>-0.000158</td>\n",
       "      <td>0.553156</td>\n",
       "    </tr>\n",
       "    <tr>\n",
       "      <th>2016-01-04 09:07:00+08:00</th>\n",
       "      <td>-0.001583</td>\n",
       "      <td>-0.000158</td>\n",
       "      <td>0.553156</td>\n",
       "    </tr>\n",
       "    <tr>\n",
       "      <th>2016-01-04 09:08:00+08:00</th>\n",
       "      <td>-0.001873</td>\n",
       "      <td>-0.000158</td>\n",
       "      <td>0.553156</td>\n",
       "    </tr>\n",
       "    <tr>\n",
       "      <th>2016-01-04 09:09:00+08:00</th>\n",
       "      <td>-0.001694</td>\n",
       "      <td>-0.000158</td>\n",
       "      <td>0.553156</td>\n",
       "    </tr>\n",
       "    <tr>\n",
       "      <th>2016-01-04 09:10:00+08:00</th>\n",
       "      <td>-0.000455</td>\n",
       "      <td>-0.000158</td>\n",
       "      <td>0.553156</td>\n",
       "    </tr>\n",
       "    <tr>\n",
       "      <th>2016-01-04 09:11:00+08:00</th>\n",
       "      <td>0.000370</td>\n",
       "      <td>-0.000158</td>\n",
       "      <td>0.553157</td>\n",
       "    </tr>\n",
       "    <tr>\n",
       "      <th>2016-01-04 09:12:00+08:00</th>\n",
       "      <td>-0.001296</td>\n",
       "      <td>-0.000158</td>\n",
       "      <td>0.553156</td>\n",
       "    </tr>\n",
       "    <tr>\n",
       "      <th>2016-01-04 09:13:00+08:00</th>\n",
       "      <td>-0.000763</td>\n",
       "      <td>-0.000158</td>\n",
       "      <td>0.553156</td>\n",
       "    </tr>\n",
       "    <tr>\n",
       "      <th>2016-01-04 09:14:00+08:00</th>\n",
       "      <td>-0.002043</td>\n",
       "      <td>-0.000159</td>\n",
       "      <td>0.553156</td>\n",
       "    </tr>\n",
       "    <tr>\n",
       "      <th>2016-01-04 09:15:00+08:00</th>\n",
       "      <td>-0.001305</td>\n",
       "      <td>-0.000144</td>\n",
       "      <td>0.553327</td>\n",
       "    </tr>\n",
       "    <tr>\n",
       "      <th>2016-01-04 09:16:00+08:00</th>\n",
       "      <td>0.000341</td>\n",
       "      <td>-0.000142</td>\n",
       "      <td>0.553346</td>\n",
       "    </tr>\n",
       "    <tr>\n",
       "      <th>2016-01-04 09:17:00+08:00</th>\n",
       "      <td>0.000742</td>\n",
       "      <td>-0.000144</td>\n",
       "      <td>0.553332</td>\n",
       "    </tr>\n",
       "    <tr>\n",
       "      <th>2016-01-04 09:18:00+08:00</th>\n",
       "      <td>0.000628</td>\n",
       "      <td>-0.000150</td>\n",
       "      <td>0.553256</td>\n",
       "    </tr>\n",
       "    <tr>\n",
       "      <th>2016-01-04 09:19:00+08:00</th>\n",
       "      <td>-0.001224</td>\n",
       "      <td>-0.000158</td>\n",
       "      <td>0.553157</td>\n",
       "    </tr>\n",
       "    <tr>\n",
       "      <th>2016-01-04 09:20:00+08:00</th>\n",
       "      <td>0.000400</td>\n",
       "      <td>-0.000159</td>\n",
       "      <td>0.553155</td>\n",
       "    </tr>\n",
       "    <tr>\n",
       "      <th>2016-01-04 09:21:00+08:00</th>\n",
       "      <td>-0.000098</td>\n",
       "      <td>-0.000158</td>\n",
       "      <td>0.553157</td>\n",
       "    </tr>\n",
       "    <tr>\n",
       "      <th>2016-01-04 09:22:00+08:00</th>\n",
       "      <td>-0.000195</td>\n",
       "      <td>-0.000158</td>\n",
       "      <td>0.553157</td>\n",
       "    </tr>\n",
       "    <tr>\n",
       "      <th>2016-01-04 09:23:00+08:00</th>\n",
       "      <td>-0.000041</td>\n",
       "      <td>-0.000158</td>\n",
       "      <td>0.553157</td>\n",
       "    </tr>\n",
       "    <tr>\n",
       "      <th>2016-01-04 09:24:00+08:00</th>\n",
       "      <td>-0.000155</td>\n",
       "      <td>-0.000158</td>\n",
       "      <td>0.553157</td>\n",
       "    </tr>\n",
       "    <tr>\n",
       "      <th>2016-01-04 09:25:00+08:00</th>\n",
       "      <td>0.000177</td>\n",
       "      <td>-0.000158</td>\n",
       "      <td>0.553158</td>\n",
       "    </tr>\n",
       "    <tr>\n",
       "      <th>2016-01-04 09:26:00+08:00</th>\n",
       "      <td>-0.000019</td>\n",
       "      <td>-0.000158</td>\n",
       "      <td>0.553158</td>\n",
       "    </tr>\n",
       "    <tr>\n",
       "      <th>2016-01-04 09:27:00+08:00</th>\n",
       "      <td>-0.000311</td>\n",
       "      <td>-0.000158</td>\n",
       "      <td>0.553158</td>\n",
       "    </tr>\n",
       "    <tr>\n",
       "      <th>2016-01-04 09:28:00+08:00</th>\n",
       "      <td>-0.000109</td>\n",
       "      <td>-0.000158</td>\n",
       "      <td>0.553158</td>\n",
       "    </tr>\n",
       "    <tr>\n",
       "      <th>2016-01-04 09:29:00+08:00</th>\n",
       "      <td>-0.000367</td>\n",
       "      <td>-0.000158</td>\n",
       "      <td>0.553157</td>\n",
       "    </tr>\n",
       "    <tr>\n",
       "      <th>...</th>\n",
       "      <td>...</td>\n",
       "      <td>...</td>\n",
       "      <td>...</td>\n",
       "    </tr>\n",
       "    <tr>\n",
       "      <th>2017-07-04 14:30:00+08:00</th>\n",
       "      <td>0.000116</td>\n",
       "      <td>-0.000159</td>\n",
       "      <td>0.553155</td>\n",
       "    </tr>\n",
       "    <tr>\n",
       "      <th>2017-07-04 14:31:00+08:00</th>\n",
       "      <td>-0.000054</td>\n",
       "      <td>-0.000159</td>\n",
       "      <td>0.553155</td>\n",
       "    </tr>\n",
       "    <tr>\n",
       "      <th>2017-07-04 14:32:00+08:00</th>\n",
       "      <td>-0.000096</td>\n",
       "      <td>-0.000159</td>\n",
       "      <td>0.553155</td>\n",
       "    </tr>\n",
       "    <tr>\n",
       "      <th>2017-07-04 14:33:00+08:00</th>\n",
       "      <td>0.000002</td>\n",
       "      <td>-0.000159</td>\n",
       "      <td>0.553155</td>\n",
       "    </tr>\n",
       "    <tr>\n",
       "      <th>2017-07-04 14:34:00+08:00</th>\n",
       "      <td>-0.000273</td>\n",
       "      <td>-0.000159</td>\n",
       "      <td>0.553155</td>\n",
       "    </tr>\n",
       "    <tr>\n",
       "      <th>2017-07-04 14:35:00+08:00</th>\n",
       "      <td>-0.000050</td>\n",
       "      <td>-0.000159</td>\n",
       "      <td>0.553155</td>\n",
       "    </tr>\n",
       "    <tr>\n",
       "      <th>2017-07-04 14:36:00+08:00</th>\n",
       "      <td>0.000030</td>\n",
       "      <td>-0.000159</td>\n",
       "      <td>0.553155</td>\n",
       "    </tr>\n",
       "    <tr>\n",
       "      <th>2017-07-04 14:37:00+08:00</th>\n",
       "      <td>-0.000399</td>\n",
       "      <td>-0.000159</td>\n",
       "      <td>0.553155</td>\n",
       "    </tr>\n",
       "    <tr>\n",
       "      <th>2017-07-04 14:38:00+08:00</th>\n",
       "      <td>-0.000551</td>\n",
       "      <td>-0.000159</td>\n",
       "      <td>0.553155</td>\n",
       "    </tr>\n",
       "    <tr>\n",
       "      <th>2017-07-04 14:39:00+08:00</th>\n",
       "      <td>-0.000125</td>\n",
       "      <td>-0.000159</td>\n",
       "      <td>0.553155</td>\n",
       "    </tr>\n",
       "    <tr>\n",
       "      <th>2017-07-04 14:40:00+08:00</th>\n",
       "      <td>0.000184</td>\n",
       "      <td>-0.000159</td>\n",
       "      <td>0.553155</td>\n",
       "    </tr>\n",
       "    <tr>\n",
       "      <th>2017-07-04 14:41:00+08:00</th>\n",
       "      <td>-0.000131</td>\n",
       "      <td>-0.000159</td>\n",
       "      <td>0.553155</td>\n",
       "    </tr>\n",
       "    <tr>\n",
       "      <th>2017-07-04 14:42:00+08:00</th>\n",
       "      <td>-0.000296</td>\n",
       "      <td>-0.000159</td>\n",
       "      <td>0.553155</td>\n",
       "    </tr>\n",
       "    <tr>\n",
       "      <th>2017-07-04 14:43:00+08:00</th>\n",
       "      <td>-0.000045</td>\n",
       "      <td>-0.000159</td>\n",
       "      <td>0.553155</td>\n",
       "    </tr>\n",
       "    <tr>\n",
       "      <th>2017-07-04 14:44:00+08:00</th>\n",
       "      <td>0.000271</td>\n",
       "      <td>-0.000159</td>\n",
       "      <td>0.553155</td>\n",
       "    </tr>\n",
       "    <tr>\n",
       "      <th>2017-07-04 14:45:00+08:00</th>\n",
       "      <td>0.000171</td>\n",
       "      <td>-0.000159</td>\n",
       "      <td>0.553155</td>\n",
       "    </tr>\n",
       "    <tr>\n",
       "      <th>2017-07-04 14:46:00+08:00</th>\n",
       "      <td>0.000072</td>\n",
       "      <td>-0.000159</td>\n",
       "      <td>0.553155</td>\n",
       "    </tr>\n",
       "    <tr>\n",
       "      <th>2017-07-04 14:47:00+08:00</th>\n",
       "      <td>0.000196</td>\n",
       "      <td>-0.000159</td>\n",
       "      <td>0.553155</td>\n",
       "    </tr>\n",
       "    <tr>\n",
       "      <th>2017-07-04 14:48:00+08:00</th>\n",
       "      <td>-0.000298</td>\n",
       "      <td>-0.000159</td>\n",
       "      <td>0.553155</td>\n",
       "    </tr>\n",
       "    <tr>\n",
       "      <th>2017-07-04 14:49:00+08:00</th>\n",
       "      <td>-0.000091</td>\n",
       "      <td>-0.000159</td>\n",
       "      <td>0.553155</td>\n",
       "    </tr>\n",
       "    <tr>\n",
       "      <th>2017-07-04 14:50:00+08:00</th>\n",
       "      <td>0.000108</td>\n",
       "      <td>-0.000159</td>\n",
       "      <td>0.553155</td>\n",
       "    </tr>\n",
       "    <tr>\n",
       "      <th>2017-07-04 14:51:00+08:00</th>\n",
       "      <td>0.000119</td>\n",
       "      <td>-0.000159</td>\n",
       "      <td>0.553155</td>\n",
       "    </tr>\n",
       "    <tr>\n",
       "      <th>2017-07-04 14:52:00+08:00</th>\n",
       "      <td>0.000374</td>\n",
       "      <td>-0.000159</td>\n",
       "      <td>0.553155</td>\n",
       "    </tr>\n",
       "    <tr>\n",
       "      <th>2017-07-04 14:53:00+08:00</th>\n",
       "      <td>0.000769</td>\n",
       "      <td>-0.000159</td>\n",
       "      <td>0.553155</td>\n",
       "    </tr>\n",
       "    <tr>\n",
       "      <th>2017-07-04 14:54:00+08:00</th>\n",
       "      <td>0.000224</td>\n",
       "      <td>-0.000159</td>\n",
       "      <td>0.553155</td>\n",
       "    </tr>\n",
       "    <tr>\n",
       "      <th>2017-07-04 14:55:00+08:00</th>\n",
       "      <td>0.000086</td>\n",
       "      <td>-0.000159</td>\n",
       "      <td>0.553155</td>\n",
       "    </tr>\n",
       "    <tr>\n",
       "      <th>2017-07-04 14:56:00+08:00</th>\n",
       "      <td>-0.000400</td>\n",
       "      <td>-0.000159</td>\n",
       "      <td>0.553155</td>\n",
       "    </tr>\n",
       "    <tr>\n",
       "      <th>2017-07-04 14:57:00+08:00</th>\n",
       "      <td>-0.000446</td>\n",
       "      <td>-0.000159</td>\n",
       "      <td>0.553155</td>\n",
       "    </tr>\n",
       "    <tr>\n",
       "      <th>2017-07-04 14:58:00+08:00</th>\n",
       "      <td>0.000345</td>\n",
       "      <td>-0.000159</td>\n",
       "      <td>0.553155</td>\n",
       "    </tr>\n",
       "    <tr>\n",
       "      <th>2017-07-04 14:59:00+08:00</th>\n",
       "      <td>0.000000</td>\n",
       "      <td>-0.000159</td>\n",
       "      <td>0.553155</td>\n",
       "    </tr>\n",
       "  </tbody>\n",
       "</table>\n",
       "<p>166845 rows × 3 columns</p>\n",
       "</div>"
      ],
      "text/plain": [
       "                             return   predict  predict_scaled\n",
       "date_time                                                    \n",
       "2016-01-04 09:00:00+08:00  0.001364 -0.000145        0.553312\n",
       "2016-01-04 09:01:00+08:00 -0.000540 -0.000148        0.553278\n",
       "2016-01-04 09:02:00+08:00 -0.000537 -0.000153        0.553224\n",
       "2016-01-04 09:03:00+08:00  0.000713 -0.000157        0.553178\n",
       "2016-01-04 09:04:00+08:00  0.000001 -0.000159        0.553156\n",
       "2016-01-04 09:05:00+08:00 -0.000221 -0.000159        0.553156\n",
       "2016-01-04 09:06:00+08:00 -0.000396 -0.000158        0.553156\n",
       "2016-01-04 09:07:00+08:00 -0.001583 -0.000158        0.553156\n",
       "2016-01-04 09:08:00+08:00 -0.001873 -0.000158        0.553156\n",
       "2016-01-04 09:09:00+08:00 -0.001694 -0.000158        0.553156\n",
       "2016-01-04 09:10:00+08:00 -0.000455 -0.000158        0.553156\n",
       "2016-01-04 09:11:00+08:00  0.000370 -0.000158        0.553157\n",
       "2016-01-04 09:12:00+08:00 -0.001296 -0.000158        0.553156\n",
       "2016-01-04 09:13:00+08:00 -0.000763 -0.000158        0.553156\n",
       "2016-01-04 09:14:00+08:00 -0.002043 -0.000159        0.553156\n",
       "2016-01-04 09:15:00+08:00 -0.001305 -0.000144        0.553327\n",
       "2016-01-04 09:16:00+08:00  0.000341 -0.000142        0.553346\n",
       "2016-01-04 09:17:00+08:00  0.000742 -0.000144        0.553332\n",
       "2016-01-04 09:18:00+08:00  0.000628 -0.000150        0.553256\n",
       "2016-01-04 09:19:00+08:00 -0.001224 -0.000158        0.553157\n",
       "2016-01-04 09:20:00+08:00  0.000400 -0.000159        0.553155\n",
       "2016-01-04 09:21:00+08:00 -0.000098 -0.000158        0.553157\n",
       "2016-01-04 09:22:00+08:00 -0.000195 -0.000158        0.553157\n",
       "2016-01-04 09:23:00+08:00 -0.000041 -0.000158        0.553157\n",
       "2016-01-04 09:24:00+08:00 -0.000155 -0.000158        0.553157\n",
       "2016-01-04 09:25:00+08:00  0.000177 -0.000158        0.553158\n",
       "2016-01-04 09:26:00+08:00 -0.000019 -0.000158        0.553158\n",
       "2016-01-04 09:27:00+08:00 -0.000311 -0.000158        0.553158\n",
       "2016-01-04 09:28:00+08:00 -0.000109 -0.000158        0.553158\n",
       "2016-01-04 09:29:00+08:00 -0.000367 -0.000158        0.553157\n",
       "...                             ...       ...             ...\n",
       "2017-07-04 14:30:00+08:00  0.000116 -0.000159        0.553155\n",
       "2017-07-04 14:31:00+08:00 -0.000054 -0.000159        0.553155\n",
       "2017-07-04 14:32:00+08:00 -0.000096 -0.000159        0.553155\n",
       "2017-07-04 14:33:00+08:00  0.000002 -0.000159        0.553155\n",
       "2017-07-04 14:34:00+08:00 -0.000273 -0.000159        0.553155\n",
       "2017-07-04 14:35:00+08:00 -0.000050 -0.000159        0.553155\n",
       "2017-07-04 14:36:00+08:00  0.000030 -0.000159        0.553155\n",
       "2017-07-04 14:37:00+08:00 -0.000399 -0.000159        0.553155\n",
       "2017-07-04 14:38:00+08:00 -0.000551 -0.000159        0.553155\n",
       "2017-07-04 14:39:00+08:00 -0.000125 -0.000159        0.553155\n",
       "2017-07-04 14:40:00+08:00  0.000184 -0.000159        0.553155\n",
       "2017-07-04 14:41:00+08:00 -0.000131 -0.000159        0.553155\n",
       "2017-07-04 14:42:00+08:00 -0.000296 -0.000159        0.553155\n",
       "2017-07-04 14:43:00+08:00 -0.000045 -0.000159        0.553155\n",
       "2017-07-04 14:44:00+08:00  0.000271 -0.000159        0.553155\n",
       "2017-07-04 14:45:00+08:00  0.000171 -0.000159        0.553155\n",
       "2017-07-04 14:46:00+08:00  0.000072 -0.000159        0.553155\n",
       "2017-07-04 14:47:00+08:00  0.000196 -0.000159        0.553155\n",
       "2017-07-04 14:48:00+08:00 -0.000298 -0.000159        0.553155\n",
       "2017-07-04 14:49:00+08:00 -0.000091 -0.000159        0.553155\n",
       "2017-07-04 14:50:00+08:00  0.000108 -0.000159        0.553155\n",
       "2017-07-04 14:51:00+08:00  0.000119 -0.000159        0.553155\n",
       "2017-07-04 14:52:00+08:00  0.000374 -0.000159        0.553155\n",
       "2017-07-04 14:53:00+08:00  0.000769 -0.000159        0.553155\n",
       "2017-07-04 14:54:00+08:00  0.000224 -0.000159        0.553155\n",
       "2017-07-04 14:55:00+08:00  0.000086 -0.000159        0.553155\n",
       "2017-07-04 14:56:00+08:00 -0.000400 -0.000159        0.553155\n",
       "2017-07-04 14:57:00+08:00 -0.000446 -0.000159        0.553155\n",
       "2017-07-04 14:58:00+08:00  0.000345 -0.000159        0.553155\n",
       "2017-07-04 14:59:00+08:00  0.000000 -0.000159        0.553155\n",
       "\n",
       "[166845 rows x 3 columns]"
      ]
     },
     "execution_count": 157,
     "metadata": {},
     "output_type": "execute_result"
    }
   ],
   "source": [
    "y_test"
   ]
  },
  {
   "cell_type": "code",
   "execution_count": null,
   "metadata": {},
   "outputs": [],
   "source": []
  },
  {
   "cell_type": "code",
   "execution_count": 113,
   "metadata": {},
   "outputs": [
    {
     "data": {
      "text/plain": [
       "array([-0.00014521, -0.00014814, -0.00015272, ..., -0.00015856,\n",
       "       -0.00015856, -0.00015856], dtype=float32)"
      ]
     },
     "execution_count": 113,
     "metadata": {},
     "output_type": "execute_result"
    }
   ],
   "source": []
  },
  {
   "cell_type": "code",
   "execution_count": 92,
   "metadata": {},
   "outputs": [
    {
     "data": {
      "text/plain": [
       "333465"
      ]
     },
     "execution_count": 92,
     "metadata": {},
     "output_type": "execute_result"
    }
   ],
   "source": [
    "y_test_predict.size"
   ]
  },
  {
   "cell_type": "code",
   "execution_count": 90,
   "metadata": {},
   "outputs": [
    {
     "ename": "ValueError",
     "evalue": "Shape of passed values is (1, 333465), indices imply (1, 166845)",
     "output_type": "error",
     "traceback": [
      "\u001b[0;31m---------------------------------------------------------------------------\u001b[0m",
      "\u001b[0;31mValueError\u001b[0m                                Traceback (most recent call last)",
      "\u001b[0;32m/usr/local/lib/python3.6/site-packages/pandas/core/internals.py\u001b[0m in \u001b[0;36mcreate_block_manager_from_blocks\u001b[0;34m(blocks, axes)\u001b[0m\n\u001b[1;32m   4295\u001b[0m \u001b[0;34m\u001b[0m\u001b[0m\n\u001b[0;32m-> 4296\u001b[0;31m         \u001b[0mmgr\u001b[0m \u001b[0;34m=\u001b[0m \u001b[0mBlockManager\u001b[0m\u001b[0;34m(\u001b[0m\u001b[0mblocks\u001b[0m\u001b[0;34m,\u001b[0m \u001b[0maxes\u001b[0m\u001b[0;34m)\u001b[0m\u001b[0;34m\u001b[0m\u001b[0m\n\u001b[0m\u001b[1;32m   4297\u001b[0m         \u001b[0mmgr\u001b[0m\u001b[0;34m.\u001b[0m\u001b[0m_consolidate_inplace\u001b[0m\u001b[0;34m(\u001b[0m\u001b[0;34m)\u001b[0m\u001b[0;34m\u001b[0m\u001b[0m\n",
      "\u001b[0;32m/usr/local/lib/python3.6/site-packages/pandas/core/internals.py\u001b[0m in \u001b[0;36m__init__\u001b[0;34m(self, blocks, axes, do_integrity_check, fastpath)\u001b[0m\n\u001b[1;32m   2794\u001b[0m         \u001b[0;32mif\u001b[0m \u001b[0mdo_integrity_check\u001b[0m\u001b[0;34m:\u001b[0m\u001b[0;34m\u001b[0m\u001b[0m\n\u001b[0;32m-> 2795\u001b[0;31m             \u001b[0mself\u001b[0m\u001b[0;34m.\u001b[0m\u001b[0m_verify_integrity\u001b[0m\u001b[0;34m(\u001b[0m\u001b[0;34m)\u001b[0m\u001b[0;34m\u001b[0m\u001b[0m\n\u001b[0m\u001b[1;32m   2796\u001b[0m \u001b[0;34m\u001b[0m\u001b[0m\n",
      "\u001b[0;32m/usr/local/lib/python3.6/site-packages/pandas/core/internals.py\u001b[0m in \u001b[0;36m_verify_integrity\u001b[0;34m(self)\u001b[0m\n\u001b[1;32m   3005\u001b[0m             \u001b[0;32mif\u001b[0m \u001b[0mblock\u001b[0m\u001b[0;34m.\u001b[0m\u001b[0m_verify_integrity\u001b[0m \u001b[0;32mand\u001b[0m \u001b[0mblock\u001b[0m\u001b[0;34m.\u001b[0m\u001b[0mshape\u001b[0m\u001b[0;34m[\u001b[0m\u001b[0;36m1\u001b[0m\u001b[0;34m:\u001b[0m\u001b[0;34m]\u001b[0m \u001b[0;34m!=\u001b[0m \u001b[0mmgr_shape\u001b[0m\u001b[0;34m[\u001b[0m\u001b[0;36m1\u001b[0m\u001b[0;34m:\u001b[0m\u001b[0;34m]\u001b[0m\u001b[0;34m:\u001b[0m\u001b[0;34m\u001b[0m\u001b[0m\n\u001b[0;32m-> 3006\u001b[0;31m                 \u001b[0mconstruction_error\u001b[0m\u001b[0;34m(\u001b[0m\u001b[0mtot_items\u001b[0m\u001b[0;34m,\u001b[0m \u001b[0mblock\u001b[0m\u001b[0;34m.\u001b[0m\u001b[0mshape\u001b[0m\u001b[0;34m[\u001b[0m\u001b[0;36m1\u001b[0m\u001b[0;34m:\u001b[0m\u001b[0;34m]\u001b[0m\u001b[0;34m,\u001b[0m \u001b[0mself\u001b[0m\u001b[0;34m.\u001b[0m\u001b[0maxes\u001b[0m\u001b[0;34m)\u001b[0m\u001b[0;34m\u001b[0m\u001b[0m\n\u001b[0m\u001b[1;32m   3007\u001b[0m         \u001b[0;32mif\u001b[0m \u001b[0mlen\u001b[0m\u001b[0;34m(\u001b[0m\u001b[0mself\u001b[0m\u001b[0;34m.\u001b[0m\u001b[0mitems\u001b[0m\u001b[0;34m)\u001b[0m \u001b[0;34m!=\u001b[0m \u001b[0mtot_items\u001b[0m\u001b[0;34m:\u001b[0m\u001b[0;34m\u001b[0m\u001b[0m\n",
      "\u001b[0;32m/usr/local/lib/python3.6/site-packages/pandas/core/internals.py\u001b[0m in \u001b[0;36mconstruction_error\u001b[0;34m(tot_items, block_shape, axes, e)\u001b[0m\n\u001b[1;32m   4279\u001b[0m     raise ValueError(\"Shape of passed values is {0}, indices imply {1}\".format(\n\u001b[0;32m-> 4280\u001b[0;31m         passed, implied))\n\u001b[0m\u001b[1;32m   4281\u001b[0m \u001b[0;34m\u001b[0m\u001b[0m\n",
      "\u001b[0;31mValueError\u001b[0m: Shape of passed values is (1, 333465), indices imply (1, 166845)",
      "\nDuring handling of the above exception, another exception occurred:\n",
      "\u001b[0;31mValueError\u001b[0m                                Traceback (most recent call last)",
      "\u001b[0;32m<ipython-input-90-96bc0238d7a6>\u001b[0m in \u001b[0;36m<module>\u001b[0;34m()\u001b[0m\n\u001b[0;32m----> 1\u001b[0;31m \u001b[0mpd\u001b[0m\u001b[0;34m.\u001b[0m\u001b[0mDataFrame\u001b[0m\u001b[0;34m(\u001b[0m\u001b[0my_test_predict\u001b[0m\u001b[0;34m,\u001b[0m \u001b[0mindex\u001b[0m\u001b[0;34m=\u001b[0m\u001b[0my_test\u001b[0m\u001b[0;34m.\u001b[0m\u001b[0mindex\u001b[0m\u001b[0;34m)\u001b[0m\u001b[0;34m\u001b[0m\u001b[0m\n\u001b[0m",
      "\u001b[0;32m/usr/local/lib/python3.6/site-packages/pandas/core/frame.py\u001b[0m in \u001b[0;36m__init__\u001b[0;34m(self, data, index, columns, dtype, copy)\u001b[0m\n\u001b[1;32m    304\u001b[0m             \u001b[0;32melse\u001b[0m\u001b[0;34m:\u001b[0m\u001b[0;34m\u001b[0m\u001b[0m\n\u001b[1;32m    305\u001b[0m                 mgr = self._init_ndarray(data, index, columns, dtype=dtype,\n\u001b[0;32m--> 306\u001b[0;31m                                          copy=copy)\n\u001b[0m\u001b[1;32m    307\u001b[0m         \u001b[0;32melif\u001b[0m \u001b[0misinstance\u001b[0m\u001b[0;34m(\u001b[0m\u001b[0mdata\u001b[0m\u001b[0;34m,\u001b[0m \u001b[0;34m(\u001b[0m\u001b[0mlist\u001b[0m\u001b[0;34m,\u001b[0m \u001b[0mtypes\u001b[0m\u001b[0;34m.\u001b[0m\u001b[0mGeneratorType\u001b[0m\u001b[0;34m)\u001b[0m\u001b[0;34m)\u001b[0m\u001b[0;34m:\u001b[0m\u001b[0;34m\u001b[0m\u001b[0m\n\u001b[1;32m    308\u001b[0m             \u001b[0;32mif\u001b[0m \u001b[0misinstance\u001b[0m\u001b[0;34m(\u001b[0m\u001b[0mdata\u001b[0m\u001b[0;34m,\u001b[0m \u001b[0mtypes\u001b[0m\u001b[0;34m.\u001b[0m\u001b[0mGeneratorType\u001b[0m\u001b[0;34m)\u001b[0m\u001b[0;34m:\u001b[0m\u001b[0;34m\u001b[0m\u001b[0m\n",
      "\u001b[0;32m/usr/local/lib/python3.6/site-packages/pandas/core/frame.py\u001b[0m in \u001b[0;36m_init_ndarray\u001b[0;34m(self, values, index, columns, dtype, copy)\u001b[0m\n\u001b[1;32m    481\u001b[0m             \u001b[0mvalues\u001b[0m \u001b[0;34m=\u001b[0m \u001b[0mmaybe_infer_to_datetimelike\u001b[0m\u001b[0;34m(\u001b[0m\u001b[0mvalues\u001b[0m\u001b[0;34m)\u001b[0m\u001b[0;34m\u001b[0m\u001b[0m\n\u001b[1;32m    482\u001b[0m \u001b[0;34m\u001b[0m\u001b[0m\n\u001b[0;32m--> 483\u001b[0;31m         \u001b[0;32mreturn\u001b[0m \u001b[0mcreate_block_manager_from_blocks\u001b[0m\u001b[0;34m(\u001b[0m\u001b[0;34m[\u001b[0m\u001b[0mvalues\u001b[0m\u001b[0;34m]\u001b[0m\u001b[0;34m,\u001b[0m \u001b[0;34m[\u001b[0m\u001b[0mcolumns\u001b[0m\u001b[0;34m,\u001b[0m \u001b[0mindex\u001b[0m\u001b[0;34m]\u001b[0m\u001b[0;34m)\u001b[0m\u001b[0;34m\u001b[0m\u001b[0m\n\u001b[0m\u001b[1;32m    484\u001b[0m \u001b[0;34m\u001b[0m\u001b[0m\n\u001b[1;32m    485\u001b[0m     \u001b[0;34m@\u001b[0m\u001b[0mproperty\u001b[0m\u001b[0;34m\u001b[0m\u001b[0m\n",
      "\u001b[0;32m/usr/local/lib/python3.6/site-packages/pandas/core/internals.py\u001b[0m in \u001b[0;36mcreate_block_manager_from_blocks\u001b[0;34m(blocks, axes)\u001b[0m\n\u001b[1;32m   4301\u001b[0m         \u001b[0mblocks\u001b[0m \u001b[0;34m=\u001b[0m \u001b[0;34m[\u001b[0m\u001b[0mgetattr\u001b[0m\u001b[0;34m(\u001b[0m\u001b[0mb\u001b[0m\u001b[0;34m,\u001b[0m \u001b[0;34m'values'\u001b[0m\u001b[0;34m,\u001b[0m \u001b[0mb\u001b[0m\u001b[0;34m)\u001b[0m \u001b[0;32mfor\u001b[0m \u001b[0mb\u001b[0m \u001b[0;32min\u001b[0m \u001b[0mblocks\u001b[0m\u001b[0;34m]\u001b[0m\u001b[0;34m\u001b[0m\u001b[0m\n\u001b[1;32m   4302\u001b[0m         \u001b[0mtot_items\u001b[0m \u001b[0;34m=\u001b[0m \u001b[0msum\u001b[0m\u001b[0;34m(\u001b[0m\u001b[0mb\u001b[0m\u001b[0;34m.\u001b[0m\u001b[0mshape\u001b[0m\u001b[0;34m[\u001b[0m\u001b[0;36m0\u001b[0m\u001b[0;34m]\u001b[0m \u001b[0;32mfor\u001b[0m \u001b[0mb\u001b[0m \u001b[0;32min\u001b[0m \u001b[0mblocks\u001b[0m\u001b[0;34m)\u001b[0m\u001b[0;34m\u001b[0m\u001b[0m\n\u001b[0;32m-> 4303\u001b[0;31m         \u001b[0mconstruction_error\u001b[0m\u001b[0;34m(\u001b[0m\u001b[0mtot_items\u001b[0m\u001b[0;34m,\u001b[0m \u001b[0mblocks\u001b[0m\u001b[0;34m[\u001b[0m\u001b[0;36m0\u001b[0m\u001b[0;34m]\u001b[0m\u001b[0;34m.\u001b[0m\u001b[0mshape\u001b[0m\u001b[0;34m[\u001b[0m\u001b[0;36m1\u001b[0m\u001b[0;34m:\u001b[0m\u001b[0;34m]\u001b[0m\u001b[0;34m,\u001b[0m \u001b[0maxes\u001b[0m\u001b[0;34m,\u001b[0m \u001b[0me\u001b[0m\u001b[0;34m)\u001b[0m\u001b[0;34m\u001b[0m\u001b[0m\n\u001b[0m\u001b[1;32m   4304\u001b[0m \u001b[0;34m\u001b[0m\u001b[0m\n\u001b[1;32m   4305\u001b[0m \u001b[0;34m\u001b[0m\u001b[0m\n",
      "\u001b[0;32m/usr/local/lib/python3.6/site-packages/pandas/core/internals.py\u001b[0m in \u001b[0;36mconstruction_error\u001b[0;34m(tot_items, block_shape, axes, e)\u001b[0m\n\u001b[1;32m   4278\u001b[0m         \u001b[0;32mraise\u001b[0m \u001b[0mValueError\u001b[0m\u001b[0;34m(\u001b[0m\u001b[0;34m\"Empty data passed with indices specified.\"\u001b[0m\u001b[0;34m)\u001b[0m\u001b[0;34m\u001b[0m\u001b[0m\n\u001b[1;32m   4279\u001b[0m     raise ValueError(\"Shape of passed values is {0}, indices imply {1}\".format(\n\u001b[0;32m-> 4280\u001b[0;31m         passed, implied))\n\u001b[0m\u001b[1;32m   4281\u001b[0m \u001b[0;34m\u001b[0m\u001b[0m\n\u001b[1;32m   4282\u001b[0m \u001b[0;34m\u001b[0m\u001b[0m\n",
      "\u001b[0;31mValueError\u001b[0m: Shape of passed values is (1, 333465), indices imply (1, 166845)"
     ]
    }
   ],
   "source": [
    "pd.DataFrame(y_test_predict, index=y_test.index)"
   ]
  },
  {
   "cell_type": "code",
   "execution_count": null,
   "metadata": {
    "collapsed": true
   },
   "outputs": [],
   "source": []
  }
 ],
 "metadata": {
  "kernelspec": {
   "display_name": "Python 3",
   "language": "python",
   "name": "python3"
  },
  "language_info": {
   "codemirror_mode": {
    "name": "ipython",
    "version": 3
   },
   "file_extension": ".py",
   "mimetype": "text/x-python",
   "name": "python",
   "nbconvert_exporter": "python",
   "pygments_lexer": "ipython3",
   "version": "3.6.1"
  }
 },
 "nbformat": 4,
 "nbformat_minor": 2
}

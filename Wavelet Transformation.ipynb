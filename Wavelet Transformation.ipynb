{
 "cells": [
  {
   "cell_type": "code",
   "execution_count": 1,
   "metadata": {},
   "outputs": [
    {
     "name": "stderr",
     "output_type": "stream",
     "text": [
      "Using TensorFlow backend.\n"
     ]
    }
   ],
   "source": [
    "import warnings\n",
    "warnings.filterwarnings('ignore')\n",
    "import pandas as pd\n",
    "import numpy as np\n",
    "from matplotlib import pyplot as plt\n",
    "from math import sqrt\n",
    "from pytz import timezone\n",
    "\n",
    "from sklearn.metrics import mean_squared_error\n",
    "from sklearn.preprocessing import MinMaxScaler, Normalizer, RobustScaler, StandardScaler\n",
    "from sklearn.model_selection import train_test_split\n",
    "from keras.models import Sequential\n",
    "from keras.layers import Dense\n",
    "from keras.layers import LSTM\n",
    "from keras.layers import Activation\n",
    "from keras.utils.np_utils import to_categorical\n",
    "from keras import optimizers\n",
    "import keras\n",
    "import talib\n",
    "\n",
    "def get_CU():\n",
    "    import dovahkiin as dk\n",
    "    dp = dk.DataParser()\n",
    "    X = dp.get_data(\"cu\")\n",
    "    return X\n",
    "\n",
    "def get_SP500():\n",
    "    import pandas_datareader as pdr    \n",
    "    SP500 = pdr.get_data_yahoo('^GSPC')\n",
    "    return SP500\n",
    "\n",
    "def get_X_data():\n",
    "    import dovahkiin as dk\n",
    "    dp = dk.DataParser()\n",
    "    X = dp.get_data(\"cu\")\n",
    "    return X\n",
    "\n",
    "X = get_X_data()"
   ]
  },
  {
   "cell_type": "code",
   "execution_count": 2,
   "metadata": {},
   "outputs": [],
   "source": [
    "fig_size = (12, 9)\n",
    "plt.rcParams[\"figure.figsize\"] = fig_size"
   ]
  },
  {
   "cell_type": "code",
   "execution_count": 3,
   "metadata": {},
   "outputs": [],
   "source": [
    "X[\"HLC\"] = (X.high + X.low + X.close) / 3"
   ]
  },
  {
   "cell_type": "code",
   "execution_count": 4,
   "metadata": {},
   "outputs": [],
   "source": [
    "X[\"return\"] = X.HLC.pct_change()"
   ]
  },
  {
   "cell_type": "code",
   "execution_count": 5,
   "metadata": {},
   "outputs": [],
   "source": [
    "X[\"return\"] = X[\"return\"].fillna(0)"
   ]
  },
  {
   "cell_type": "code",
   "execution_count": null,
   "metadata": {
    "collapsed": true
   },
   "outputs": [],
   "source": []
  },
  {
   "cell_type": "markdown",
   "metadata": {},
   "source": [
    "### Wavelet Decomposition"
   ]
  },
  {
   "cell_type": "code",
   "execution_count": 6,
   "metadata": {
    "collapsed": true
   },
   "outputs": [],
   "source": [
    "import pywt\n",
    "from statsmodels.robust import stand_mad\n",
    "\n",
    "# Wavelet Decomposition\n",
    "level = 9\n",
    "haar = pywt.Wavelet(\"haar\")\n",
    "coeffs = pywt.wavedec(X[\"return\"].values, haar, level=9)\n",
    "recomposed_return = pywt.waverec(coeffs, haar)"
   ]
  },
  {
   "cell_type": "code",
   "execution_count": 7,
   "metadata": {},
   "outputs": [
    {
     "data": {
      "text/plain": [
       "array([ -6.94567017e-20,  -1.52746431e-05,  -3.30791130e-04, ...,\n",
       "        -4.46399095e-04,   3.44784337e-04,   3.44784337e-04])"
      ]
     },
     "execution_count": 7,
     "metadata": {},
     "output_type": "execute_result"
    }
   ],
   "source": [
    "recomposed_return"
   ]
  },
  {
   "cell_type": "code",
   "execution_count": 8,
   "metadata": {},
   "outputs": [
    {
     "data": {
      "text/plain": [
       "date_time\n",
       "2003-08-01 09:00:00+08:00    6.945670e-20\n",
       "2003-08-01 09:01:00+08:00    7.453890e-20\n",
       "2003-08-01 09:02:00+08:00    1.626303e-19\n",
       "2003-08-01 09:03:00+08:00    1.626303e-19\n",
       "2003-08-01 09:04:00+08:00    2.710505e-20\n",
       "2003-08-01 09:05:00+08:00   -2.710505e-20\n",
       "2003-08-01 09:06:00+08:00    0.000000e+00\n",
       "2003-08-01 09:07:00+08:00   -2.710505e-20\n",
       "2003-08-01 09:08:00+08:00   -5.421011e-20\n",
       "2003-08-01 09:09:00+08:00   -1.355253e-20\n",
       "2003-08-01 09:10:00+08:00   -2.168404e-19\n",
       "2003-08-01 09:11:00+08:00   -8.131516e-20\n",
       "2003-08-01 09:12:00+08:00   -2.710505e-20\n",
       "2003-08-01 09:13:00+08:00   -4.065758e-20\n",
       "2003-08-01 09:14:00+08:00   -3.388132e-20\n",
       "2003-08-01 09:15:00+08:00   -2.710505e-20\n",
       "2003-08-01 09:16:00+08:00   -5.421011e-20\n",
       "2003-08-01 09:17:00+08:00   -5.421011e-20\n",
       "2003-08-01 09:18:00+08:00   -1.694066e-20\n",
       "2003-08-01 09:19:00+08:00   -2.710505e-20\n",
       "2003-08-01 09:20:00+08:00    2.710505e-20\n",
       "2003-08-01 09:21:00+08:00    2.710505e-20\n",
       "2003-08-01 09:22:00+08:00   -2.710505e-20\n",
       "2003-08-01 09:23:00+08:00    0.000000e+00\n",
       "2003-08-01 09:24:00+08:00   -2.710505e-20\n",
       "2003-08-01 09:25:00+08:00   -2.032879e-20\n",
       "2003-08-01 09:26:00+08:00    2.710505e-20\n",
       "2003-08-01 09:27:00+08:00    0.000000e+00\n",
       "2003-08-01 09:28:00+08:00   -1.355253e-20\n",
       "2003-08-01 09:29:00+08:00   -6.776264e-21\n",
       "                                 ...     \n",
       "2017-07-04 14:30:00+08:00   -1.084202e-19\n",
       "2017-07-04 14:31:00+08:00   -5.421011e-20\n",
       "2017-07-04 14:32:00+08:00   -2.032879e-20\n",
       "2017-07-04 14:33:00+08:00    5.421011e-20\n",
       "2017-07-04 14:34:00+08:00    6.098637e-20\n",
       "2017-07-04 14:35:00+08:00    5.421011e-20\n",
       "2017-07-04 14:36:00+08:00    4.065758e-20\n",
       "2017-07-04 14:37:00+08:00    2.710505e-20\n",
       "2017-07-04 14:38:00+08:00    1.084202e-19\n",
       "2017-07-04 14:39:00+08:00    1.084202e-19\n",
       "2017-07-04 14:40:00+08:00    8.131516e-20\n",
       "2017-07-04 14:41:00+08:00   -2.710505e-20\n",
       "2017-07-04 14:42:00+08:00    2.710505e-20\n",
       "2017-07-04 14:43:00+08:00    0.000000e+00\n",
       "2017-07-04 14:44:00+08:00    2.710505e-20\n",
       "2017-07-04 14:45:00+08:00   -5.421011e-20\n",
       "2017-07-04 14:46:00+08:00   -5.421011e-20\n",
       "2017-07-04 14:47:00+08:00   -5.421011e-20\n",
       "2017-07-04 14:48:00+08:00   -5.421011e-20\n",
       "2017-07-04 14:49:00+08:00    1.084202e-19\n",
       "2017-07-04 14:50:00+08:00    5.421011e-20\n",
       "2017-07-04 14:51:00+08:00   -4.065758e-20\n",
       "2017-07-04 14:52:00+08:00   -4.065758e-20\n",
       "2017-07-04 14:53:00+08:00   -2.710505e-19\n",
       "2017-07-04 14:54:00+08:00   -4.336809e-19\n",
       "2017-07-04 14:55:00+08:00   -1.626303e-19\n",
       "2017-07-04 14:56:00+08:00   -1.219727e-19\n",
       "2017-07-04 14:57:00+08:00    0.000000e+00\n",
       "2017-07-04 14:58:00+08:00    0.000000e+00\n",
       "2017-07-04 14:59:00+08:00   -5.421011e-20\n",
       "Name: return, Length: 958635, dtype: float64"
      ]
     },
     "execution_count": 8,
     "metadata": {},
     "output_type": "execute_result"
    }
   ],
   "source": [
    "X[\"return\"] - recomposed_return[:-1]"
   ]
  },
  {
   "cell_type": "code",
   "execution_count": 9,
   "metadata": {},
   "outputs": [
    {
     "data": {
      "text/plain": [
       "array([ -6.94567017e-20,  -1.52746431e-05,  -3.30791130e-04, ...,\n",
       "        -3.99795386e-04,  -4.46399095e-04,   3.44784337e-04])"
      ]
     },
     "execution_count": 9,
     "metadata": {},
     "output_type": "execute_result"
    }
   ],
   "source": [
    "recomposed_return[:-1]"
   ]
  },
  {
   "cell_type": "code",
   "execution_count": 10,
   "metadata": {},
   "outputs": [],
   "source": [
    "diff = recomposed_return[:-1] - X[\"return\"].values"
   ]
  },
  {
   "cell_type": "code",
   "execution_count": 11,
   "metadata": {},
   "outputs": [
    {
     "data": {
      "text/plain": [
       "1.2389725842013506e-13"
      ]
     },
     "execution_count": 11,
     "metadata": {},
     "output_type": "execute_result"
    }
   ],
   "source": [
    "np.abs(diff).sum()"
   ]
  },
  {
   "cell_type": "markdown",
   "metadata": {},
   "source": [
    "### Wavelet De-noising"
   ]
  },
  {
   "cell_type": "code",
   "execution_count": 12,
   "metadata": {},
   "outputs": [],
   "source": [
    "sigma = stand_mad(coeffs[-1])\n",
    "uthresh = sigma*np.sqrt(2*np.log(len(X[\"return\"].values)))\n",
    "denoised = coeffs[:]"
   ]
  },
  {
   "cell_type": "code",
   "execution_count": 13,
   "metadata": {},
   "outputs": [],
   "source": [
    "denoised[1:] = (pywt.threshold(i, value=uthresh) for i in denoised[1:])"
   ]
  },
  {
   "cell_type": "code",
   "execution_count": 14,
   "metadata": {},
   "outputs": [],
   "source": [
    "denoised_return = pywt.waverec(denoised, haar)"
   ]
  },
  {
   "cell_type": "code",
   "execution_count": 15,
   "metadata": {
    "collapsed": true
   },
   "outputs": [],
   "source": [
    "X[\"denoised\"] = denoised_return[:-1]"
   ]
  },
  {
   "cell_type": "code",
   "execution_count": 16,
   "metadata": {},
   "outputs": [
    {
     "name": "stdout",
     "output_type": "stream",
     "text": [
      "There are total of 958636 elements\n",
      "Total absolute difference: 230.6085907747903\n",
      "Correlation between denoised and original: 0.9060392654130378\n"
     ]
    }
   ],
   "source": [
    "diff = denoised_return[:-1] - X[\"return\"].values\n",
    "correlation = np.corrcoef(denoised_return[:-1], X[\"return\"].values)\n",
    "print(\"There are total of {} elements\".format(len(denoised_return)))\n",
    "print(\"Total absolute difference: {}\".format(np.abs(diff).sum()))\n",
    "print(\"Correlation between denoised and original: {}\".format(correlation[0][1]))"
   ]
  },
  {
   "cell_type": "code",
   "execution_count": 17,
   "metadata": {},
   "outputs": [
    {
     "data": {
      "text/plain": [
       "<matplotlib.axes._subplots.AxesSubplot at 0x1188c7b00>"
      ]
     },
     "execution_count": 17,
     "metadata": {},
     "output_type": "execute_result"
    }
   ],
   "source": [
    "pd.DataFrame({\"denoised\": denoised_return[1:]}, index=X.index).plot()\n",
    "X[\"return\"].plot()"
   ]
  },
  {
   "cell_type": "code",
   "execution_count": null,
   "metadata": {},
   "outputs": [],
   "source": []
  },
  {
   "cell_type": "markdown",
   "metadata": {},
   "source": [
    "### Divide Data into Train and Test"
   ]
  },
  {
   "cell_type": "code",
   "execution_count": 18,
   "metadata": {},
   "outputs": [
    {
     "name": "stdout",
     "output_type": "stream",
     "text": [
      "Test: 33.35%\n",
      "Train: 66.65%\n"
     ]
    }
   ],
   "source": [
    "X_train = X[\"2012\":\"2015\"]\n",
    "X_test = X[\"2016\":]\n",
    "print(\"Test: {:.2f}%\".format(100 * len(X_test)/len(X[\"2012\":])))\n",
    "print(\"Train: {:.2f}%\".format(100 * len(X_train)/len(X[\"2012\":])))"
   ]
  },
  {
   "cell_type": "code",
   "execution_count": 19,
   "metadata": {},
   "outputs": [],
   "source": [
    "y = X[\"return\"].shift(-1)\n",
    "y = y.fillna(0)"
   ]
  },
  {
   "cell_type": "code",
   "execution_count": null,
   "metadata": {},
   "outputs": [],
   "source": []
  },
  {
   "cell_type": "code",
   "execution_count": 20,
   "metadata": {
    "collapsed": true
   },
   "outputs": [],
   "source": [
    "y_train = y[\"2012\":\"2015\"]\n",
    "y_test  = y[\"2016\":]"
   ]
  },
  {
   "cell_type": "code",
   "execution_count": null,
   "metadata": {},
   "outputs": [],
   "source": []
  },
  {
   "cell_type": "code",
   "execution_count": 21,
   "metadata": {},
   "outputs": [],
   "source": [
    "del X_train['HLC']\n",
    "del X_train['open']\n",
    "del X_train['high'] \n",
    "del X_train['low']\n",
    "del X_train['close']\n",
    "del X_train['volume']\n",
    "del X_train['openint']\n",
    "\n",
    "del X_test[\"HLC\"]\n",
    "del X_test['open']\n",
    "del X_test['high'] \n",
    "del X_test['low']\n",
    "del X_test['close']\n",
    "del X_test['volume']\n",
    "del X_test['openint']"
   ]
  },
  {
   "cell_type": "markdown",
   "metadata": {},
   "source": [
    "### Normalization"
   ]
  },
  {
   "cell_type": "code",
   "execution_count": 22,
   "metadata": {},
   "outputs": [],
   "source": [
    "# Normalize de-noised return\n",
    "scaler = MinMaxScaler()"
   ]
  },
  {
   "cell_type": "code",
   "execution_count": 23,
   "metadata": {},
   "outputs": [],
   "source": [
    "X_train[\"denoised_scaled\"] = scaler.fit_transform(pd.DataFrame(X_train[\"denoised\"].values))"
   ]
  },
  {
   "cell_type": "code",
   "execution_count": 24,
   "metadata": {},
   "outputs": [],
   "source": [
    "X_test[\"denoised_scaled\"] = scaler.transform(pd.DataFrame(X_test[\"denoised\"].values))"
   ]
  },
  {
   "cell_type": "code",
   "execution_count": 25,
   "metadata": {
    "collapsed": true
   },
   "outputs": [],
   "source": [
    "time_series_step=4\n",
    "\n",
    "def timeseries_to_supervised(raw_time_series, lag):\n",
    "    p = {}\n",
    "    for i in range(1, lag+1):\n",
    "        p[\"{}\".format(i)] = raw_time_series.shift(i).fillna(0)\n",
    "    p[\"0\"] = raw_time_series\n",
    "    \n",
    "    supervised_data = pd.Panel(p)\n",
    "    return supervised_data\n",
    "\n",
    "def non_shuffling_train_test_split(X, y, test_size=0.2):\n",
    "    i = int((1 - test_size) * X.shape[0]) + 1\n",
    "    X_train, X_test = np.split(X, [i])\n",
    "    y_train, y_test = np.split(y, [i])\n",
    "    return X_train, X_test, y_train, y_test\n",
    "\n",
    "def create_supervised_X(raw_time_series, lag):\n",
    "    supervised_X = timeseries_to_supervised(raw_time_series, lag)\n",
    "    swaped_supervised_X = supervised_X.swapaxes(0, 1)\n",
    "    return swaped_supervised_X"
   ]
  },
  {
   "cell_type": "code",
   "execution_count": 26,
   "metadata": {},
   "outputs": [],
   "source": [
    "X_train = create_supervised_X(pd.DataFrame(X_train[\"denoised_scaled\"]), time_series_step)\n",
    "X_test  = create_supervised_X(pd.DataFrame(X_test[\"denoised_scaled\"]), time_series_step)"
   ]
  },
  {
   "cell_type": "code",
   "execution_count": 27,
   "metadata": {},
   "outputs": [
    {
     "name": "stderr",
     "output_type": "stream",
     "text": [
      "/usr/local/lib/python3.6/site-packages/sklearn/preprocessing/data.py:321: DeprecationWarning: Passing 1d arrays as data is deprecated in 0.17 and will raise ValueError in 0.19. Reshape your data either using X.reshape(-1, 1) if your data has a single feature or X.reshape(1, -1) if it contains a single sample.\n",
      "  warnings.warn(DEPRECATION_MSG_1D, DeprecationWarning)\n",
      "/usr/local/lib/python3.6/site-packages/sklearn/preprocessing/data.py:356: DeprecationWarning: Passing 1d arrays as data is deprecated in 0.17 and will raise ValueError in 0.19. Reshape your data either using X.reshape(-1, 1) if your data has a single feature or X.reshape(1, -1) if it contains a single sample.\n",
      "  warnings.warn(DEPRECATION_MSG_1D, DeprecationWarning)\n",
      "/usr/local/lib/python3.6/site-packages/sklearn/preprocessing/data.py:356: DeprecationWarning: Passing 1d arrays as data is deprecated in 0.17 and will raise ValueError in 0.19. Reshape your data either using X.reshape(-1, 1) if your data has a single feature or X.reshape(1, -1) if it contains a single sample.\n",
      "  warnings.warn(DEPRECATION_MSG_1D, DeprecationWarning)\n"
     ]
    }
   ],
   "source": [
    "y_scaler = MinMaxScaler()\n",
    "y_train = y_scaler.fit_transform(y_train)\n",
    "y_test = y_scaler.transform(y_test)"
   ]
  },
  {
   "cell_type": "code",
   "execution_count": null,
   "metadata": {},
   "outputs": [],
   "source": []
  },
  {
   "cell_type": "markdown",
   "metadata": {},
   "source": [
    "### LSTM"
   ]
  },
  {
   "cell_type": "code",
   "execution_count": 31,
   "metadata": {},
   "outputs": [],
   "source": [
    "batch_size = 15\n",
    "features = 1"
   ]
  },
  {
   "cell_type": "code",
   "execution_count": 32,
   "metadata": {},
   "outputs": [
    {
     "data": {
      "text/plain": [
       "(333465, 5, 1)"
      ]
     },
     "execution_count": 32,
     "metadata": {},
     "output_type": "execute_result"
    }
   ],
   "source": [
    "X_train.shape"
   ]
  },
  {
   "cell_type": "code",
   "execution_count": 33,
   "metadata": {},
   "outputs": [
    {
     "data": {
      "text/plain": [
       "(166845, 5, 1)"
      ]
     },
     "execution_count": 33,
     "metadata": {},
     "output_type": "execute_result"
    }
   ],
   "source": [
    "X_test.shape"
   ]
  },
  {
   "cell_type": "code",
   "execution_count": null,
   "metadata": {},
   "outputs": [],
   "source": []
  },
  {
   "cell_type": "code",
   "execution_count": 38,
   "metadata": {},
   "outputs": [],
   "source": [
    "class LossHistory(keras.callbacks.Callback):\n",
    "    def on_train_begin(self, logs={}):\n",
    "        self.losses = []\n",
    "        self.val_losses = []\n",
    "\n",
    "\n",
    "    def on_batch_end(self, batch, logs={}):\n",
    "        self.losses.append(logs.get('loss'))\n",
    "        self.val_losses.append(logs.get('val_loss'))\n",
    "        \n",
    "    def on_batch_begin(self, batch, logs={}):\n",
    "        self.model.reset_states()"
   ]
  },
  {
   "cell_type": "code",
   "execution_count": 40,
   "metadata": {},
   "outputs": [],
   "source": [
    "model = Sequential()\n",
    "model.add(\n",
    "    LSTM(128, batch_input_shape=(batch_size, time_series_step+1, features), stateful=False, \n",
    "         return_sequences=True, \n",
    "         activation=\"relu\"\n",
    "        ))\n",
    "\n",
    "model.add(\n",
    "    LSTM(128, stateful=False, \n",
    "         return_sequences=True, \n",
    "         activation=\"relu\"\n",
    "        ))\n",
    "    \n",
    "model.add(LSTM(32, activation=\"relu\", stateful=True))\n",
    "model.add(Dense(32, activation=\"relu\"))\n",
    "model.add(Dense(32, activation=\"relu\"))\n",
    "model.add(Dense(1))\n",
    "# model.add(Activation('softmax'))"
   ]
  },
  {
   "cell_type": "code",
   "execution_count": 41,
   "metadata": {},
   "outputs": [],
   "source": [
    "model.compile(loss=\"mse\", optimizer=\"adadelta\")"
   ]
  },
  {
   "cell_type": "code",
   "execution_count": 42,
   "metadata": {},
   "outputs": [
    {
     "name": "stdout",
     "output_type": "stream",
     "text": [
      "Train on 333465 samples, validate on 166845 samples\n",
      "Epoch 1/5\n",
      "333465/333465 [==============================] - 720s - loss: 3.5642e-04 - val_loss: 0.0043\n",
      "Epoch 2/5\n",
      "333465/333465 [==============================] - 712s - loss: 3.9261e-05 - val_loss: 0.0018\n",
      "Epoch 3/5\n",
      "333465/333465 [==============================] - 690s - loss: 3.6623e-05 - val_loss: 0.0010\n",
      "Epoch 4/5\n",
      "333465/333465 [==============================] - 709s - loss: 3.5497e-05 - val_loss: 6.3225e-04\n",
      "Epoch 5/5\n",
      "333465/333465 [==============================] - 701s - loss: 3.4838e-05 - val_loss: 4.3346e-04\n"
     ]
    }
   ],
   "source": [
    "history = LossHistory()\n",
    "history4 = model.fit(X_train.values, \n",
    "                     y_train, \n",
    "                     epochs=5, \n",
    "                     batch_size=batch_size, \n",
    "                     shuffle=False, \n",
    "                     validation_data=(X_test.values, y_test),\n",
    "                     callbacks=[history]\n",
    "                    )"
   ]
  },
  {
   "cell_type": "code",
   "execution_count": 53,
   "metadata": {},
   "outputs": [],
   "source": [
    "total_history_val_loss = history.history['val_loss'] + history2.history['val_loss'] + history3.history['val_loss'] + history3.history['val_loss']\n",
    "total_history_loss = history.history['loss'] + history2.history['loss'] + history3.history['loss'] + history3.history['loss']"
   ]
  },
  {
   "cell_type": "code",
   "execution_count": 59,
   "metadata": {},
   "outputs": [
    {
     "data": {
      "image/png": "[encoded data removed]",
      "text/plain": [
       "<matplotlib.figure.Figure at 0x12d815a58>"
      ]
     },
     "metadata": {},
     "output_type": "display_data"
    }
   ],
   "source": [
    "# summarize history for loss\n",
    "\n",
    "# plt.plot(SAE_results[0].history['loss'][:size_limit])\n",
    "# plt.plot(history.history['loss'][:size_limit])\n",
    "# plt.plot(deep_results[0].history['loss'][:size_limit])\n",
    "plt.plot(total_history_val_loss)\n",
    "plt.plot(total_history_loss)\n",
    "plt.title('1min Wavelet LSTM Predictor')\n",
    "plt.ylabel('MSE')\n",
    "plt.xlabel('epoch')\n",
    "plt.legend(['Validation Loss', \"Training Loss\", ], loc='upper left')\n",
    "plt.show()"
   ]
  },
  {
   "cell_type": "code",
   "execution_count": 43,
   "metadata": {
    "collapsed": true
   },
   "outputs": [],
   "source": [
    "model.save(\"Wavelet_LSTM_1min_stateless\")"
   ]
  },
  {
   "cell_type": "code",
   "execution_count": 44,
   "metadata": {},
   "outputs": [],
   "source": [
    "y_test_predict_scaled = model.predict(X_test.values, batch_size=15)"
   ]
  },
  {
   "cell_type": "code",
   "execution_count": 45,
   "metadata": {},
   "outputs": [
    {
     "data": {
      "text/plain": [
       "166845"
      ]
     },
     "execution_count": 45,
     "metadata": {},
     "output_type": "execute_result"
    }
   ],
   "source": [
    "y_test_predict_scaled.size"
   ]
  },
  {
   "cell_type": "code",
   "execution_count": 46,
   "metadata": {
    "collapsed": true
   },
   "outputs": [],
   "source": [
    "y_test_predict = y_scaler.inverse_transform(y_test_predict_scaled)\n",
    "y_test_predict = y_test_predict.reshape(y_test_predict.shape[0])"
   ]
  },
  {
   "cell_type": "code",
   "execution_count": 47,
   "metadata": {},
   "outputs": [
    {
     "name": "stderr",
     "output_type": "stream",
     "text": [
      "/usr/local/lib/python3.6/site-packages/sklearn/preprocessing/data.py:374: DeprecationWarning: Passing 1d arrays as data is deprecated in 0.17 and will raise ValueError in 0.19. Reshape your data either using X.reshape(-1, 1) if your data has a single feature or X.reshape(1, -1) if it contains a single sample.\n",
      "  warnings.warn(DEPRECATION_MSG_1D, DeprecationWarning)\n"
     ]
    }
   ],
   "source": [
    "y_test_actual = y_scaler.inverse_transform(y_test)"
   ]
  },
  {
   "cell_type": "code",
   "execution_count": 50,
   "metadata": {},
   "outputs": [
    {
     "data": {
      "text/plain": [
       "166845"
      ]
     },
     "execution_count": 50,
     "metadata": {},
     "output_type": "execute_result"
    }
   ],
   "source": [
    "y_test_predict.size"
   ]
  },
  {
   "cell_type": "code",
   "execution_count": 51,
   "metadata": {},
   "outputs": [
    {
     "data": {
      "text/plain": [
       "166845"
      ]
     },
     "execution_count": 51,
     "metadata": {},
     "output_type": "execute_result"
    }
   ],
   "source": [
    "y_test_actual.size"
   ]
  },
  {
   "cell_type": "code",
   "execution_count": 52,
   "metadata": {},
   "outputs": [
    {
     "data": {
      "text/plain": [
       "array([[ 1.        ,  0.04470938],\n",
       "       [ 0.04470938,  1.        ]])"
      ]
     },
     "execution_count": 52,
     "metadata": {},
     "output_type": "execute_result"
    }
   ],
   "source": [
    "np.corrcoef(y_test_predict, y_test_actual)"
   ]
  },
  {
   "cell_type": "code",
   "execution_count": 140,
   "metadata": {},
   "outputs": [],
   "source": [
    "y_test = y[\"2016\":]"
   ]
  },
  {
   "cell_type": "code",
   "execution_count": 53,
   "metadata": {},
   "outputs": [],
   "source": [
    "y_test = pd.DataFrame(y_test)"
   ]
  },
  {
   "cell_type": "code",
   "execution_count": 54,
   "metadata": {},
   "outputs": [],
   "source": [
    "y_test[\"predict\"] = y_test_predict"
   ]
  },
  {
   "cell_type": "code",
   "execution_count": 55,
   "metadata": {
    "collapsed": true
   },
   "outputs": [],
   "source": [
    "y_test[\"predict_scaled\"] = y_test_predict_scaled"
   ]
  },
  {
   "cell_type": "code",
   "execution_count": 56,
   "metadata": {},
   "outputs": [
    {
     "data": {
      "text/html": [
       "<div>\n",
       "<style>\n",
       "    .dataframe thead tr:only-child th {\n",
       "        text-align: right;\n",
       "    }\n",
       "\n",
       "    .dataframe thead th {\n",
       "        text-align: left;\n",
       "    }\n",
       "\n",
       "    .dataframe tbody tr th {\n",
       "        vertical-align: top;\n",
       "    }\n",
       "</style>\n",
       "<table border=\"1\" class=\"dataframe\">\n",
       "  <thead>\n",
       "    <tr style=\"text-align: right;\">\n",
       "      <th></th>\n",
       "      <th>0</th>\n",
       "      <th>predict</th>\n",
       "      <th>predict_scaled</th>\n",
       "    </tr>\n",
       "  </thead>\n",
       "  <tbody>\n",
       "    <tr>\n",
       "      <th>0</th>\n",
       "      <td>0.571092</td>\n",
       "      <td>0.000436</td>\n",
       "      <td>0.560160</td>\n",
       "    </tr>\n",
       "    <tr>\n",
       "      <th>1</th>\n",
       "      <td>0.548666</td>\n",
       "      <td>0.000933</td>\n",
       "      <td>0.566012</td>\n",
       "    </tr>\n",
       "    <tr>\n",
       "      <th>2</th>\n",
       "      <td>0.548693</td>\n",
       "      <td>0.001324</td>\n",
       "      <td>0.570617</td>\n",
       "    </tr>\n",
       "    <tr>\n",
       "      <th>3</th>\n",
       "      <td>0.563428</td>\n",
       "      <td>0.001588</td>\n",
       "      <td>0.573730</td>\n",
       "    </tr>\n",
       "    <tr>\n",
       "      <th>4</th>\n",
       "      <td>0.555037</td>\n",
       "      <td>0.001707</td>\n",
       "      <td>0.575134</td>\n",
       "    </tr>\n",
       "    <tr>\n",
       "      <th>5</th>\n",
       "      <td>0.552425</td>\n",
       "      <td>0.001707</td>\n",
       "      <td>0.575130</td>\n",
       "    </tr>\n",
       "    <tr>\n",
       "      <th>6</th>\n",
       "      <td>0.550357</td>\n",
       "      <td>0.001704</td>\n",
       "      <td>0.575102</td>\n",
       "    </tr>\n",
       "    <tr>\n",
       "      <th>7</th>\n",
       "      <td>0.536375</td>\n",
       "      <td>0.001704</td>\n",
       "      <td>0.575101</td>\n",
       "    </tr>\n",
       "    <tr>\n",
       "      <th>8</th>\n",
       "      <td>0.532962</td>\n",
       "      <td>0.001700</td>\n",
       "      <td>0.575048</td>\n",
       "    </tr>\n",
       "    <tr>\n",
       "      <th>9</th>\n",
       "      <td>0.535060</td>\n",
       "      <td>0.001696</td>\n",
       "      <td>0.575000</td>\n",
       "    </tr>\n",
       "    <tr>\n",
       "      <th>10</th>\n",
       "      <td>0.549666</td>\n",
       "      <td>0.001696</td>\n",
       "      <td>0.575000</td>\n",
       "    </tr>\n",
       "    <tr>\n",
       "      <th>11</th>\n",
       "      <td>0.559384</td>\n",
       "      <td>0.001696</td>\n",
       "      <td>0.575010</td>\n",
       "    </tr>\n",
       "    <tr>\n",
       "      <th>12</th>\n",
       "      <td>0.539749</td>\n",
       "      <td>0.001699</td>\n",
       "      <td>0.575041</td>\n",
       "    </tr>\n",
       "    <tr>\n",
       "      <th>13</th>\n",
       "      <td>0.546030</td>\n",
       "      <td>0.001700</td>\n",
       "      <td>0.575046</td>\n",
       "    </tr>\n",
       "    <tr>\n",
       "      <th>14</th>\n",
       "      <td>0.530955</td>\n",
       "      <td>0.001700</td>\n",
       "      <td>0.575054</td>\n",
       "    </tr>\n",
       "    <tr>\n",
       "      <th>15</th>\n",
       "      <td>0.539651</td>\n",
       "      <td>0.001421</td>\n",
       "      <td>0.571759</td>\n",
       "    </tr>\n",
       "    <tr>\n",
       "      <th>16</th>\n",
       "      <td>0.559046</td>\n",
       "      <td>0.001528</td>\n",
       "      <td>0.573027</td>\n",
       "    </tr>\n",
       "    <tr>\n",
       "      <th>17</th>\n",
       "      <td>0.563766</td>\n",
       "      <td>0.001615</td>\n",
       "      <td>0.574051</td>\n",
       "    </tr>\n",
       "    <tr>\n",
       "      <th>18</th>\n",
       "      <td>0.562418</td>\n",
       "      <td>0.001676</td>\n",
       "      <td>0.574772</td>\n",
       "    </tr>\n",
       "    <tr>\n",
       "      <th>19</th>\n",
       "      <td>0.540597</td>\n",
       "      <td>0.001705</td>\n",
       "      <td>0.575114</td>\n",
       "    </tr>\n",
       "    <tr>\n",
       "      <th>20</th>\n",
       "      <td>0.559732</td>\n",
       "      <td>0.001706</td>\n",
       "      <td>0.575118</td>\n",
       "    </tr>\n",
       "    <tr>\n",
       "      <th>21</th>\n",
       "      <td>0.553867</td>\n",
       "      <td>0.001707</td>\n",
       "      <td>0.575131</td>\n",
       "    </tr>\n",
       "    <tr>\n",
       "      <th>22</th>\n",
       "      <td>0.552725</td>\n",
       "      <td>0.001707</td>\n",
       "      <td>0.575134</td>\n",
       "    </tr>\n",
       "    <tr>\n",
       "      <th>23</th>\n",
       "      <td>0.554545</td>\n",
       "      <td>0.001706</td>\n",
       "      <td>0.575122</td>\n",
       "    </tr>\n",
       "    <tr>\n",
       "      <th>24</th>\n",
       "      <td>0.553196</td>\n",
       "      <td>0.001705</td>\n",
       "      <td>0.575113</td>\n",
       "    </tr>\n",
       "    <tr>\n",
       "      <th>25</th>\n",
       "      <td>0.557103</td>\n",
       "      <td>0.001705</td>\n",
       "      <td>0.575115</td>\n",
       "    </tr>\n",
       "    <tr>\n",
       "      <th>26</th>\n",
       "      <td>0.554794</td>\n",
       "      <td>0.001705</td>\n",
       "      <td>0.575115</td>\n",
       "    </tr>\n",
       "    <tr>\n",
       "      <th>27</th>\n",
       "      <td>0.551362</td>\n",
       "      <td>0.001706</td>\n",
       "      <td>0.575122</td>\n",
       "    </tr>\n",
       "    <tr>\n",
       "      <th>28</th>\n",
       "      <td>0.553738</td>\n",
       "      <td>0.001706</td>\n",
       "      <td>0.575123</td>\n",
       "    </tr>\n",
       "    <tr>\n",
       "      <th>29</th>\n",
       "      <td>0.550705</td>\n",
       "      <td>0.001706</td>\n",
       "      <td>0.575125</td>\n",
       "    </tr>\n",
       "    <tr>\n",
       "      <th>...</th>\n",
       "      <td>...</td>\n",
       "      <td>...</td>\n",
       "      <td>...</td>\n",
       "    </tr>\n",
       "    <tr>\n",
       "      <th>166815</th>\n",
       "      <td>0.556387</td>\n",
       "      <td>0.001709</td>\n",
       "      <td>0.575157</td>\n",
       "    </tr>\n",
       "    <tr>\n",
       "      <th>166816</th>\n",
       "      <td>0.554382</td>\n",
       "      <td>0.001709</td>\n",
       "      <td>0.575157</td>\n",
       "    </tr>\n",
       "    <tr>\n",
       "      <th>166817</th>\n",
       "      <td>0.553897</td>\n",
       "      <td>0.001709</td>\n",
       "      <td>0.575157</td>\n",
       "    </tr>\n",
       "    <tr>\n",
       "      <th>166818</th>\n",
       "      <td>0.555051</td>\n",
       "      <td>0.001709</td>\n",
       "      <td>0.575157</td>\n",
       "    </tr>\n",
       "    <tr>\n",
       "      <th>166819</th>\n",
       "      <td>0.551810</td>\n",
       "      <td>0.001709</td>\n",
       "      <td>0.575157</td>\n",
       "    </tr>\n",
       "    <tr>\n",
       "      <th>166820</th>\n",
       "      <td>0.554432</td>\n",
       "      <td>0.001709</td>\n",
       "      <td>0.575157</td>\n",
       "    </tr>\n",
       "    <tr>\n",
       "      <th>166821</th>\n",
       "      <td>0.555379</td>\n",
       "      <td>0.001709</td>\n",
       "      <td>0.575157</td>\n",
       "    </tr>\n",
       "    <tr>\n",
       "      <th>166822</th>\n",
       "      <td>0.550321</td>\n",
       "      <td>0.001709</td>\n",
       "      <td>0.575157</td>\n",
       "    </tr>\n",
       "    <tr>\n",
       "      <th>166823</th>\n",
       "      <td>0.548529</td>\n",
       "      <td>0.001709</td>\n",
       "      <td>0.575157</td>\n",
       "    </tr>\n",
       "    <tr>\n",
       "      <th>166824</th>\n",
       "      <td>0.553550</td>\n",
       "      <td>0.001709</td>\n",
       "      <td>0.575157</td>\n",
       "    </tr>\n",
       "    <tr>\n",
       "      <th>166825</th>\n",
       "      <td>0.557194</td>\n",
       "      <td>0.001709</td>\n",
       "      <td>0.575157</td>\n",
       "    </tr>\n",
       "    <tr>\n",
       "      <th>166826</th>\n",
       "      <td>0.553481</td>\n",
       "      <td>0.001709</td>\n",
       "      <td>0.575157</td>\n",
       "    </tr>\n",
       "    <tr>\n",
       "      <th>166827</th>\n",
       "      <td>0.551531</td>\n",
       "      <td>0.001709</td>\n",
       "      <td>0.575157</td>\n",
       "    </tr>\n",
       "    <tr>\n",
       "      <th>166828</th>\n",
       "      <td>0.554495</td>\n",
       "      <td>0.001709</td>\n",
       "      <td>0.575157</td>\n",
       "    </tr>\n",
       "    <tr>\n",
       "      <th>166829</th>\n",
       "      <td>0.558214</td>\n",
       "      <td>0.001709</td>\n",
       "      <td>0.575157</td>\n",
       "    </tr>\n",
       "    <tr>\n",
       "      <th>166830</th>\n",
       "      <td>0.557035</td>\n",
       "      <td>0.001709</td>\n",
       "      <td>0.575157</td>\n",
       "    </tr>\n",
       "    <tr>\n",
       "      <th>166831</th>\n",
       "      <td>0.555874</td>\n",
       "      <td>0.001709</td>\n",
       "      <td>0.575157</td>\n",
       "    </tr>\n",
       "    <tr>\n",
       "      <th>166832</th>\n",
       "      <td>0.557332</td>\n",
       "      <td>0.001709</td>\n",
       "      <td>0.575157</td>\n",
       "    </tr>\n",
       "    <tr>\n",
       "      <th>166833</th>\n",
       "      <td>0.551508</td>\n",
       "      <td>0.001709</td>\n",
       "      <td>0.575157</td>\n",
       "    </tr>\n",
       "    <tr>\n",
       "      <th>166834</th>\n",
       "      <td>0.553945</td>\n",
       "      <td>0.001709</td>\n",
       "      <td>0.575157</td>\n",
       "    </tr>\n",
       "    <tr>\n",
       "      <th>166835</th>\n",
       "      <td>0.556299</td>\n",
       "      <td>0.001709</td>\n",
       "      <td>0.575157</td>\n",
       "    </tr>\n",
       "    <tr>\n",
       "      <th>166836</th>\n",
       "      <td>0.556421</td>\n",
       "      <td>0.001709</td>\n",
       "      <td>0.575157</td>\n",
       "    </tr>\n",
       "    <tr>\n",
       "      <th>166837</th>\n",
       "      <td>0.559424</td>\n",
       "      <td>0.001709</td>\n",
       "      <td>0.575157</td>\n",
       "    </tr>\n",
       "    <tr>\n",
       "      <th>166838</th>\n",
       "      <td>0.564081</td>\n",
       "      <td>0.001709</td>\n",
       "      <td>0.575157</td>\n",
       "    </tr>\n",
       "    <tr>\n",
       "      <th>166839</th>\n",
       "      <td>0.557668</td>\n",
       "      <td>0.001709</td>\n",
       "      <td>0.575157</td>\n",
       "    </tr>\n",
       "    <tr>\n",
       "      <th>166840</th>\n",
       "      <td>0.556037</td>\n",
       "      <td>0.001709</td>\n",
       "      <td>0.575157</td>\n",
       "    </tr>\n",
       "    <tr>\n",
       "      <th>166841</th>\n",
       "      <td>0.550313</td>\n",
       "      <td>0.001709</td>\n",
       "      <td>0.575157</td>\n",
       "    </tr>\n",
       "    <tr>\n",
       "      <th>166842</th>\n",
       "      <td>0.549764</td>\n",
       "      <td>0.001709</td>\n",
       "      <td>0.575157</td>\n",
       "    </tr>\n",
       "    <tr>\n",
       "      <th>166843</th>\n",
       "      <td>0.559085</td>\n",
       "      <td>0.001709</td>\n",
       "      <td>0.575157</td>\n",
       "    </tr>\n",
       "    <tr>\n",
       "      <th>166844</th>\n",
       "      <td>0.555023</td>\n",
       "      <td>0.001709</td>\n",
       "      <td>0.575157</td>\n",
       "    </tr>\n",
       "  </tbody>\n",
       "</table>\n",
       "<p>166845 rows × 3 columns</p>\n",
       "</div>"
      ],
      "text/plain": [
       "               0   predict  predict_scaled\n",
       "0       0.571092  0.000436        0.560160\n",
       "1       0.548666  0.000933        0.566012\n",
       "2       0.548693  0.001324        0.570617\n",
       "3       0.563428  0.001588        0.573730\n",
       "4       0.555037  0.001707        0.575134\n",
       "5       0.552425  0.001707        0.575130\n",
       "6       0.550357  0.001704        0.575102\n",
       "7       0.536375  0.001704        0.575101\n",
       "8       0.532962  0.001700        0.575048\n",
       "9       0.535060  0.001696        0.575000\n",
       "10      0.549666  0.001696        0.575000\n",
       "11      0.559384  0.001696        0.575010\n",
       "12      0.539749  0.001699        0.575041\n",
       "13      0.546030  0.001700        0.575046\n",
       "14      0.530955  0.001700        0.575054\n",
       "15      0.539651  0.001421        0.571759\n",
       "16      0.559046  0.001528        0.573027\n",
       "17      0.563766  0.001615        0.574051\n",
       "18      0.562418  0.001676        0.574772\n",
       "19      0.540597  0.001705        0.575114\n",
       "20      0.559732  0.001706        0.575118\n",
       "21      0.553867  0.001707        0.575131\n",
       "22      0.552725  0.001707        0.575134\n",
       "23      0.554545  0.001706        0.575122\n",
       "24      0.553196  0.001705        0.575113\n",
       "25      0.557103  0.001705        0.575115\n",
       "26      0.554794  0.001705        0.575115\n",
       "27      0.551362  0.001706        0.575122\n",
       "28      0.553738  0.001706        0.575123\n",
       "29      0.550705  0.001706        0.575125\n",
       "...          ...       ...             ...\n",
       "166815  0.556387  0.001709        0.575157\n",
       "166816  0.554382  0.001709        0.575157\n",
       "166817  0.553897  0.001709        0.575157\n",
       "166818  0.555051  0.001709        0.575157\n",
       "166819  0.551810  0.001709        0.575157\n",
       "166820  0.554432  0.001709        0.575157\n",
       "166821  0.555379  0.001709        0.575157\n",
       "166822  0.550321  0.001709        0.575157\n",
       "166823  0.548529  0.001709        0.575157\n",
       "166824  0.553550  0.001709        0.575157\n",
       "166825  0.557194  0.001709        0.575157\n",
       "166826  0.553481  0.001709        0.575157\n",
       "166827  0.551531  0.001709        0.575157\n",
       "166828  0.554495  0.001709        0.575157\n",
       "166829  0.558214  0.001709        0.575157\n",
       "166830  0.557035  0.001709        0.575157\n",
       "166831  0.555874  0.001709        0.575157\n",
       "166832  0.557332  0.001709        0.575157\n",
       "166833  0.551508  0.001709        0.575157\n",
       "166834  0.553945  0.001709        0.575157\n",
       "166835  0.556299  0.001709        0.575157\n",
       "166836  0.556421  0.001709        0.575157\n",
       "166837  0.559424  0.001709        0.575157\n",
       "166838  0.564081  0.001709        0.575157\n",
       "166839  0.557668  0.001709        0.575157\n",
       "166840  0.556037  0.001709        0.575157\n",
       "166841  0.550313  0.001709        0.575157\n",
       "166842  0.549764  0.001709        0.575157\n",
       "166843  0.559085  0.001709        0.575157\n",
       "166844  0.555023  0.001709        0.575157\n",
       "\n",
       "[166845 rows x 3 columns]"
      ]
     },
     "execution_count": 56,
     "metadata": {},
     "output_type": "execute_result"
    }
   ],
   "source": [
    "y_test"
   ]
  }
 ],
 "metadata": {
  "kernelspec": {
   "display_name": "Python 3",
   "language": "python",
   "name": "python3"
  },
  "language_info": {
   "codemirror_mode": {
    "name": "ipython",
    "version": 3
   },
   "file_extension": ".py",
   "mimetype": "text/x-python",
   "name": "python",
   "nbconvert_exporter": "python",
   "pygments_lexer": "ipython3",
   "version": "3.6.1"
  }
 },
 "nbformat": 4,
 "nbformat_minor": 2
}

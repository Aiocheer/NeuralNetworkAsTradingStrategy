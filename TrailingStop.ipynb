{
 "cells": [
  {
   "cell_type": "code",
   "execution_count": 1,
   "metadata": {
    "collapsed": true
   },
   "outputs": [],
   "source": [
    "import warnings\n",
    "warnings.filterwarnings('ignore')\n",
    "import pandas as pd\n",
    "import numpy as np\n",
    "from matplotlib import pyplot\n",
    "from math import sqrt\n",
    "from pytz import timezone"
   ]
  },
  {
   "cell_type": "code",
   "execution_count": 2,
   "metadata": {},
   "outputs": [
    {
     "name": "stderr",
     "output_type": "stream",
     "text": [
      "Using TensorFlow backend.\n"
     ]
    }
   ],
   "source": [
    "from sklearn.metrics import mean_squared_error\n",
    "from sklearn.preprocessing import MinMaxScaler, Normalizer, RobustScaler, StandardScaler\n",
    "from sklearn.model_selection import train_test_split\n",
    "from keras.models import Sequential\n",
    "from keras.layers import Dense\n",
    "from keras.layers import LSTM\n",
    "from keras.layers import Activation\n",
    "from keras.layers import Conv1D\n",
    "from keras import optimizers\n",
    "from keras.utils.np_utils import to_categorical"
   ]
  },
  {
   "cell_type": "code",
   "execution_count": 3,
   "metadata": {
    "collapsed": true
   },
   "outputs": [],
   "source": [
    "# Fix the random seed to reproducibility\n",
    "np.random.seed(7)"
   ]
  },
  {
   "cell_type": "code",
   "execution_count": 4,
   "metadata": {
    "collapsed": true
   },
   "outputs": [],
   "source": [
    "import dovahkiin as dk\n",
    "from dovahkiin.strategy import StrategyBase\n",
    "from dovahkiin.feature.Amibroker import *\n",
    "from dovahkiin.feature.StrategyUtility import *\n",
    "from dovahkiin.OptimizeParam import OptimizeParam\n",
    "\n",
    "\n",
    "class CrossOver(StrategyBase):\n",
    "\n",
    "    \"\"\"\n",
    "    样本策略，均线交叉\n",
    "    \"\"\"\n",
    "\n",
    "    params = {}\n",
    "    params[\"stop_ratio\"] = OptimizeParam(\"stop\", 9.7, 0.1, 12, 0.1)\n",
    "    params[\"short_ratio\"] = OptimizeParam(\"shortPeriod\", 0.19, 0.1, 0.5, 0.01)\n",
    "    params[\"longPeriod\"] = OptimizeParam(\"longPeriod\", 24, 20, 60, 1)\n",
    "    params[\"threshold_multiplier\"] = OptimizeParam(\"threshold_multiplier\", 1.1, 0.1, 4, 0.1)\n",
    "    params[\"linreg_lookback\"] = OptimizeParam(\"linreg_lookback\", 46, 10, 60, 1)\n",
    "    params[\"linreg_slope_coeff\"] = OptimizeParam(\"slope coeff\", 0.15, 0.05, 0.5, 0.05)\n",
    "    params[\"cond3_coeff\"] = OptimizeParam(\"cond3_coeff\", 1.75, 1, 4, 0.25)\n",
    "\n",
    "\n",
    "    def __init__(self, dataframe, params=None):\n",
    "        super().__init__(dataframe, params)\n",
    "\n",
    "    def strategy(self):\n",
    "\n",
    "        \"\"\"\n",
    "        策略的逻辑\n",
    "        \"\"\"\n",
    "\n",
    "        recentATR = ATR(self.C, self.H, self.L, 100, False)\n",
    "        threshold = self.optimize(\"threshold_multiplier\") * recentATR\n",
    "        linreg_slope_coeff = self.optimize(\"linreg_slope_coeff\")\n",
    "        linreg_lookback = int(self.optimize(\"linreg_lookback\"))\n",
    "        long_period = int(self.optimize(\"longPeriod\"))\n",
    "\n",
    "        short_period = int(self.optimize(\"short_ratio\") * long_period)\n",
    "        short_line = MA(self.C, short_period)\n",
    "        long_line = MA(self.C, self.optimize(\"longPeriod\"))\n",
    "        \n",
    "        print(\"short period\", short_period)\n",
    "        print(\"linreg lookback\", linreg_lookback)\n",
    "        print(\"long period\", long_period)\n",
    "\n",
    "        close_slope = LinRegSlope(self.C, short_period)\n",
    "        short_slope = LinRegSlope(short_line, linreg_lookback)\n",
    "\n",
    "        # Long logic\n",
    "        bcond1_1 = (self.C > long_line) & (self.C > short_line)\n",
    "        bcond1_2 = long_line < short_line\n",
    "        bcond1_3 = abs(short_line - long_line) > threshold\n",
    "        bcond1 = bcond1_1 & bcond1_2 & bcond1_3\n",
    "        bcond2 = LinRegSlope(self.C, short_period) > linreg_slope_coeff * self.optimize(\"cond3_coeff\") * recentATR\n",
    "        bcond3 = short_slope > linreg_slope_coeff * recentATR\n",
    "        BSIG = bcond1 & bcond2 & bcond3\n",
    "\n",
    "        # Short logic\n",
    "        scond1_1 = (self.C < long_line) & (self.C < short_line)\n",
    "        scond1_2 = long_line > short_line\n",
    "        scond1_3 = abs(short_line - long_line) > threshold\n",
    "        scond1 = scond1_1 & scond1_2 & scond1_3\n",
    "        scond2 = LinRegSlope(self.C, short_period) < (-1) * linreg_slope_coeff * self.optimize(\"cond3_coeff\") * recentATR\n",
    "        scond3 = short_slope < (-1) * linreg_slope_coeff * recentATR\n",
    "        SSIG = scond1 & scond2 & scond3\n",
    "\n",
    "        self.BUY = BSIG\n",
    "        self.SHORT = SSIG\n",
    "        \n",
    "        self.SELL = self.COVER = (self.C==0).astype(int)\n",
    "        \n",
    "        sigs = MoveStop(self.C, self.BUY, self.SHORT, self.C==0 , 100)\n",
    "        return sigs.values    "
   ]
  },
  {
   "cell_type": "code",
   "execution_count": 5,
   "metadata": {
    "collapsed": true
   },
   "outputs": [],
   "source": [
    "dp = dk.DataParser()\n",
    "dataframe = dp.get_data(\"cu\")"
   ]
  },
  {
   "cell_type": "code",
   "execution_count": null,
   "metadata": {
    "collapsed": true
   },
   "outputs": [],
   "source": []
  },
  {
   "cell_type": "code",
   "execution_count": 6,
   "metadata": {
    "collapsed": true
   },
   "outputs": [],
   "source": [
    "strategy = CrossOver(dataframe)"
   ]
  },
  {
   "cell_type": "code",
   "execution_count": 7,
   "metadata": {},
   "outputs": [
    {
     "name": "stdout",
     "output_type": "stream",
     "text": [
      "short period 4\n",
      "linreg lookback 46\n",
      "long period 24\n"
     ]
    }
   ],
   "source": [
    "sigs = strategy.strategy();"
   ]
  },
  {
   "cell_type": "code",
   "execution_count": 8,
   "metadata": {
    "collapsed": true
   },
   "outputs": [],
   "source": [
    "dataframe[\"buy\"] = strategy.BUY.values.astype(int)\n",
    "dataframe[\"short\"] = strategy.SHORT.values.astype(int)\n",
    "y = sigs.values"
   ]
  },
  {
   "cell_type": "code",
   "execution_count": 9,
   "metadata": {
    "collapsed": true
   },
   "outputs": [],
   "source": [
    "y = y.astype(int)"
   ]
  },
  {
   "cell_type": "code",
   "execution_count": 10,
   "metadata": {
    "collapsed": true
   },
   "outputs": [],
   "source": [
    "del dataframe[\"open\"]\n",
    "del dataframe[\"high\"]\n",
    "del dataframe[\"low\"]\n",
    "del dataframe[\"volume\"]\n",
    "del dataframe[\"openint\"]"
   ]
  },
  {
   "cell_type": "code",
   "execution_count": 11,
   "metadata": {
    "collapsed": true
   },
   "outputs": [],
   "source": [
    "X = dataframe.values"
   ]
  },
  {
   "cell_type": "code",
   "execution_count": 12,
   "metadata": {
    "collapsed": true
   },
   "outputs": [],
   "source": [
    "def FullyConnected_Model():\n",
    "    model = Sequential()\n",
    "    model.add(Dense(128, input_shape=(3,), activation=\"relu\"))\n",
    "    model.add(Dense(128, input_shape=(3,), activation=\"relu\"))\n",
    "    model.add(Dense(128, input_shape=(3,), activation=\"relu\"))\n",
    "#     model.add(Dense(128, input_shape=(3,), activation=\"relu\"))\n",
    "#     model.add(Dense(128, input_shape=(3,), activation=\"relu\"))\n",
    "#     model.add(Dense(128, input_shape=(3,), activation=\"relu\"))\n",
    "#     model.add(Dense(128, input_shape=(3,), activation=\"relu\"))\n",
    "#     model.add(Dense(128, input_shape=(3,), activation=\"relu\"))\n",
    "    # model.add(Dense(64, activation='relu'))\n",
    "    # model.add(Dense(32, activation='relu'))\n",
    "    model.add(Dense(3, activation=\"softmax\"))\n",
    "    return model"
   ]
  },
  {
   "cell_type": "code",
   "execution_count": 13,
   "metadata": {
    "collapsed": true
   },
   "outputs": [],
   "source": [
    "def non_shuffling_train_test_split(X, y, test_size=0.2):\n",
    "    i = int((1 - test_size) * X.shape[0]) + 1\n",
    "    X_train, X_test = np.split(X, [i])\n",
    "    y_train, y_test = np.split(y, [i])\n",
    "    return X_train, X_test, y_train, y_test"
   ]
  },
  {
   "cell_type": "code",
   "execution_count": 14,
   "metadata": {
    "collapsed": true
   },
   "outputs": [],
   "source": [
    "X_train, X_test, y_train, y_test = non_shuffling_train_test_split(X, y, test_size=0.3)"
   ]
  },
  {
   "cell_type": "code",
   "execution_count": 15,
   "metadata": {
    "collapsed": true
   },
   "outputs": [],
   "source": [
    "y_train_category = to_categorical(y_train, num_classes=3)"
   ]
  },
  {
   "cell_type": "code",
   "execution_count": 16,
   "metadata": {
    "collapsed": true
   },
   "outputs": [],
   "source": [
    "y_test_category = to_categorical(y_test, num_classes=3)"
   ]
  },
  {
   "cell_type": "code",
   "execution_count": 17,
   "metadata": {
    "collapsed": true
   },
   "outputs": [],
   "source": [
    "adam = optimizers.adam(lr=1e-9)\n",
    "sgd = optimizers.SGD(lr=1e-9, decay=1e-9, momentum=0.9, nesterov=True, clipnorm=1.)\n",
    "model = FullyConnected_Model()\n",
    "# model.compile(loss=\"mse\", optimizer=adam, metrics=[\"accuracy\"])\n",
    "model.compile(loss=\"categorical_crossentropy\", optimizer=adam, metrics=[ 'accuracy'])"
   ]
  },
  {
   "cell_type": "code",
   "execution_count": 18,
   "metadata": {
    "collapsed": true
   },
   "outputs": [],
   "source": [
    "batch_size = 10"
   ]
  },
  {
   "cell_type": "code",
   "execution_count": 19,
   "metadata": {
    "collapsed": true
   },
   "outputs": [],
   "source": [
    "def trainFullyConnected_network():\n",
    "    num_epochs = 1\n",
    "    for i in range(num_epochs):\n",
    "        model.fit(\n",
    "            np.nan_to_num(X_train),\n",
    "            np.nan_to_num(y_train_category),\n",
    "            epochs=10,\n",
    "            batch_size=batch_size,\n",
    "            verbose=1,\n",
    "            shuffle=False,\n",
    "            validation_split=0.2\n",
    "        )\n",
    "        \n",
    "    return model"
   ]
  },
  {
   "cell_type": "code",
   "execution_count": 20,
   "metadata": {},
   "outputs": [
    {
     "name": "stdout",
     "output_type": "stream",
     "text": [
      "Train on 536836 samples, validate on 134209 samples\n",
      "Epoch 1/10\n",
      "536836/536836 [==============================] - 109s - loss: 3.4472 - acc: 0.7861 - val_loss: 3.5973 - val_acc: 0.7768\n",
      "Epoch 2/10\n",
      "536836/536836 [==============================] - 111s - loss: 3.4472 - acc: 0.7861 - val_loss: 3.5973 - val_acc: 0.7768\n",
      "Epoch 3/10\n",
      "536836/536836 [==============================] - 109s - loss: 3.4472 - acc: 0.7861 - val_loss: 3.5973 - val_acc: 0.7768\n",
      "Epoch 4/10\n",
      "536836/536836 [==============================] - 109s - loss: 3.4472 - acc: 0.7861 - val_loss: 3.5973 - val_acc: 0.7768\n",
      "Epoch 5/10\n",
      "536836/536836 [==============================] - 104s - loss: 3.4472 - acc: 0.7861 - val_loss: 3.5973 - val_acc: 0.7768\n",
      "Epoch 6/10\n",
      "536836/536836 [==============================] - 102s - loss: 3.4472 - acc: 0.7861 - val_loss: 3.5973 - val_acc: 0.7768\n",
      "Epoch 7/10\n",
      "536836/536836 [==============================] - 106s - loss: 3.4472 - acc: 0.7861 - val_loss: 3.5973 - val_acc: 0.7768\n",
      "Epoch 8/10\n",
      "536836/536836 [==============================] - 109s - loss: 3.4472 - acc: 0.7861 - val_loss: 3.5973 - val_acc: 0.7768\n",
      "Epoch 9/10\n",
      "536836/536836 [==============================] - 109s - loss: 3.4472 - acc: 0.7861 - val_loss: 3.5973 - val_acc: 0.7768\n",
      "Epoch 10/10\n",
      "536836/536836 [==============================] - 116s - loss: 3.4472 - acc: 0.7861 - val_loss: 3.5973 - val_acc: 0.7768\n"
     ]
    }
   ],
   "source": [
    "model = trainFullyConnected_network()"
   ]
  },
  {
   "cell_type": "code",
   "execution_count": 21,
   "metadata": {},
   "outputs": [
    {
     "name": "stdout",
     "output_type": "stream",
     "text": [
      "286624/287590 [============================>.] - ETA: 0s"
     ]
    },
    {
     "data": {
      "text/plain": [
       "[3.3684404663152723, 0.79101498661288638]"
      ]
     },
     "execution_count": 21,
     "metadata": {},
     "output_type": "execute_result"
    }
   ],
   "source": [
    "model.evaluate(X_test, y_test_category)"
   ]
  },
  {
   "cell_type": "code",
   "execution_count": null,
   "metadata": {
    "collapsed": true
   },
   "outputs": [],
   "source": []
  },
  {
   "cell_type": "code",
   "execution_count": null,
   "metadata": {
    "collapsed": true
   },
   "outputs": [],
   "source": []
  },
  {
   "cell_type": "markdown",
   "metadata": {},
   "source": [
    "### LSTM Approach"
   ]
  },
  {
   "cell_type": "code",
   "execution_count": 22,
   "metadata": {
    "collapsed": true
   },
   "outputs": [],
   "source": [
    "lag=100\n",
    "time_series_step = lag"
   ]
  },
  {
   "cell_type": "code",
   "execution_count": 23,
   "metadata": {
    "collapsed": true
   },
   "outputs": [],
   "source": [
    "def timeseries_to_supervised(raw_time_series, lag):\n",
    "    p = {}\n",
    "    for i in range(1, lag+1):\n",
    "        p[\"{}\".format(i)] = raw_time_series.shift(i).fillna(0)\n",
    "    p[\"0\"] = raw_time_series\n",
    "    \n",
    "    if type(raw_time_series) is pd.Series:\n",
    "        supervised_data = pd.DataFrame(p)\n",
    "        supervised_data = pd.Panel({\"0\": supervised_data})\n",
    "        supervised_data = supervised_data.swapaxes(0, 1).swapaxes(1, 2)\n",
    "    else:\n",
    "        supervised_data = pd.Panel(p)\n",
    "    return supervised_data"
   ]
  },
  {
   "cell_type": "code",
   "execution_count": 24,
   "metadata": {
    "collapsed": true
   },
   "outputs": [],
   "source": [
    "X = pd.DataFrame(dataframe[\"close\"])\n",
    "X = timeseries_to_supervised(X, lag=lag)\n",
    "X = X.swapaxes(0, 1)"
   ]
  },
  {
   "cell_type": "code",
   "execution_count": 25,
   "metadata": {
    "collapsed": true
   },
   "outputs": [],
   "source": [
    "supervised_X = X.fillna(0)\n",
    "supervised_X_values = supervised_X.values"
   ]
  },
  {
   "cell_type": "code",
   "execution_count": 26,
   "metadata": {},
   "outputs": [
    {
     "data": {
      "text/plain": [
       "(958000, 101, 1)"
      ]
     },
     "execution_count": 26,
     "metadata": {},
     "output_type": "execute_result"
    }
   ],
   "source": [
    "supervised_X_values[635:].shape"
   ]
  },
  {
   "cell_type": "code",
   "execution_count": null,
   "metadata": {
    "collapsed": true
   },
   "outputs": [],
   "source": []
  },
  {
   "cell_type": "code",
   "execution_count": 27,
   "metadata": {
    "collapsed": true
   },
   "outputs": [],
   "source": [
    "y_test_category = to_categorical(y, num_classes=3)"
   ]
  },
  {
   "cell_type": "code",
   "execution_count": 28,
   "metadata": {},
   "outputs": [
    {
     "data": {
      "text/plain": [
       "(958000, 3)"
      ]
     },
     "execution_count": 28,
     "metadata": {},
     "output_type": "execute_result"
    }
   ],
   "source": [
    "y_test_category[635:].shape"
   ]
  },
  {
   "cell_type": "code",
   "execution_count": 29,
   "metadata": {
    "collapsed": true
   },
   "outputs": [],
   "source": [
    "supervised_X_values = supervised_X_values[635:]\n",
    "y_test_category = y_test_category[635:]"
   ]
  },
  {
   "cell_type": "code",
   "execution_count": 30,
   "metadata": {
    "collapsed": true
   },
   "outputs": [],
   "source": [
    "batch_size=1000\n",
    "features=1"
   ]
  },
  {
   "cell_type": "code",
   "execution_count": 31,
   "metadata": {
    "collapsed": true
   },
   "outputs": [],
   "source": [
    "def LSTM_Model(lstm_layers=None, dense_layers=None):\n",
    "    model = Sequential()\n",
    "    \n",
    "    if lstm_layers:\n",
    "        for i in range(lstm_layers):\n",
    "            model.add(\n",
    "                LSTM(128, batch_input_shape=(batch_size, time_series_step+1, features), stateful=True, \n",
    "                 return_sequences=True, \n",
    "                 activation=\"relu\"))\n",
    "        model.add(LSTM(32, activation=\"relu\", stateful=True))\n",
    "    else:\n",
    "        model.add(\n",
    "            LSTM(128, batch_input_shape=(batch_size, time_series_step+1, features), stateful=True, \n",
    "             return_sequences=True, \n",
    "             activation=\"relu\"\n",
    "            ))\n",
    "        model.add(LSTM(32, activation=\"relu\", stateful=True))\n",
    "        \n",
    "    if dense_layers:\n",
    "        for i in range(dense_layers):\n",
    "            model.add(Dense(128, activation=\"sigmoid\"))\n",
    "        model.add(Dense(3))\n",
    "    else:\n",
    "        # model.add(Dense(128))\n",
    "        model.add(Dense(3))\n",
    "    \n",
    "    return model"
   ]
  },
  {
   "cell_type": "code",
   "execution_count": 32,
   "metadata": {
    "collapsed": true
   },
   "outputs": [],
   "source": [
    "adam = optimizers.adam(lr=1e-9, clipnorm=1.)"
   ]
  },
  {
   "cell_type": "code",
   "execution_count": 33,
   "metadata": {
    "collapsed": true
   },
   "outputs": [],
   "source": [
    "def trainLSTM_network():   \n",
    "    model = LSTM_Model(6, 0)\n",
    "    model.compile(loss=\"categorical_crossentropy\", optimizer=adam, metrics=[ 'accuracy'])\n",
    "    \n",
    "    num_epochs = 1\n",
    "    for i in range(num_epochs):\n",
    "        model.fit(\n",
    "            np.nan_to_num(supervised_X_values),\n",
    "            np.nan_to_num(y_test_category),\n",
    "            epochs=1,\n",
    "            batch_size=batch_size,\n",
    "            verbose=1,\n",
    "            shuffle=False,\n",
    "            validation_split=0.2\n",
    "        )\n",
    "    return model"
   ]
  },
  {
   "cell_type": "code",
   "execution_count": 34,
   "metadata": {},
   "outputs": [
    {
     "data": {
      "text/plain": [
       "(958000, 101, 1)"
      ]
     },
     "execution_count": 34,
     "metadata": {},
     "output_type": "execute_result"
    }
   ],
   "source": [
    "supervised_X_values.shape"
   ]
  },
  {
   "cell_type": "code",
   "execution_count": 35,
   "metadata": {},
   "outputs": [
    {
     "data": {
      "text/plain": [
       "1"
      ]
     },
     "execution_count": 35,
     "metadata": {},
     "output_type": "execute_result"
    }
   ],
   "source": [
    "y.max()"
   ]
  },
  {
   "cell_type": "code",
   "execution_count": null,
   "metadata": {},
   "outputs": [],
   "source": [
    "model = trainLSTM_network()"
   ]
  },
  {
   "cell_type": "code",
   "execution_count": null,
   "metadata": {
    "collapsed": true
   },
   "outputs": [],
   "source": []
  },
  {
   "cell_type": "code",
   "execution_count": null,
   "metadata": {
    "collapsed": true
   },
   "outputs": [],
   "source": []
  }
 ],
 "metadata": {
  "kernelspec": {
   "display_name": "Python 3",
   "language": "python",
   "name": "python3"
  },
  "language_info": {
   "codemirror_mode": {
    "name": "ipython",
    "version": 3
   },
   "file_extension": ".py",
   "mimetype": "text/x-python",
   "name": "python",
   "nbconvert_exporter": "python",
   "pygments_lexer": "ipython3",
   "version": "3.6.1"
  }
 },
 "nbformat": 4,
 "nbformat_minor": 2
}

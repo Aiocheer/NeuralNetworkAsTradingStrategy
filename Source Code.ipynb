{
 "cells": [
  {
   "cell_type": "code",
   "execution_count": 2,
   "metadata": {},
   "outputs": [
    {
     "name": "stderr",
     "output_type": "stream",
     "text": [
      "Using TensorFlow backend.\n"
     ]
    }
   ],
   "source": [
    "import warnings\n",
    "warnings.filterwarnings('ignore')\n",
    "import pandas as pd\n",
    "import numpy as np\n",
    "from matplotlib import pyplot as plt\n",
    "from math import sqrt\n",
    "from pytz import timezone\n",
    "import statsmodels.api as sm\n",
    "\n",
    "from sklearn.metrics import mean_squared_error\n",
    "from sklearn.preprocessing import MinMaxScaler, Normalizer, StandardScaler\n",
    "from sklearn.model_selection import train_test_split\n",
    "from keras.models import Sequential\n",
    "from keras.layers import Dense\n",
    "from keras.layers import LSTM\n",
    "from keras.layers import Activation\n",
    "from keras.layers import TimeDistributed\n",
    "from keras.utils.np_utils import to_categorical\n",
    "from keras import optimizers\n",
    "import dovahkiin as dk"
   ]
  },
  {
   "cell_type": "code",
   "execution_count": 3,
   "metadata": {
    "collapsed": true
   },
   "outputs": [],
   "source": [
    "# Set a random seed to reproduce\n",
    "np.random.seed(7)"
   ]
  },
  {
   "cell_type": "code",
   "execution_count": 4,
   "metadata": {
    "collapsed": true
   },
   "outputs": [],
   "source": [
    "# Define Constatnts\n",
    "prediction_length = 8\n",
    "batch_size = 1\n",
    "time_series_step = 32\n",
    "features = 1"
   ]
  },
  {
   "cell_type": "code",
   "execution_count": 5,
   "metadata": {
    "collapsed": true
   },
   "outputs": [],
   "source": [
    "# Retrieve data source\n",
    "dp = dk.DataParser()"
   ]
  },
  {
   "cell_type": "code",
   "execution_count": 6,
   "metadata": {
    "collapsed": true
   },
   "outputs": [],
   "source": [
    "X = dp.get_data(\"cu\", split_threshold=1)"
   ]
  },
  {
   "cell_type": "code",
   "execution_count": 7,
   "metadata": {},
   "outputs": [],
   "source": [
    "time_intervals = [\"1T\", \"5T\", \"10T\", \"30T\", \"1H\", \"D\", \"W\", \"M\"]"
   ]
  },
  {
   "cell_type": "code",
   "execution_count": 8,
   "metadata": {},
   "outputs": [],
   "source": [
    "sgd = optimizers.SGD(lr=1e-8, decay=1e-9, momentum=0.9, nesterov=True, clipnorm=0.5)\n",
    "adam = optimizers.Adam(lr=1e-4, clipnorm=1)\n",
    "rmsprop = optimizers.rmsprop(lr=1e-4, decay=1e-8, clipnorm=1)\n",
    "optimizer_list = [sgd, adam, rmsprop]"
   ]
  },
  {
   "cell_type": "code",
   "execution_count": 9,
   "metadata": {},
   "outputs": [],
   "source": [
    "X = dp.get_data(\"cu\", split_threshold=\"D\")\n",
    "X = pd.DataFrame((X[\"open\"] + X[\"high\"] + X[\"low\"] + X[\"close\"])/4, columns=[\"AvgPrice\"])\n",
    "res = sm.tsa.seasonal_decompose(X, model=\"additive\", freq=(prediction_length - 1)*2, two_sided=True)\n",
    "trend = res.trend.dropna()\n",
    "noise = res.resid.dropna()\n",
    "seasonal = res.seasonal.dropna()\n",
    "trend_std_scaler = StandardScaler()"
   ]
  },
  {
   "cell_type": "code",
   "execution_count": 10,
   "metadata": {},
   "outputs": [],
   "source": [
    "scaled_trend = trend_std_scaler.fit_transform(trend)\n",
    "scaled_trend = pd.DataFrame(scaled_trend, index = trend.index)"
   ]
  },
  {
   "cell_type": "markdown",
   "metadata": {},
   "source": [
    "### Data Preprocessing"
   ]
  },
  {
   "cell_type": "code",
   "execution_count": 11,
   "metadata": {},
   "outputs": [
    {
     "name": "stdout",
     "output_type": "stream",
     "text": [
      "X shape: (3515, 32, 1)\n",
      "y shape: (3515, 8)\n"
     ]
    }
   ],
   "source": [
    "def timeseries_to_supervised(raw_time_series, lag):\n",
    "    p = {}\n",
    "    for i in range(1, lag+1):\n",
    "        p[\"{}\".format(i)] = raw_time_series.shift(i).fillna(0) - raw_time_series\n",
    "    \n",
    "    supervised_data = pd.Panel(p)\n",
    "    return supervised_data\n",
    "\n",
    "def non_shuffling_train_test_split(X, y, test_size=0.2):\n",
    "    i = int((1 - test_size) * X.shape[0]) + 1\n",
    "    X_train, X_test = np.split(X, [i])\n",
    "    y_train, y_test = np.split(y, [i])\n",
    "    return X_train, X_test, y_train, y_test\n",
    "\n",
    "def create_supervised_X(raw_time_series, lag):\n",
    "    supervised_X = timeseries_to_supervised(raw_time_series, lag)\n",
    "    swaped_supervised_X = supervised_X.swapaxes(0, 1)\n",
    "    return swaped_supervised_X\n",
    "\n",
    "def create_future_y(time_series, future_steps):\n",
    "    p = pd.DataFrame(index=time_series.index)\n",
    "    for i in range(1, future_steps+1):\n",
    "        p[\"{}\".format(i)] = time_series.shift(-i).fillna(0) - time_series\n",
    "    #p[\"0\"] = raw_time_series\n",
    "    # supervised_data = pd.DataFrame(p, index=time_series.index)\n",
    "    return p\n",
    "\n",
    "supervised_X = create_supervised_X(scaled_trend, lag=time_series_step)\n",
    "supervised_X = supervised_X.fillna(0)\n",
    "supervised_X_values = supervised_X.values\n",
    "\n",
    "y = create_future_y(scaled_trend, prediction_length)\n",
    "\n",
    "print(\"X shape:\", supervised_X.shape)\n",
    "print(\"y shape:\", y.shape)"
   ]
  },
  {
   "cell_type": "code",
   "execution_count": 12,
   "metadata": {},
   "outputs": [],
   "source": [
    "assert(not (y == np.inf).any().any() or (y == -np.inf).any().any())\n",
    "assert(not ((supervised_X == np.inf).any().any().any() or (supervised_X == -np.inf).any().any().any()))"
   ]
  },
  {
   "cell_type": "code",
   "execution_count": null,
   "metadata": {
    "collapsed": true
   },
   "outputs": [],
   "source": []
  },
  {
   "cell_type": "markdown",
   "metadata": {},
   "source": [
    "### Model"
   ]
  },
  {
   "cell_type": "code",
   "execution_count": 13,
   "metadata": {
    "collapsed": true
   },
   "outputs": [],
   "source": [
    "model = Sequential()\n",
    "\n",
    "# first layer of Market2Vec\n",
    "model.add(Dense(32, \n",
    "                activation=\"softmax\",\n",
    "                batch_input_shape=(batch_size, time_series_step, 1)\n",
    "               )\n",
    "         )\n",
    "\n",
    "# MultiLayer of LSTM to learn abstraction if any\n",
    "model.add(\n",
    "    LSTM(128,\n",
    "         # batch_input_shape=(batch_size, time_series_step, features), \n",
    "         stateful=True,\n",
    "         return_sequences=True,\n",
    "         dropout=0.2\n",
    "        )\n",
    ")\n",
    "\n",
    "\n",
    "model.add(\n",
    "    LSTM(128,\n",
    "         # batch_input_shape=(batch_size, time_series_step, features), \n",
    "         stateful=True, \n",
    "         return_sequences=True,\n",
    "         dropout=0.2\n",
    "        ))\n",
    "\n",
    "model.add(\n",
    "    LSTM(128, \n",
    "         stateful=True, \n",
    "         return_sequences=True,\n",
    "         dropout=0.2\n",
    "        ))\n",
    "\n",
    "model.add(\n",
    "    LSTM(128, \n",
    "         stateful=True, \n",
    "         return_sequences=True,\n",
    "         dropout=0.2\n",
    "        ))\n",
    "\n",
    "model.add(\n",
    "    LSTM(128, \n",
    "         stateful=True, \n",
    "         return_sequences=False,\n",
    "         dropout=0.2\n",
    "        ))\n",
    "    \n",
    "# # FullyConnected Network to final output\n",
    "model.add(Dense(32, activation=\"softmax\"))\n",
    "model.add(Dense(32, activation=\"softmax\"))\n",
    "model.add(Dense(8, activation=\"linear\"))"
   ]
  },
  {
   "cell_type": "code",
   "execution_count": 14,
   "metadata": {},
   "outputs": [
    {
     "name": "stdout",
     "output_type": "stream",
     "text": [
      "_________________________________________________________________\n",
      "Layer (type)                 Output Shape              Param #   \n",
      "=================================================================\n",
      "dense_1 (Dense)              (1, 32, 32)               64        \n",
      "_________________________________________________________________\n",
      "lstm_1 (LSTM)                (1, 32, 128)              82432     \n",
      "_________________________________________________________________\n",
      "lstm_2 (LSTM)                (1, 32, 128)              131584    \n",
      "_________________________________________________________________\n",
      "lstm_3 (LSTM)                (1, 32, 128)              131584    \n",
      "_________________________________________________________________\n",
      "lstm_4 (LSTM)                (1, 32, 128)              131584    \n",
      "_________________________________________________________________\n",
      "lstm_5 (LSTM)                (1, 128)                  131584    \n",
      "_________________________________________________________________\n",
      "dense_2 (Dense)              (1, 32)                   4128      \n",
      "_________________________________________________________________\n",
      "dense_3 (Dense)              (1, 32)                   1056      \n",
      "_________________________________________________________________\n",
      "dense_4 (Dense)              (1, 8)                    264       \n",
      "=================================================================\n",
      "Total params: 614,280\n",
      "Trainable params: 614,280\n",
      "Non-trainable params: 0\n",
      "_________________________________________________________________\n"
     ]
    }
   ],
   "source": [
    "model.summary()"
   ]
  },
  {
   "cell_type": "code",
   "execution_count": 15,
   "metadata": {
    "collapsed": true
   },
   "outputs": [],
   "source": [
    "model.compile(loss=\"mse\",\n",
    "              optimizer=rmsprop)"
   ]
  },
  {
   "cell_type": "code",
   "execution_count": null,
   "metadata": {},
   "outputs": [],
   "source": []
  },
  {
   "cell_type": "markdown",
   "metadata": {},
   "source": [
    "### Training"
   ]
  },
  {
   "cell_type": "code",
   "execution_count": 18,
   "metadata": {},
   "outputs": [
    {
     "name": "stdout",
     "output_type": "stream",
     "text": [
      "Train on 2812 samples, validate on 703 samples\n",
      "Epoch 1/100\n",
      "2812/2812 [==============================] - 658s - loss: 0.0077 - val_loss: 0.0023\n",
      "Epoch 2/100\n",
      "2812/2812 [==============================] - 708s - loss: 0.0075 - val_loss: 0.0023\n",
      "Epoch 3/100\n",
      "2812/2812 [==============================] - 659s - loss: 0.0073 - val_loss: 0.0026\n",
      "Epoch 4/100\n",
      "2812/2812 [==============================] - 657s - loss: 0.0072 - val_loss: 0.0027\n",
      "Epoch 5/100\n",
      "2812/2812 [==============================] - 657s - loss: 0.0074 - val_loss: 0.0029\n",
      "Epoch 6/100\n",
      "2812/2812 [==============================] - 657s - loss: 0.0071 - val_loss: 0.0041\n",
      "Epoch 7/100\n",
      "2812/2812 [==============================] - 657s - loss: 0.0068 - val_loss: 0.0029\n",
      "Epoch 8/100\n",
      "2812/2812 [==============================] - 658s - loss: 0.0067 - val_loss: 0.0036\n",
      "Epoch 9/100\n",
      "2812/2812 [==============================] - 657s - loss: 0.0064 - val_loss: 0.0033\n",
      "Epoch 10/100\n",
      "2812/2812 [==============================] - 660s - loss: 0.0063 - val_loss: 0.0019\n",
      "Epoch 11/100\n",
      "2812/2812 [==============================] - 658s - loss: 0.0058 - val_loss: 0.0051\n",
      "Epoch 12/100\n",
      "2812/2812 [==============================] - 658s - loss: 0.0056 - val_loss: 0.0053\n",
      "Epoch 13/100\n",
      "2812/2812 [==============================] - 658s - loss: 0.0054 - val_loss: 0.0067\n",
      "Epoch 14/100\n",
      "2812/2812 [==============================] - 658s - loss: 0.0054 - val_loss: 0.0047\n",
      "Epoch 15/100\n",
      "2812/2812 [==============================] - 661s - loss: 0.0055 - val_loss: 0.0073\n",
      "Epoch 16/100\n",
      "2812/2812 [==============================] - 658s - loss: 0.0053 - val_loss: 0.0055\n",
      "Epoch 17/100\n",
      "2812/2812 [==============================] - 658s - loss: 0.0053 - val_loss: 0.0048\n",
      "Epoch 18/100\n",
      "2812/2812 [==============================] - 658s - loss: 0.0051 - val_loss: 0.0105\n",
      "Epoch 19/100\n",
      "2812/2812 [==============================] - 658s - loss: 0.0044 - val_loss: 0.0103\n",
      "Epoch 20/100\n",
      "2812/2812 [==============================] - 658s - loss: 0.0049 - val_loss: 0.0084\n",
      "Epoch 21/100\n",
      "2812/2812 [==============================] - 659s - loss: 0.0043 - val_loss: 0.0018\n",
      "Epoch 22/100\n",
      "2812/2812 [==============================] - 658s - loss: 0.0052 - val_loss: 0.0076\n",
      "Epoch 23/100\n",
      "2812/2812 [==============================] - 658s - loss: 0.0057 - val_loss: 0.0140\n",
      "Epoch 24/100\n",
      "2812/2812 [==============================] - 658s - loss: 0.0049 - val_loss: 0.0116\n",
      "Epoch 25/100\n",
      "2812/2812 [==============================] - 657s - loss: 0.0046 - val_loss: 0.0124\n",
      "Epoch 26/100\n",
      "2812/2812 [==============================] - 660s - loss: 0.0042 - val_loss: 0.0138\n",
      "Epoch 27/100\n",
      "2812/2812 [==============================] - 656s - loss: 0.0048 - val_loss: 0.0022\n",
      "Epoch 28/100\n",
      "2812/2812 [==============================] - 657s - loss: 0.0041 - val_loss: 0.0050\n",
      "Epoch 29/100\n",
      "2812/2812 [==============================] - 657s - loss: 0.0043 - val_loss: 0.0097\n",
      "Epoch 30/100\n",
      "2812/2812 [==============================] - 657s - loss: 0.0039 - val_loss: 0.0090\n",
      "Epoch 31/100\n",
      "2812/2812 [==============================] - 657s - loss: 0.0043 - val_loss: 0.0116\n",
      "Epoch 32/100\n",
      "2812/2812 [==============================] - 661s - loss: 0.0047 - val_loss: 0.0064\n",
      "Epoch 33/100\n",
      "2812/2812 [==============================] - 660s - loss: 0.0049 - val_loss: 0.0093\n",
      "Epoch 34/100\n",
      "2812/2812 [==============================] - 660s - loss: 0.0035 - val_loss: 0.0066\n",
      "Epoch 35/100\n",
      "2812/2812 [==============================] - 658s - loss: 0.0042 - val_loss: 0.0103\n",
      "Epoch 36/100\n",
      "2812/2812 [==============================] - 659s - loss: 0.0042 - val_loss: 0.0099\n",
      "Epoch 37/100\n",
      "2812/2812 [==============================] - 659s - loss: 0.0051 - val_loss: 0.0125\n",
      "Epoch 38/100\n",
      "2812/2812 [==============================] - 658s - loss: 0.0050 - val_loss: 0.0102\n",
      "Epoch 39/100\n",
      "2812/2812 [==============================] - 658s - loss: 0.0038 - val_loss: 0.0065\n",
      "Epoch 40/100\n",
      "2812/2812 [==============================] - 658s - loss: 0.0037 - val_loss: 0.0104\n",
      "Epoch 41/100\n",
      "2812/2812 [==============================] - 658s - loss: 0.0041 - val_loss: 0.0137\n",
      "Epoch 42/100\n",
      "2812/2812 [==============================] - 658s - loss: 0.0043 - val_loss: 0.0119\n",
      "Epoch 43/100\n",
      "2812/2812 [==============================] - 661s - loss: 0.0034 - val_loss: 0.0052\n",
      "Epoch 44/100\n",
      "2812/2812 [==============================] - 658s - loss: 0.0028 - val_loss: 0.0137\n",
      "Epoch 45/100\n",
      "2812/2812 [==============================] - 658s - loss: 0.0039 - val_loss: 0.0154\n",
      "Epoch 46/100\n",
      "2812/2812 [==============================] - 659s - loss: 0.0037 - val_loss: 0.0137\n",
      "Epoch 47/100\n",
      "2812/2812 [==============================] - 659s - loss: 0.0041 - val_loss: 0.0028\n",
      "Epoch 48/100\n",
      "2812/2812 [==============================] - 660s - loss: 0.0040 - val_loss: 0.0065\n",
      "Epoch 49/100\n",
      "2812/2812 [==============================] - 660s - loss: 0.0037 - val_loss: 0.0085\n",
      "Epoch 50/100\n",
      "2812/2812 [==============================] - 658s - loss: 0.0035 - val_loss: 0.0054\n",
      "Epoch 51/100\n",
      "2812/2812 [==============================] - 658s - loss: 0.0036 - val_loss: 0.0096\n",
      "Epoch 52/100\n",
      "2812/2812 [==============================] - 676s - loss: 0.0042 - val_loss: 0.0088\n",
      "Epoch 53/100\n",
      "2812/2812 [==============================] - 660s - loss: 0.0043 - val_loss: 0.0031\n",
      "Epoch 54/100\n",
      "2812/2812 [==============================] - 680s - loss: 0.0035 - val_loss: 0.0085\n",
      "Epoch 55/100\n",
      "2812/2812 [==============================] - 667s - loss: 0.0050 - val_loss: 0.0110\n",
      "Epoch 56/100\n",
      "2812/2812 [==============================] - 660s - loss: 0.0040 - val_loss: 0.0162\n",
      "Epoch 57/100\n",
      "2812/2812 [==============================] - 659s - loss: 0.0042 - val_loss: 0.0117\n",
      "Epoch 58/100\n",
      "2812/2812 [==============================] - 658s - loss: 0.0035 - val_loss: 0.0134\n",
      "Epoch 59/100\n",
      "2812/2812 [==============================] - 663s - loss: 0.0047 - val_loss: 0.0076\n",
      "Epoch 60/100\n",
      "2812/2812 [==============================] - 660s - loss: 0.0046 - val_loss: 0.0048\n",
      "Epoch 61/100\n",
      "2812/2812 [==============================] - 659s - loss: 0.0048 - val_loss: 0.0080\n",
      "Epoch 62/100\n",
      "2812/2812 [==============================] - 659s - loss: 0.0053 - val_loss: 0.0064\n",
      "Epoch 63/100\n",
      "2812/2812 [==============================] - 659s - loss: 0.0051 - val_loss: 0.0053\n",
      "Epoch 64/100\n",
      "2812/2812 [==============================] - 659s - loss: 0.0041 - val_loss: 0.0051\n",
      "Epoch 65/100\n",
      "2812/2812 [==============================] - 659s - loss: 0.0048 - val_loss: 0.0057\n",
      "Epoch 66/100\n",
      "2812/2812 [==============================] - 659s - loss: 0.0039 - val_loss: 0.0188\n",
      "Epoch 67/100\n",
      "2812/2812 [==============================] - 659s - loss: 0.0042 - val_loss: 0.0094\n",
      "Epoch 68/100\n",
      "2812/2812 [==============================] - 659s - loss: 0.0032 - val_loss: 0.0073\n",
      "Epoch 69/100\n",
      "2812/2812 [==============================] - 660s - loss: 0.0040 - val_loss: 0.0072\n",
      "Epoch 70/100\n",
      "2812/2812 [==============================] - 661s - loss: 0.0051 - val_loss: 0.0052\n",
      "Epoch 71/100\n",
      "2812/2812 [==============================] - 659s - loss: 0.0033 - val_loss: 0.0093\n",
      "Epoch 72/100\n",
      "2812/2812 [==============================] - 659s - loss: 0.0031 - val_loss: 0.0055\n",
      "Epoch 73/100\n",
      "2812/2812 [==============================] - 659s - loss: 0.0030 - val_loss: 0.0105\n",
      "Epoch 74/100\n",
      "2812/2812 [==============================] - 658s - loss: 0.0038 - val_loss: 0.0085\n",
      "Epoch 75/100\n",
      "2812/2812 [==============================] - 659s - loss: 0.0042 - val_loss: 0.0086\n",
      "Epoch 76/100\n",
      "2812/2812 [==============================] - 663s - loss: 0.0043 - val_loss: 0.0035\n",
      "Epoch 77/100\n",
      "2812/2812 [==============================] - 658s - loss: 0.0028 - val_loss: 0.0139\n",
      "Epoch 78/100\n",
      "2812/2812 [==============================] - 658s - loss: 0.0034 - val_loss: 0.0065\n",
      "Epoch 79/100\n",
      "2812/2812 [==============================] - 658s - loss: 0.0030 - val_loss: 0.0124\n",
      "Epoch 80/100\n",
      "2812/2812 [==============================] - 659s - loss: 0.0031 - val_loss: 0.0052\n",
      "Epoch 81/100\n",
      "2812/2812 [==============================] - 663s - loss: 0.0023 - val_loss: 0.0092\n",
      "Epoch 82/100\n",
      "2812/2812 [==============================] - 659s - loss: 0.0024 - val_loss: 0.0052\n",
      "Epoch 83/100\n",
      "2812/2812 [==============================] - 658s - loss: 0.0042 - val_loss: 0.0073\n",
      "Epoch 84/100\n",
      "2812/2812 [==============================] - 658s - loss: 0.0046 - val_loss: 0.0070\n",
      "Epoch 85/100\n"
     ]
    },
    {
     "name": "stdout",
     "output_type": "stream",
     "text": [
      "2812/2812 [==============================] - 655s - loss: 0.0036 - val_loss: 0.0095\n",
      "Epoch 86/100\n",
      "2812/2812 [==============================] - 655s - loss: 0.0025 - val_loss: 0.0057\n",
      "Epoch 87/100\n",
      "2812/2812 [==============================] - 656s - loss: 0.0033 - val_loss: 0.0081\n",
      "Epoch 88/100\n",
      "2812/2812 [==============================] - 697s - loss: 0.0028 - val_loss: 0.0043\n",
      "Epoch 89/100\n",
      "2812/2812 [==============================] - 700s - loss: 0.0030 - val_loss: 0.0061\n",
      "Epoch 90/100\n",
      "2812/2812 [==============================] - 665s - loss: 0.0026 - val_loss: 0.0072\n",
      "Epoch 91/100\n",
      "2812/2812 [==============================] - 665s - loss: 0.0025 - val_loss: 0.0051\n",
      "Epoch 92/100\n",
      "2812/2812 [==============================] - 673s - loss: 0.0028 - val_loss: 0.0045\n",
      "Epoch 93/100\n",
      "2812/2812 [==============================] - 665s - loss: 0.0041 - val_loss: 0.0084\n",
      "Epoch 94/100\n",
      "2812/2812 [==============================] - 673s - loss: 0.0032 - val_loss: 0.0071\n",
      "Epoch 95/100\n",
      "2812/2812 [==============================] - 665s - loss: 0.0055 - val_loss: 0.0056\n",
      "Epoch 96/100\n",
      "2812/2812 [==============================] - 666s - loss: 0.0050 - val_loss: 0.0186\n",
      "Epoch 97/100\n",
      "2812/2812 [==============================] - 669s - loss: 0.0036 - val_loss: 0.0061\n",
      "Epoch 98/100\n",
      "2812/2812 [==============================] - 668s - loss: 0.0054 - val_loss: 0.0156\n",
      "Epoch 99/100\n",
      "2812/2812 [==============================] - 667s - loss: 0.0061 - val_loss: 0.0307\n",
      "Epoch 100/100\n",
      "2812/2812 [==============================] - 666s - loss: 0.0060 - val_loss: 0.0099\n"
     ]
    },
    {
     "data": {
      "text/plain": [
       "<keras.callbacks.History at 0x122a76320>"
      ]
     },
     "execution_count": 18,
     "metadata": {},
     "output_type": "execute_result"
    }
   ],
   "source": [
    "history = \n",
    "    model.fit(\n",
    "        supervised_X.values, \n",
    "        y.values,\n",
    "        epochs=100,\n",
    "        batch_size=batch_size,\n",
    "        verbose=1,\n",
    "        shuffle=False,\n",
    "        validation_split=0.2\n",
    "    )"
   ]
  },
  {
   "cell_type": "code",
   "execution_count": 19,
   "metadata": {
    "collapsed": true
   },
   "outputs": [],
   "source": [
    "model.save(\"Day_LSTM_Trend.h5\")"
   ]
  },
  {
   "cell_type": "code",
   "execution_count": null,
   "metadata": {
    "collapsed": true
   },
   "outputs": [],
   "source": [
    "model."
   ]
  }
 ],
 "metadata": {
  "kernelspec": {
   "display_name": "Python 3",
   "language": "python",
   "name": "python3"
  },
  "language_info": {
   "codemirror_mode": {
    "name": "ipython",
    "version": 3
   },
   "file_extension": ".py",
   "mimetype": "text/x-python",
   "name": "python",
   "nbconvert_exporter": "python",
   "pygments_lexer": "ipython3",
   "version": "3.6.1"
  }
 },
 "nbformat": 4,
 "nbformat_minor": 2
}
